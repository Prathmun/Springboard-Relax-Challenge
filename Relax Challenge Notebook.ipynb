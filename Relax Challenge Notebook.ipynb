{
 "cells": [
  {
   "cell_type": "markdown",
   "id": "handed-island",
   "metadata": {},
   "source": [
    "# Set Up"
   ]
  },
  {
   "cell_type": "code",
   "execution_count": 1,
   "id": "located-style",
   "metadata": {},
   "outputs": [],
   "source": [
    "import pandas as pd\n",
    "import datetime\n",
    "import seaborn as sns\n",
    "import numpy as np\n",
    "import matplotlib.pyplot as plt"
   ]
  },
  {
   "cell_type": "code",
   "execution_count": 95,
   "id": "comic-specification",
   "metadata": {},
   "outputs": [],
   "source": [
    "from sklearn.model_selection import train_test_split"
   ]
  },
  {
   "cell_type": "code",
   "execution_count": 2,
   "id": "bizarre-upper",
   "metadata": {},
   "outputs": [],
   "source": [
    "engagement_df = pd.read_csv('takehome_user_engagement.csv')"
   ]
  },
  {
   "cell_type": "code",
   "execution_count": 3,
   "id": "static-noise",
   "metadata": {},
   "outputs": [
    {
     "data": {
      "text/plain": [
       "(207917, 3)"
      ]
     },
     "execution_count": 3,
     "metadata": {},
     "output_type": "execute_result"
    }
   ],
   "source": [
    "engagement_df.shape"
   ]
  },
  {
   "cell_type": "code",
   "execution_count": 4,
   "id": "fitting-preview",
   "metadata": {
    "scrolled": true
   },
   "outputs": [
    {
     "data": {
      "text/html": [
       "<div>\n",
       "<style scoped>\n",
       "    .dataframe tbody tr th:only-of-type {\n",
       "        vertical-align: middle;\n",
       "    }\n",
       "\n",
       "    .dataframe tbody tr th {\n",
       "        vertical-align: top;\n",
       "    }\n",
       "\n",
       "    .dataframe thead th {\n",
       "        text-align: right;\n",
       "    }\n",
       "</style>\n",
       "<table border=\"1\" class=\"dataframe\">\n",
       "  <thead>\n",
       "    <tr style=\"text-align: right;\">\n",
       "      <th></th>\n",
       "      <th>time_stamp</th>\n",
       "      <th>user_id</th>\n",
       "      <th>visited</th>\n",
       "    </tr>\n",
       "  </thead>\n",
       "  <tbody>\n",
       "    <tr>\n",
       "      <th>0</th>\n",
       "      <td>2014-04-22 03:53:30</td>\n",
       "      <td>1</td>\n",
       "      <td>1</td>\n",
       "    </tr>\n",
       "    <tr>\n",
       "      <th>1</th>\n",
       "      <td>2013-11-15 03:45:04</td>\n",
       "      <td>2</td>\n",
       "      <td>1</td>\n",
       "    </tr>\n",
       "    <tr>\n",
       "      <th>2</th>\n",
       "      <td>2013-11-29 03:45:04</td>\n",
       "      <td>2</td>\n",
       "      <td>1</td>\n",
       "    </tr>\n",
       "  </tbody>\n",
       "</table>\n",
       "</div>"
      ],
      "text/plain": [
       "            time_stamp  user_id  visited\n",
       "0  2014-04-22 03:53:30        1        1\n",
       "1  2013-11-15 03:45:04        2        1\n",
       "2  2013-11-29 03:45:04        2        1"
      ]
     },
     "execution_count": 4,
     "metadata": {},
     "output_type": "execute_result"
    }
   ],
   "source": [
    "engagement_df.head(3)"
   ]
  },
  {
   "cell_type": "markdown",
   "id": "understanding-passing",
   "metadata": {},
   "source": [
    "Okay, so we want to make a column in the users df, that lists the number of unique visits for each user. Unique visits are entries in the engagement df."
   ]
  },
  {
   "cell_type": "code",
   "execution_count": 5,
   "id": "genetic-vegetation",
   "metadata": {
    "scrolled": true
   },
   "outputs": [
    {
     "data": {
      "text/html": [
       "<div>\n",
       "<style scoped>\n",
       "    .dataframe tbody tr th:only-of-type {\n",
       "        vertical-align: middle;\n",
       "    }\n",
       "\n",
       "    .dataframe tbody tr th {\n",
       "        vertical-align: top;\n",
       "    }\n",
       "\n",
       "    .dataframe thead th {\n",
       "        text-align: right;\n",
       "    }\n",
       "</style>\n",
       "<table border=\"1\" class=\"dataframe\">\n",
       "  <thead>\n",
       "    <tr style=\"text-align: right;\">\n",
       "      <th></th>\n",
       "      <th>time_stamp</th>\n",
       "      <th>user_id</th>\n",
       "      <th>visited</th>\n",
       "    </tr>\n",
       "  </thead>\n",
       "  <tbody>\n",
       "    <tr>\n",
       "      <th>1</th>\n",
       "      <td>2013-11-15 03:45:04</td>\n",
       "      <td>2</td>\n",
       "      <td>1</td>\n",
       "    </tr>\n",
       "    <tr>\n",
       "      <th>2</th>\n",
       "      <td>2013-11-29 03:45:04</td>\n",
       "      <td>2</td>\n",
       "      <td>1</td>\n",
       "    </tr>\n",
       "    <tr>\n",
       "      <th>3</th>\n",
       "      <td>2013-12-09 03:45:04</td>\n",
       "      <td>2</td>\n",
       "      <td>1</td>\n",
       "    </tr>\n",
       "    <tr>\n",
       "      <th>4</th>\n",
       "      <td>2013-12-25 03:45:04</td>\n",
       "      <td>2</td>\n",
       "      <td>1</td>\n",
       "    </tr>\n",
       "    <tr>\n",
       "      <th>5</th>\n",
       "      <td>2013-12-31 03:45:04</td>\n",
       "      <td>2</td>\n",
       "      <td>1</td>\n",
       "    </tr>\n",
       "    <tr>\n",
       "      <th>6</th>\n",
       "      <td>2014-01-08 03:45:04</td>\n",
       "      <td>2</td>\n",
       "      <td>1</td>\n",
       "    </tr>\n",
       "    <tr>\n",
       "      <th>7</th>\n",
       "      <td>2014-02-03 03:45:04</td>\n",
       "      <td>2</td>\n",
       "      <td>1</td>\n",
       "    </tr>\n",
       "    <tr>\n",
       "      <th>8</th>\n",
       "      <td>2014-02-08 03:45:04</td>\n",
       "      <td>2</td>\n",
       "      <td>1</td>\n",
       "    </tr>\n",
       "    <tr>\n",
       "      <th>9</th>\n",
       "      <td>2014-02-09 03:45:04</td>\n",
       "      <td>2</td>\n",
       "      <td>1</td>\n",
       "    </tr>\n",
       "    <tr>\n",
       "      <th>10</th>\n",
       "      <td>2014-02-13 03:45:04</td>\n",
       "      <td>2</td>\n",
       "      <td>1</td>\n",
       "    </tr>\n",
       "    <tr>\n",
       "      <th>11</th>\n",
       "      <td>2014-02-16 03:45:04</td>\n",
       "      <td>2</td>\n",
       "      <td>1</td>\n",
       "    </tr>\n",
       "    <tr>\n",
       "      <th>12</th>\n",
       "      <td>2014-03-09 03:45:04</td>\n",
       "      <td>2</td>\n",
       "      <td>1</td>\n",
       "    </tr>\n",
       "    <tr>\n",
       "      <th>13</th>\n",
       "      <td>2014-03-13 03:45:04</td>\n",
       "      <td>2</td>\n",
       "      <td>1</td>\n",
       "    </tr>\n",
       "    <tr>\n",
       "      <th>14</th>\n",
       "      <td>2014-03-31 03:45:04</td>\n",
       "      <td>2</td>\n",
       "      <td>1</td>\n",
       "    </tr>\n",
       "  </tbody>\n",
       "</table>\n",
       "</div>"
      ],
      "text/plain": [
       "             time_stamp  user_id  visited\n",
       "1   2013-11-15 03:45:04        2        1\n",
       "2   2013-11-29 03:45:04        2        1\n",
       "3   2013-12-09 03:45:04        2        1\n",
       "4   2013-12-25 03:45:04        2        1\n",
       "5   2013-12-31 03:45:04        2        1\n",
       "6   2014-01-08 03:45:04        2        1\n",
       "7   2014-02-03 03:45:04        2        1\n",
       "8   2014-02-08 03:45:04        2        1\n",
       "9   2014-02-09 03:45:04        2        1\n",
       "10  2014-02-13 03:45:04        2        1\n",
       "11  2014-02-16 03:45:04        2        1\n",
       "12  2014-03-09 03:45:04        2        1\n",
       "13  2014-03-13 03:45:04        2        1\n",
       "14  2014-03-31 03:45:04        2        1"
      ]
     },
     "execution_count": 5,
     "metadata": {},
     "output_type": "execute_result"
    }
   ],
   "source": [
    "engagement_df[engagement_df.user_id == 2]"
   ]
  },
  {
   "cell_type": "code",
   "execution_count": 6,
   "id": "elegant-integral",
   "metadata": {},
   "outputs": [
    {
     "data": {
      "text/plain": [
       "1    207917\n",
       "Name: visited, dtype: int64"
      ]
     },
     "execution_count": 6,
     "metadata": {},
     "output_type": "execute_result"
    }
   ],
   "source": [
    "engagement_df.visited.value_counts()"
   ]
  },
  {
   "cell_type": "markdown",
   "id": "infectious-fundamental",
   "metadata": {},
   "source": [
    "# Adoption Exporation"
   ]
  },
  {
   "cell_type": "code",
   "execution_count": 7,
   "id": "alpha-norwegian",
   "metadata": {
    "scrolled": true
   },
   "outputs": [
    {
     "data": {
      "text/plain": [
       "2047     1\n",
       "10040    1\n",
       "5822     1\n",
       "3773     1\n",
       "6763     1\n",
       "7743     1\n",
       "5694     1\n",
       "1596     1\n",
       "11833    1\n",
       "10861    1\n",
       "3901     1\n",
       "5566     1\n",
       "1468     1\n",
       "11705    1\n",
       "9656     1\n",
       "7487     1\n",
       "5438     1\n",
       "4842     1\n",
       "11577    1\n",
       "872      1\n",
       "Name: user_id, dtype: int64"
      ]
     },
     "execution_count": 7,
     "metadata": {},
     "output_type": "execute_result"
    }
   ],
   "source": [
    "engagement_df.user_id.value_counts(sort=True, ascending=True).head(20)"
   ]
  },
  {
   "cell_type": "code",
   "execution_count": 8,
   "id": "extensive-westminster",
   "metadata": {},
   "outputs": [],
   "source": [
    "users_df = pd.read_csv('takehome_users.csv', encoding='latin-1')"
   ]
  },
  {
   "cell_type": "code",
   "execution_count": 9,
   "id": "extended-earth",
   "metadata": {},
   "outputs": [
    {
     "data": {
      "text/plain": [
       "(12000, 10)"
      ]
     },
     "execution_count": 9,
     "metadata": {},
     "output_type": "execute_result"
    }
   ],
   "source": [
    "users_df.shape"
   ]
  },
  {
   "cell_type": "code",
   "execution_count": 10,
   "id": "horizontal-fantasy",
   "metadata": {},
   "outputs": [
    {
     "data": {
      "text/plain": [
       "Index(['object_id', 'creation_time', 'name', 'email', 'creation_source',\n",
       "       'last_session_creation_time', 'opted_in_to_mailing_list',\n",
       "       'enabled_for_marketing_drip', 'org_id', 'invited_by_user_id'],\n",
       "      dtype='object')"
      ]
     },
     "execution_count": 10,
     "metadata": {},
     "output_type": "execute_result"
    }
   ],
   "source": [
    "users_df.columns"
   ]
  },
  {
   "cell_type": "code",
   "execution_count": 11,
   "id": "adult-gravity",
   "metadata": {},
   "outputs": [
    {
     "data": {
      "text/html": [
       "<div>\n",
       "<style scoped>\n",
       "    .dataframe tbody tr th:only-of-type {\n",
       "        vertical-align: middle;\n",
       "    }\n",
       "\n",
       "    .dataframe tbody tr th {\n",
       "        vertical-align: top;\n",
       "    }\n",
       "\n",
       "    .dataframe thead th {\n",
       "        text-align: right;\n",
       "    }\n",
       "</style>\n",
       "<table border=\"1\" class=\"dataframe\">\n",
       "  <thead>\n",
       "    <tr style=\"text-align: right;\">\n",
       "      <th></th>\n",
       "      <th>object_id</th>\n",
       "      <th>creation_time</th>\n",
       "      <th>name</th>\n",
       "      <th>email</th>\n",
       "      <th>creation_source</th>\n",
       "      <th>last_session_creation_time</th>\n",
       "      <th>opted_in_to_mailing_list</th>\n",
       "      <th>enabled_for_marketing_drip</th>\n",
       "      <th>org_id</th>\n",
       "      <th>invited_by_user_id</th>\n",
       "    </tr>\n",
       "  </thead>\n",
       "  <tbody>\n",
       "    <tr>\n",
       "      <th>0</th>\n",
       "      <td>1</td>\n",
       "      <td>2014-04-22 03:53:30</td>\n",
       "      <td>Clausen August</td>\n",
       "      <td>AugustCClausen@yahoo.com</td>\n",
       "      <td>GUEST_INVITE</td>\n",
       "      <td>1.398139e+09</td>\n",
       "      <td>1</td>\n",
       "      <td>0</td>\n",
       "      <td>11</td>\n",
       "      <td>10803.0</td>\n",
       "    </tr>\n",
       "    <tr>\n",
       "      <th>1</th>\n",
       "      <td>2</td>\n",
       "      <td>2013-11-15 03:45:04</td>\n",
       "      <td>Poole Matthew</td>\n",
       "      <td>MatthewPoole@gustr.com</td>\n",
       "      <td>ORG_INVITE</td>\n",
       "      <td>1.396238e+09</td>\n",
       "      <td>0</td>\n",
       "      <td>0</td>\n",
       "      <td>1</td>\n",
       "      <td>316.0</td>\n",
       "    </tr>\n",
       "    <tr>\n",
       "      <th>2</th>\n",
       "      <td>3</td>\n",
       "      <td>2013-03-19 23:14:52</td>\n",
       "      <td>Bottrill Mitchell</td>\n",
       "      <td>MitchellBottrill@gustr.com</td>\n",
       "      <td>ORG_INVITE</td>\n",
       "      <td>1.363735e+09</td>\n",
       "      <td>0</td>\n",
       "      <td>0</td>\n",
       "      <td>94</td>\n",
       "      <td>1525.0</td>\n",
       "    </tr>\n",
       "  </tbody>\n",
       "</table>\n",
       "</div>"
      ],
      "text/plain": [
       "   object_id        creation_time               name  \\\n",
       "0          1  2014-04-22 03:53:30     Clausen August   \n",
       "1          2  2013-11-15 03:45:04      Poole Matthew   \n",
       "2          3  2013-03-19 23:14:52  Bottrill Mitchell   \n",
       "\n",
       "                        email creation_source  last_session_creation_time  \\\n",
       "0    AugustCClausen@yahoo.com    GUEST_INVITE                1.398139e+09   \n",
       "1      MatthewPoole@gustr.com      ORG_INVITE                1.396238e+09   \n",
       "2  MitchellBottrill@gustr.com      ORG_INVITE                1.363735e+09   \n",
       "\n",
       "   opted_in_to_mailing_list  enabled_for_marketing_drip  org_id  \\\n",
       "0                         1                           0      11   \n",
       "1                         0                           0       1   \n",
       "2                         0                           0      94   \n",
       "\n",
       "   invited_by_user_id  \n",
       "0             10803.0  \n",
       "1               316.0  \n",
       "2              1525.0  "
      ]
     },
     "execution_count": 11,
     "metadata": {},
     "output_type": "execute_result"
    }
   ],
   "source": [
    "users_df.head(3)"
   ]
  },
  {
   "cell_type": "code",
   "execution_count": 12,
   "id": "annoying-tobago",
   "metadata": {},
   "outputs": [
    {
     "data": {
      "text/plain": [
       "2049     1\n",
       "10912    1\n",
       "661      1\n",
       "6806     1\n",
       "4759     1\n",
       "        ..\n",
       "7481     1\n",
       "1338     1\n",
       "3387     1\n",
       "9534     1\n",
       "2047     1\n",
       "Name: object_id, Length: 12000, dtype: int64"
      ]
     },
     "execution_count": 12,
     "metadata": {},
     "output_type": "execute_result"
    }
   ],
   "source": [
    "users_df.object_id.value_counts()"
   ]
  },
  {
   "cell_type": "code",
   "execution_count": 13,
   "id": "egyptian-fellowship",
   "metadata": {
    "scrolled": true
   },
   "outputs": [
    {
     "data": {
      "text/html": [
       "<div>\n",
       "<style scoped>\n",
       "    .dataframe tbody tr th:only-of-type {\n",
       "        vertical-align: middle;\n",
       "    }\n",
       "\n",
       "    .dataframe tbody tr th {\n",
       "        vertical-align: top;\n",
       "    }\n",
       "\n",
       "    .dataframe thead th {\n",
       "        text-align: right;\n",
       "    }\n",
       "</style>\n",
       "<table border=\"1\" class=\"dataframe\">\n",
       "  <thead>\n",
       "    <tr style=\"text-align: right;\">\n",
       "      <th></th>\n",
       "      <th>time_stamp</th>\n",
       "      <th>visited</th>\n",
       "    </tr>\n",
       "    <tr>\n",
       "      <th>user_id</th>\n",
       "      <th></th>\n",
       "      <th></th>\n",
       "    </tr>\n",
       "  </thead>\n",
       "  <tbody>\n",
       "    <tr>\n",
       "      <th>3623</th>\n",
       "      <td>606</td>\n",
       "      <td>606</td>\n",
       "    </tr>\n",
       "    <tr>\n",
       "      <th>906</th>\n",
       "      <td>600</td>\n",
       "      <td>600</td>\n",
       "    </tr>\n",
       "    <tr>\n",
       "      <th>1811</th>\n",
       "      <td>593</td>\n",
       "      <td>593</td>\n",
       "    </tr>\n",
       "    <tr>\n",
       "      <th>7590</th>\n",
       "      <td>590</td>\n",
       "      <td>590</td>\n",
       "    </tr>\n",
       "    <tr>\n",
       "      <th>8068</th>\n",
       "      <td>585</td>\n",
       "      <td>585</td>\n",
       "    </tr>\n",
       "    <tr>\n",
       "      <th>...</th>\n",
       "      <td>...</td>\n",
       "      <td>...</td>\n",
       "    </tr>\n",
       "    <tr>\n",
       "      <th>4699</th>\n",
       "      <td>1</td>\n",
       "      <td>1</td>\n",
       "    </tr>\n",
       "    <tr>\n",
       "      <th>4698</th>\n",
       "      <td>1</td>\n",
       "      <td>1</td>\n",
       "    </tr>\n",
       "    <tr>\n",
       "      <th>4697</th>\n",
       "      <td>1</td>\n",
       "      <td>1</td>\n",
       "    </tr>\n",
       "    <tr>\n",
       "      <th>4696</th>\n",
       "      <td>1</td>\n",
       "      <td>1</td>\n",
       "    </tr>\n",
       "    <tr>\n",
       "      <th>12000</th>\n",
       "      <td>1</td>\n",
       "      <td>1</td>\n",
       "    </tr>\n",
       "  </tbody>\n",
       "</table>\n",
       "<p>8823 rows × 2 columns</p>\n",
       "</div>"
      ],
      "text/plain": [
       "         time_stamp  visited\n",
       "user_id                     \n",
       "3623            606      606\n",
       "906             600      600\n",
       "1811            593      593\n",
       "7590            590      590\n",
       "8068            585      585\n",
       "...             ...      ...\n",
       "4699              1        1\n",
       "4698              1        1\n",
       "4697              1        1\n",
       "4696              1        1\n",
       "12000             1        1\n",
       "\n",
       "[8823 rows x 2 columns]"
      ]
     },
     "execution_count": 13,
     "metadata": {},
     "output_type": "execute_result"
    }
   ],
   "source": [
    "In [36]: engagement_df.groupby([\"user_id\"]).count().sort_values([\"visited\"], ascending=False)"
   ]
  },
  {
   "cell_type": "code",
   "execution_count": 14,
   "id": "cross-ability",
   "metadata": {},
   "outputs": [],
   "source": [
    "user_visits = engagement_df.groupby([\"user_id\"]).count()"
   ]
  },
  {
   "cell_type": "code",
   "execution_count": 15,
   "id": "shaped-logic",
   "metadata": {
    "scrolled": true
   },
   "outputs": [
    {
     "data": {
      "text/html": [
       "<div>\n",
       "<style scoped>\n",
       "    .dataframe tbody tr th:only-of-type {\n",
       "        vertical-align: middle;\n",
       "    }\n",
       "\n",
       "    .dataframe tbody tr th {\n",
       "        vertical-align: top;\n",
       "    }\n",
       "\n",
       "    .dataframe thead th {\n",
       "        text-align: right;\n",
       "    }\n",
       "</style>\n",
       "<table border=\"1\" class=\"dataframe\">\n",
       "  <thead>\n",
       "    <tr style=\"text-align: right;\">\n",
       "      <th></th>\n",
       "      <th>time_stamp</th>\n",
       "      <th>visited</th>\n",
       "    </tr>\n",
       "    <tr>\n",
       "      <th>user_id</th>\n",
       "      <th></th>\n",
       "      <th></th>\n",
       "    </tr>\n",
       "  </thead>\n",
       "  <tbody>\n",
       "    <tr>\n",
       "      <th>1</th>\n",
       "      <td>1</td>\n",
       "      <td>1</td>\n",
       "    </tr>\n",
       "    <tr>\n",
       "      <th>2</th>\n",
       "      <td>14</td>\n",
       "      <td>14</td>\n",
       "    </tr>\n",
       "    <tr>\n",
       "      <th>3</th>\n",
       "      <td>1</td>\n",
       "      <td>1</td>\n",
       "    </tr>\n",
       "  </tbody>\n",
       "</table>\n",
       "</div>"
      ],
      "text/plain": [
       "         time_stamp  visited\n",
       "user_id                     \n",
       "1                 1        1\n",
       "2                14       14\n",
       "3                 1        1"
      ]
     },
     "execution_count": 15,
     "metadata": {},
     "output_type": "execute_result"
    }
   ],
   "source": [
    "user_visits.head(3)"
   ]
  },
  {
   "cell_type": "code",
   "execution_count": 16,
   "id": "czech-velvet",
   "metadata": {},
   "outputs": [],
   "source": [
    "user_visits = user_visits.reset_index()"
   ]
  },
  {
   "cell_type": "code",
   "execution_count": 17,
   "id": "streaming-shepherd",
   "metadata": {},
   "outputs": [
    {
     "data": {
      "text/html": [
       "<div>\n",
       "<style scoped>\n",
       "    .dataframe tbody tr th:only-of-type {\n",
       "        vertical-align: middle;\n",
       "    }\n",
       "\n",
       "    .dataframe tbody tr th {\n",
       "        vertical-align: top;\n",
       "    }\n",
       "\n",
       "    .dataframe thead th {\n",
       "        text-align: right;\n",
       "    }\n",
       "</style>\n",
       "<table border=\"1\" class=\"dataframe\">\n",
       "  <thead>\n",
       "    <tr style=\"text-align: right;\">\n",
       "      <th></th>\n",
       "      <th>user_id</th>\n",
       "      <th>time_stamp</th>\n",
       "      <th>visited</th>\n",
       "    </tr>\n",
       "  </thead>\n",
       "  <tbody>\n",
       "    <tr>\n",
       "      <th>0</th>\n",
       "      <td>1</td>\n",
       "      <td>1</td>\n",
       "      <td>1</td>\n",
       "    </tr>\n",
       "    <tr>\n",
       "      <th>1</th>\n",
       "      <td>2</td>\n",
       "      <td>14</td>\n",
       "      <td>14</td>\n",
       "    </tr>\n",
       "    <tr>\n",
       "      <th>2</th>\n",
       "      <td>3</td>\n",
       "      <td>1</td>\n",
       "      <td>1</td>\n",
       "    </tr>\n",
       "    <tr>\n",
       "      <th>3</th>\n",
       "      <td>4</td>\n",
       "      <td>1</td>\n",
       "      <td>1</td>\n",
       "    </tr>\n",
       "    <tr>\n",
       "      <th>4</th>\n",
       "      <td>5</td>\n",
       "      <td>1</td>\n",
       "      <td>1</td>\n",
       "    </tr>\n",
       "  </tbody>\n",
       "</table>\n",
       "</div>"
      ],
      "text/plain": [
       "   user_id  time_stamp  visited\n",
       "0        1           1        1\n",
       "1        2          14       14\n",
       "2        3           1        1\n",
       "3        4           1        1\n",
       "4        5           1        1"
      ]
     },
     "execution_count": 17,
     "metadata": {},
     "output_type": "execute_result"
    }
   ],
   "source": [
    "user_visits.head(5)"
   ]
  },
  {
   "cell_type": "code",
   "execution_count": 18,
   "id": "mathematical-minute",
   "metadata": {},
   "outputs": [],
   "source": [
    "test = int(user_visits.loc[user_visits['user_id'] == 2].visited)"
   ]
  },
  {
   "cell_type": "code",
   "execution_count": 19,
   "id": "extra-distribution",
   "metadata": {},
   "outputs": [
    {
     "name": "stdout",
     "output_type": "stream",
     "text": [
      "14\n"
     ]
    },
    {
     "data": {
      "text/plain": [
       "int"
      ]
     },
     "execution_count": 19,
     "metadata": {},
     "output_type": "execute_result"
    }
   ],
   "source": [
    "print(test)\n",
    "type(test)"
   ]
  },
  {
   "cell_type": "markdown",
   "id": "flying-terrorist",
   "metadata": {},
   "source": [
    "# Manufacture of adopted user column"
   ]
  },
  {
   "cell_type": "code",
   "execution_count": 20,
   "id": "incorporate-coalition",
   "metadata": {},
   "outputs": [],
   "source": [
    "def count_adder(value):\n",
    "    visit_count = 0\n",
    "    try:\n",
    "        visit_count = int(user_visits.loc[user_visits['user_id'] == value].visited)\n",
    "    except TypeError:\n",
    "        return 0\n",
    "    if visit_count >= 3:\n",
    "        return 1\n",
    "    return 0\n",
    "    \n",
    "    \n",
    "    \n",
    "    "
   ]
  },
  {
   "cell_type": "code",
   "execution_count": 21,
   "id": "generous-pastor",
   "metadata": {},
   "outputs": [
    {
     "data": {
      "text/plain": [
       "Index(['object_id', 'creation_time', 'name', 'email', 'creation_source',\n",
       "       'last_session_creation_time', 'opted_in_to_mailing_list',\n",
       "       'enabled_for_marketing_drip', 'org_id', 'invited_by_user_id'],\n",
       "      dtype='object')"
      ]
     },
     "execution_count": 21,
     "metadata": {},
     "output_type": "execute_result"
    }
   ],
   "source": [
    "users_df.columns"
   ]
  },
  {
   "cell_type": "code",
   "execution_count": 22,
   "id": "wrapped-browse",
   "metadata": {},
   "outputs": [
    {
     "data": {
      "text/plain": [
       "1     6235\n",
       "2      340\n",
       "3      241\n",
       "4      181\n",
       "5      110\n",
       "6       85\n",
       "7       68\n",
       "8       57\n",
       "9       48\n",
       "10      34\n",
       "14      30\n",
       "13      29\n",
       "12      29\n",
       "11      26\n",
       "22      23\n",
       "16      20\n",
       "25      19\n",
       "17      18\n",
       "23      18\n",
       "18      18\n",
       "20      16\n",
       "24      15\n",
       "26      15\n",
       "21      15\n",
       "27      13\n",
       "Name: visited, dtype: int64"
      ]
     },
     "execution_count": 22,
     "metadata": {},
     "output_type": "execute_result"
    }
   ],
   "source": [
    "user_visits.visited.value_counts().head(25)"
   ]
  },
  {
   "cell_type": "markdown",
   "id": "suspected-buying",
   "metadata": {},
   "source": [
    "This is good, but needs to account for it being within a 7 day period"
   ]
  },
  {
   "cell_type": "code",
   "execution_count": 23,
   "id": "express-indication",
   "metadata": {},
   "outputs": [],
   "source": [
    "engagement_df['atemp_adopted_user'] = engagement_df.user_id.apply(count_adder)"
   ]
  },
  {
   "cell_type": "code",
   "execution_count": 24,
   "id": "willing-identification",
   "metadata": {},
   "outputs": [
    {
     "data": {
      "text/html": [
       "<div>\n",
       "<style scoped>\n",
       "    .dataframe tbody tr th:only-of-type {\n",
       "        vertical-align: middle;\n",
       "    }\n",
       "\n",
       "    .dataframe tbody tr th {\n",
       "        vertical-align: top;\n",
       "    }\n",
       "\n",
       "    .dataframe thead th {\n",
       "        text-align: right;\n",
       "    }\n",
       "</style>\n",
       "<table border=\"1\" class=\"dataframe\">\n",
       "  <thead>\n",
       "    <tr style=\"text-align: right;\">\n",
       "      <th></th>\n",
       "      <th>time_stamp</th>\n",
       "      <th>user_id</th>\n",
       "      <th>visited</th>\n",
       "      <th>atemp_adopted_user</th>\n",
       "    </tr>\n",
       "  </thead>\n",
       "  <tbody>\n",
       "    <tr>\n",
       "      <th>0</th>\n",
       "      <td>2014-04-22 03:53:30</td>\n",
       "      <td>1</td>\n",
       "      <td>1</td>\n",
       "      <td>0</td>\n",
       "    </tr>\n",
       "    <tr>\n",
       "      <th>1</th>\n",
       "      <td>2013-11-15 03:45:04</td>\n",
       "      <td>2</td>\n",
       "      <td>1</td>\n",
       "      <td>1</td>\n",
       "    </tr>\n",
       "    <tr>\n",
       "      <th>2</th>\n",
       "      <td>2013-11-29 03:45:04</td>\n",
       "      <td>2</td>\n",
       "      <td>1</td>\n",
       "      <td>1</td>\n",
       "    </tr>\n",
       "    <tr>\n",
       "      <th>3</th>\n",
       "      <td>2013-12-09 03:45:04</td>\n",
       "      <td>2</td>\n",
       "      <td>1</td>\n",
       "      <td>1</td>\n",
       "    </tr>\n",
       "    <tr>\n",
       "      <th>4</th>\n",
       "      <td>2013-12-25 03:45:04</td>\n",
       "      <td>2</td>\n",
       "      <td>1</td>\n",
       "      <td>1</td>\n",
       "    </tr>\n",
       "    <tr>\n",
       "      <th>5</th>\n",
       "      <td>2013-12-31 03:45:04</td>\n",
       "      <td>2</td>\n",
       "      <td>1</td>\n",
       "      <td>1</td>\n",
       "    </tr>\n",
       "    <tr>\n",
       "      <th>6</th>\n",
       "      <td>2014-01-08 03:45:04</td>\n",
       "      <td>2</td>\n",
       "      <td>1</td>\n",
       "      <td>1</td>\n",
       "    </tr>\n",
       "    <tr>\n",
       "      <th>7</th>\n",
       "      <td>2014-02-03 03:45:04</td>\n",
       "      <td>2</td>\n",
       "      <td>1</td>\n",
       "      <td>1</td>\n",
       "    </tr>\n",
       "    <tr>\n",
       "      <th>8</th>\n",
       "      <td>2014-02-08 03:45:04</td>\n",
       "      <td>2</td>\n",
       "      <td>1</td>\n",
       "      <td>1</td>\n",
       "    </tr>\n",
       "    <tr>\n",
       "      <th>9</th>\n",
       "      <td>2014-02-09 03:45:04</td>\n",
       "      <td>2</td>\n",
       "      <td>1</td>\n",
       "      <td>1</td>\n",
       "    </tr>\n",
       "    <tr>\n",
       "      <th>10</th>\n",
       "      <td>2014-02-13 03:45:04</td>\n",
       "      <td>2</td>\n",
       "      <td>1</td>\n",
       "      <td>1</td>\n",
       "    </tr>\n",
       "    <tr>\n",
       "      <th>11</th>\n",
       "      <td>2014-02-16 03:45:04</td>\n",
       "      <td>2</td>\n",
       "      <td>1</td>\n",
       "      <td>1</td>\n",
       "    </tr>\n",
       "    <tr>\n",
       "      <th>12</th>\n",
       "      <td>2014-03-09 03:45:04</td>\n",
       "      <td>2</td>\n",
       "      <td>1</td>\n",
       "      <td>1</td>\n",
       "    </tr>\n",
       "    <tr>\n",
       "      <th>13</th>\n",
       "      <td>2014-03-13 03:45:04</td>\n",
       "      <td>2</td>\n",
       "      <td>1</td>\n",
       "      <td>1</td>\n",
       "    </tr>\n",
       "    <tr>\n",
       "      <th>14</th>\n",
       "      <td>2014-03-31 03:45:04</td>\n",
       "      <td>2</td>\n",
       "      <td>1</td>\n",
       "      <td>1</td>\n",
       "    </tr>\n",
       "    <tr>\n",
       "      <th>15</th>\n",
       "      <td>2013-03-19 23:14:52</td>\n",
       "      <td>3</td>\n",
       "      <td>1</td>\n",
       "      <td>0</td>\n",
       "    </tr>\n",
       "    <tr>\n",
       "      <th>16</th>\n",
       "      <td>2013-05-22 08:09:28</td>\n",
       "      <td>4</td>\n",
       "      <td>1</td>\n",
       "      <td>0</td>\n",
       "    </tr>\n",
       "    <tr>\n",
       "      <th>17</th>\n",
       "      <td>2013-01-22 10:14:20</td>\n",
       "      <td>5</td>\n",
       "      <td>1</td>\n",
       "      <td>0</td>\n",
       "    </tr>\n",
       "    <tr>\n",
       "      <th>18</th>\n",
       "      <td>2013-12-19 03:37:06</td>\n",
       "      <td>6</td>\n",
       "      <td>1</td>\n",
       "      <td>0</td>\n",
       "    </tr>\n",
       "    <tr>\n",
       "      <th>19</th>\n",
       "      <td>2012-12-20 13:24:32</td>\n",
       "      <td>7</td>\n",
       "      <td>1</td>\n",
       "      <td>0</td>\n",
       "    </tr>\n",
       "  </tbody>\n",
       "</table>\n",
       "</div>"
      ],
      "text/plain": [
       "             time_stamp  user_id  visited  atemp_adopted_user\n",
       "0   2014-04-22 03:53:30        1        1                   0\n",
       "1   2013-11-15 03:45:04        2        1                   1\n",
       "2   2013-11-29 03:45:04        2        1                   1\n",
       "3   2013-12-09 03:45:04        2        1                   1\n",
       "4   2013-12-25 03:45:04        2        1                   1\n",
       "5   2013-12-31 03:45:04        2        1                   1\n",
       "6   2014-01-08 03:45:04        2        1                   1\n",
       "7   2014-02-03 03:45:04        2        1                   1\n",
       "8   2014-02-08 03:45:04        2        1                   1\n",
       "9   2014-02-09 03:45:04        2        1                   1\n",
       "10  2014-02-13 03:45:04        2        1                   1\n",
       "11  2014-02-16 03:45:04        2        1                   1\n",
       "12  2014-03-09 03:45:04        2        1                   1\n",
       "13  2014-03-13 03:45:04        2        1                   1\n",
       "14  2014-03-31 03:45:04        2        1                   1\n",
       "15  2013-03-19 23:14:52        3        1                   0\n",
       "16  2013-05-22 08:09:28        4        1                   0\n",
       "17  2013-01-22 10:14:20        5        1                   0\n",
       "18  2013-12-19 03:37:06        6        1                   0\n",
       "19  2012-12-20 13:24:32        7        1                   0"
      ]
     },
     "execution_count": 24,
     "metadata": {},
     "output_type": "execute_result"
    }
   ],
   "source": [
    "engagement_df.head(20)"
   ]
  },
  {
   "cell_type": "code",
   "execution_count": 25,
   "id": "stock-egypt",
   "metadata": {},
   "outputs": [],
   "source": [
    "adoptee_df = engagement_df[engagement_df.atemp_adopted_user > 0]"
   ]
  },
  {
   "cell_type": "code",
   "execution_count": 26,
   "id": "specified-aerospace",
   "metadata": {
    "scrolled": false
   },
   "outputs": [
    {
     "name": "stdout",
     "output_type": "stream",
     "text": [
      "(201002, 4)\n"
     ]
    },
    {
     "data": {
      "text/html": [
       "<div>\n",
       "<style scoped>\n",
       "    .dataframe tbody tr th:only-of-type {\n",
       "        vertical-align: middle;\n",
       "    }\n",
       "\n",
       "    .dataframe tbody tr th {\n",
       "        vertical-align: top;\n",
       "    }\n",
       "\n",
       "    .dataframe thead th {\n",
       "        text-align: right;\n",
       "    }\n",
       "</style>\n",
       "<table border=\"1\" class=\"dataframe\">\n",
       "  <thead>\n",
       "    <tr style=\"text-align: right;\">\n",
       "      <th></th>\n",
       "      <th>time_stamp</th>\n",
       "      <th>user_id</th>\n",
       "      <th>visited</th>\n",
       "      <th>atemp_adopted_user</th>\n",
       "    </tr>\n",
       "  </thead>\n",
       "  <tbody>\n",
       "    <tr>\n",
       "      <th>1</th>\n",
       "      <td>2013-11-15 03:45:04</td>\n",
       "      <td>2</td>\n",
       "      <td>1</td>\n",
       "      <td>1</td>\n",
       "    </tr>\n",
       "    <tr>\n",
       "      <th>2</th>\n",
       "      <td>2013-11-29 03:45:04</td>\n",
       "      <td>2</td>\n",
       "      <td>1</td>\n",
       "      <td>1</td>\n",
       "    </tr>\n",
       "    <tr>\n",
       "      <th>3</th>\n",
       "      <td>2013-12-09 03:45:04</td>\n",
       "      <td>2</td>\n",
       "      <td>1</td>\n",
       "      <td>1</td>\n",
       "    </tr>\n",
       "    <tr>\n",
       "      <th>4</th>\n",
       "      <td>2013-12-25 03:45:04</td>\n",
       "      <td>2</td>\n",
       "      <td>1</td>\n",
       "      <td>1</td>\n",
       "    </tr>\n",
       "    <tr>\n",
       "      <th>5</th>\n",
       "      <td>2013-12-31 03:45:04</td>\n",
       "      <td>2</td>\n",
       "      <td>1</td>\n",
       "      <td>1</td>\n",
       "    </tr>\n",
       "    <tr>\n",
       "      <th>6</th>\n",
       "      <td>2014-01-08 03:45:04</td>\n",
       "      <td>2</td>\n",
       "      <td>1</td>\n",
       "      <td>1</td>\n",
       "    </tr>\n",
       "    <tr>\n",
       "      <th>7</th>\n",
       "      <td>2014-02-03 03:45:04</td>\n",
       "      <td>2</td>\n",
       "      <td>1</td>\n",
       "      <td>1</td>\n",
       "    </tr>\n",
       "    <tr>\n",
       "      <th>8</th>\n",
       "      <td>2014-02-08 03:45:04</td>\n",
       "      <td>2</td>\n",
       "      <td>1</td>\n",
       "      <td>1</td>\n",
       "    </tr>\n",
       "    <tr>\n",
       "      <th>9</th>\n",
       "      <td>2014-02-09 03:45:04</td>\n",
       "      <td>2</td>\n",
       "      <td>1</td>\n",
       "      <td>1</td>\n",
       "    </tr>\n",
       "    <tr>\n",
       "      <th>10</th>\n",
       "      <td>2014-02-13 03:45:04</td>\n",
       "      <td>2</td>\n",
       "      <td>1</td>\n",
       "      <td>1</td>\n",
       "    </tr>\n",
       "  </tbody>\n",
       "</table>\n",
       "</div>"
      ],
      "text/plain": [
       "             time_stamp  user_id  visited  atemp_adopted_user\n",
       "1   2013-11-15 03:45:04        2        1                   1\n",
       "2   2013-11-29 03:45:04        2        1                   1\n",
       "3   2013-12-09 03:45:04        2        1                   1\n",
       "4   2013-12-25 03:45:04        2        1                   1\n",
       "5   2013-12-31 03:45:04        2        1                   1\n",
       "6   2014-01-08 03:45:04        2        1                   1\n",
       "7   2014-02-03 03:45:04        2        1                   1\n",
       "8   2014-02-08 03:45:04        2        1                   1\n",
       "9   2014-02-09 03:45:04        2        1                   1\n",
       "10  2014-02-13 03:45:04        2        1                   1"
      ]
     },
     "execution_count": 26,
     "metadata": {},
     "output_type": "execute_result"
    }
   ],
   "source": [
    "print(adoptee_df.shape)\n",
    "adoptee_df.head(10)"
   ]
  },
  {
   "cell_type": "code",
   "execution_count": 27,
   "id": "handed-sauce",
   "metadata": {},
   "outputs": [
    {
     "data": {
      "text/plain": [
       "2248"
      ]
     },
     "execution_count": 27,
     "metadata": {},
     "output_type": "execute_result"
    }
   ],
   "source": [
    "len(adoptee_df.user_id.unique())"
   ]
  },
  {
   "cell_type": "code",
   "execution_count": 28,
   "id": "sonic-lyric",
   "metadata": {},
   "outputs": [
    {
     "data": {
      "text/plain": [
       "8823"
      ]
     },
     "execution_count": 28,
     "metadata": {},
     "output_type": "execute_result"
    }
   ],
   "source": [
    "len(engagement_df.user_id.unique())"
   ]
  },
  {
   "cell_type": "code",
   "execution_count": 29,
   "id": "lasting-deviation",
   "metadata": {},
   "outputs": [
    {
     "name": "stderr",
     "output_type": "stream",
     "text": [
      "<ipython-input-29-55e2eb7751f8>:1: SettingWithCopyWarning: \n",
      "A value is trying to be set on a copy of a slice from a DataFrame.\n",
      "Try using .loc[row_indexer,col_indexer] = value instead\n",
      "\n",
      "See the caveats in the documentation: https://pandas.pydata.org/pandas-docs/stable/user_guide/indexing.html#returning-a-view-versus-a-copy\n",
      "  adoptee_df['datetime'] = pd.to_datetime(adoptee_df['time_stamp'])\n"
     ]
    }
   ],
   "source": [
    "adoptee_df['datetime'] = pd.to_datetime(adoptee_df['time_stamp'])"
   ]
  },
  {
   "cell_type": "code",
   "execution_count": 30,
   "id": "floating-repository",
   "metadata": {},
   "outputs": [
    {
     "data": {
      "text/plain": [
       "Timestamp('2013-11-29 03:45:04')"
      ]
     },
     "execution_count": 30,
     "metadata": {},
     "output_type": "execute_result"
    }
   ],
   "source": [
    "adoptee_df.datetime.iloc[1]"
   ]
  },
  {
   "cell_type": "code",
   "execution_count": 31,
   "id": "literary-contest",
   "metadata": {
    "scrolled": true
   },
   "outputs": [
    {
     "data": {
      "text/plain": [
       "Timedelta('-10 days +00:00:00')"
      ]
     },
     "execution_count": 31,
     "metadata": {},
     "output_type": "execute_result"
    }
   ],
   "source": [
    "adoptee_df.datetime.iloc[1]-adoptee_df.datetime.iloc[2]"
   ]
  },
  {
   "cell_type": "code",
   "execution_count": 32,
   "id": "hairy-terrace",
   "metadata": {},
   "outputs": [
    {
     "data": {
      "text/plain": [
       "array([    2,    10,    20, ..., 11981, 11988, 11991], dtype=int64)"
      ]
     },
     "execution_count": 32,
     "metadata": {},
     "output_type": "execute_result"
    }
   ],
   "source": [
    "adoptee_df.user_id.unique()"
   ]
  },
  {
   "cell_type": "code",
   "execution_count": 33,
   "id": "overhead-camel",
   "metadata": {},
   "outputs": [],
   "source": [
    "potential_dict = {}\n",
    "for each in adoptee_df.user_id.unique():\n",
    "    potential_dict[each] = []"
   ]
  },
  {
   "cell_type": "code",
   "execution_count": 34,
   "id": "outer-saturday",
   "metadata": {
    "scrolled": true
   },
   "outputs": [
    {
     "data": {
      "text/plain": [
       "1    2013-11-15 03:45:04\n",
       "2    2013-11-29 03:45:04\n",
       "3    2013-12-09 03:45:04\n",
       "4    2013-12-25 03:45:04\n",
       "5    2013-12-31 03:45:04\n",
       "6    2014-01-08 03:45:04\n",
       "7    2014-02-03 03:45:04\n",
       "8    2014-02-08 03:45:04\n",
       "9    2014-02-09 03:45:04\n",
       "10   2014-02-13 03:45:04\n",
       "11   2014-02-16 03:45:04\n",
       "12   2014-03-09 03:45:04\n",
       "13   2014-03-13 03:45:04\n",
       "14   2014-03-31 03:45:04\n",
       "Name: datetime, dtype: datetime64[ns]"
      ]
     },
     "execution_count": 34,
     "metadata": {},
     "output_type": "execute_result"
    }
   ],
   "source": [
    "#This is looking good, just need to explore how to add these values to the list inside the dictionary\n",
    "potential_dict[2]\n",
    "\n",
    "adoptee_df.datetime[engagement_df.user_id == 2]"
   ]
  },
  {
   "cell_type": "code",
   "execution_count": 35,
   "id": "interracial-colon",
   "metadata": {},
   "outputs": [
    {
     "data": {
      "text/plain": [
       "pandas.core.series.Series"
      ]
     },
     "execution_count": 35,
     "metadata": {},
     "output_type": "execute_result"
    }
   ],
   "source": [
    "type(adoptee_df.datetime[engagement_df.user_id == 2])"
   ]
  },
  {
   "cell_type": "code",
   "execution_count": 36,
   "id": "offshore-waste",
   "metadata": {},
   "outputs": [],
   "source": [
    "for each in adoptee_df.datetime[engagement_df.user_id == 2]:\n",
    "    potential_dict[2].append(each)"
   ]
  },
  {
   "cell_type": "code",
   "execution_count": 37,
   "id": "instant-agency",
   "metadata": {
    "scrolled": false
   },
   "outputs": [
    {
     "data": {
      "text/plain": [
       "[Timestamp('2013-11-15 03:45:04'),\n",
       " Timestamp('2013-11-29 03:45:04'),\n",
       " Timestamp('2013-12-09 03:45:04'),\n",
       " Timestamp('2013-12-25 03:45:04'),\n",
       " Timestamp('2013-12-31 03:45:04'),\n",
       " Timestamp('2014-01-08 03:45:04'),\n",
       " Timestamp('2014-02-03 03:45:04'),\n",
       " Timestamp('2014-02-08 03:45:04'),\n",
       " Timestamp('2014-02-09 03:45:04'),\n",
       " Timestamp('2014-02-13 03:45:04'),\n",
       " Timestamp('2014-02-16 03:45:04'),\n",
       " Timestamp('2014-03-09 03:45:04'),\n",
       " Timestamp('2014-03-13 03:45:04'),\n",
       " Timestamp('2014-03-31 03:45:04')]"
      ]
     },
     "execution_count": 37,
     "metadata": {},
     "output_type": "execute_result"
    }
   ],
   "source": [
    "potential_dict[2]"
   ]
  },
  {
   "cell_type": "code",
   "execution_count": 38,
   "id": "indie-tumor",
   "metadata": {},
   "outputs": [],
   "source": [
    "for key in potential_dict.keys():\n",
    "    for each in adoptee_df.datetime[engagement_df.user_id == key]:\n",
    "        potential_dict[key].append(each)"
   ]
  },
  {
   "cell_type": "code",
   "execution_count": 39,
   "id": "saved-spelling",
   "metadata": {
    "scrolled": true
   },
   "outputs": [
    {
     "data": {
      "text/plain": [
       "Timedelta('-10 days +00:00:00')"
      ]
     },
     "execution_count": 39,
     "metadata": {},
     "output_type": "execute_result"
    }
   ],
   "source": [
    "potential_dict[2][1] -  potential_dict[2][2]"
   ]
  },
  {
   "cell_type": "code",
   "execution_count": 40,
   "id": "differential-document",
   "metadata": {},
   "outputs": [
    {
     "data": {
      "text/plain": [
       "datetime.timedelta(0)"
      ]
     },
     "execution_count": 40,
     "metadata": {},
     "output_type": "execute_result"
    }
   ],
   "source": [
    "datetime.timedelta(days=0)"
   ]
  },
  {
   "cell_type": "code",
   "execution_count": 41,
   "id": "contained-invalid",
   "metadata": {},
   "outputs": [],
   "source": [
    "def adoption_checker(listo):\n",
    "    delta = datetime.timedelta(days=7)\n",
    "    zero_point = datetime.timedelta(days=0)\n",
    "    \n",
    "    for each in listo:\n",
    "        consecutive_list = []\n",
    "        consecutive_list.append(each)\n",
    "\n",
    "        for second_each in listo:\n",
    "            subtraction = second_each - consecutive_list[0]\n",
    "            \n",
    "            if subtraction < delta and subtraction > zero_point:\n",
    "                consecutive_list.append(second_each)\n",
    "                \n",
    "                if len(consecutive_list) >= 3:\n",
    "                    return True\n",
    "                \n",
    "            elif second_each - consecutive_list[0] > delta: \n",
    "                break\n",
    "        \n",
    "                \n",
    "    return False\n",
    "            \n",
    "            \n",
    "    "
   ]
  },
  {
   "cell_type": "code",
   "execution_count": 42,
   "id": "encouraging-cleaner",
   "metadata": {},
   "outputs": [],
   "source": [
    "#this looks like it works. Just gotta check user 11981 to make sure they are in fact not consecutive"
   ]
  },
  {
   "cell_type": "code",
   "execution_count": 43,
   "id": "brief-brick",
   "metadata": {},
   "outputs": [
    {
     "data": {
      "text/plain": [
       "True"
      ]
     },
     "execution_count": 43,
     "metadata": {},
     "output_type": "execute_result"
    }
   ],
   "source": [
    "adoption_checker(potential_dict[2])"
   ]
  },
  {
   "cell_type": "code",
   "execution_count": 44,
   "id": "veterinary-lucas",
   "metadata": {
    "scrolled": false
   },
   "outputs": [
    {
     "data": {
      "text/plain": [
       "False"
      ]
     },
     "execution_count": 44,
     "metadata": {},
     "output_type": "execute_result"
    }
   ],
   "source": [
    "adoption_checker(potential_dict[11981])"
   ]
  },
  {
   "cell_type": "code",
   "execution_count": 45,
   "id": "usual-booth",
   "metadata": {
    "scrolled": true
   },
   "outputs": [
    {
     "data": {
      "text/plain": [
       "[Timestamp('2013-03-06 01:53:48'),\n",
       " Timestamp('2013-03-21 01:53:48'),\n",
       " Timestamp('2013-03-25 01:53:48'),\n",
       " Timestamp('2013-04-02 01:53:48')]"
      ]
     },
     "execution_count": 45,
     "metadata": {},
     "output_type": "execute_result"
    }
   ],
   "source": [
    "potential_dict[11981]"
   ]
  },
  {
   "cell_type": "code",
   "execution_count": 46,
   "id": "cooperative-chick",
   "metadata": {},
   "outputs": [],
   "source": [
    "#okay, this looks like the outputs are right."
   ]
  },
  {
   "cell_type": "code",
   "execution_count": 47,
   "id": "scheduled-leisure",
   "metadata": {},
   "outputs": [
    {
     "name": "stdout",
     "output_type": "stream",
     "text": [
      "2 True\n",
      "20 False\n"
     ]
    }
   ],
   "source": [
    "test_dict = {}\n",
    "test_dict[2] = potential_dict[2]\n",
    "test_dict[20] = potential_dict[11981]\n",
    "for key, value in test_dict.items():\n",
    "    print(key, adoption_checker(value))"
   ]
  },
  {
   "cell_type": "code",
   "execution_count": 48,
   "id": "third-prompt",
   "metadata": {},
   "outputs": [],
   "source": [
    "#still gets correct outputs when working with multiple consecutive usages"
   ]
  },
  {
   "cell_type": "code",
   "execution_count": 49,
   "id": "cheap-lafayette",
   "metadata": {},
   "outputs": [],
   "source": [
    "#Excellent, the function is functioning!"
   ]
  },
  {
   "cell_type": "code",
   "execution_count": 50,
   "id": "discrete-shower",
   "metadata": {},
   "outputs": [],
   "source": [
    "actual_adoptees = {}\n",
    "for key, value in potential_dict.items():\n",
    "    actual_adoptees[key] =  adoption_checker(value)\n",
    "    "
   ]
  },
  {
   "cell_type": "code",
   "execution_count": 51,
   "id": "saved-lobby",
   "metadata": {
    "scrolled": true
   },
   "outputs": [
    {
     "data": {
      "text/plain": [
       "{2: True,\n",
       " 10: True,\n",
       " 20: True,\n",
       " 33: True,\n",
       " 42: True,\n",
       " 43: True,\n",
       " 50: True,\n",
       " 53: True,\n",
       " 59: False,\n",
       " 60: False,\n",
       " 63: True,\n",
       " 69: True,\n",
       " 74: True,\n",
       " 77: False,\n",
       " 80: True,\n",
       " 81: True,\n",
       " 82: True,\n",
       " 87: True,\n",
       " 95: False,\n",
       " 126: False,\n",
       " 133: True,\n",
       " 135: True,\n",
       " 136: False,\n",
       " 141: True,\n",
       " 142: False,\n",
       " 146: True,\n",
       " 153: True,\n",
       " 160: True,\n",
       " 165: True,\n",
       " 168: True,\n",
       " 171: False,\n",
       " 172: True,\n",
       " 174: True,\n",
       " 185: True,\n",
       " 188: True,\n",
       " 197: True,\n",
       " 200: True,\n",
       " 202: True,\n",
       " 203: True,\n",
       " 209: True,\n",
       " 214: True,\n",
       " 221: False,\n",
       " 230: True,\n",
       " 241: False,\n",
       " 245: True,\n",
       " 247: True,\n",
       " 251: False,\n",
       " 263: True,\n",
       " 265: True,\n",
       " 275: True,\n",
       " 277: False,\n",
       " 280: True,\n",
       " 283: True,\n",
       " 297: True,\n",
       " 298: True,\n",
       " 305: True,\n",
       " 310: True,\n",
       " 311: True,\n",
       " 321: True,\n",
       " 322: True,\n",
       " 330: False,\n",
       " 337: False,\n",
       " 341: True,\n",
       " 345: False,\n",
       " 347: True,\n",
       " 351: True,\n",
       " 362: False,\n",
       " 363: True,\n",
       " 367: False,\n",
       " 370: True,\n",
       " 375: False,\n",
       " 382: False,\n",
       " 383: True,\n",
       " 390: False,\n",
       " 397: True,\n",
       " 398: False,\n",
       " 401: True,\n",
       " 417: False,\n",
       " 418: True,\n",
       " 430: True,\n",
       " 445: True,\n",
       " 450: True,\n",
       " 455: False,\n",
       " 460: True,\n",
       " 462: True,\n",
       " 469: True,\n",
       " 471: True,\n",
       " 472: True,\n",
       " 478: False,\n",
       " 479: True,\n",
       " 481: False,\n",
       " 483: True,\n",
       " 492: True,\n",
       " 494: True,\n",
       " 497: True,\n",
       " 502: True,\n",
       " 506: True,\n",
       " 509: True,\n",
       " 510: True,\n",
       " 511: False,\n",
       " 512: True,\n",
       " 518: True,\n",
       " 520: False,\n",
       " 522: True,\n",
       " 528: False,\n",
       " 529: True,\n",
       " 535: True,\n",
       " 540: True,\n",
       " 543: False,\n",
       " 547: True,\n",
       " 553: True,\n",
       " 555: False,\n",
       " 561: False,\n",
       " 564: True,\n",
       " 572: True,\n",
       " 575: False,\n",
       " 589: True,\n",
       " 591: True,\n",
       " 601: True,\n",
       " 603: True,\n",
       " 605: True,\n",
       " 607: False,\n",
       " 608: False,\n",
       " 617: False,\n",
       " 618: True,\n",
       " 627: True,\n",
       " 628: True,\n",
       " 632: True,\n",
       " 634: True,\n",
       " 639: True,\n",
       " 649: False,\n",
       " 665: False,\n",
       " 669: True,\n",
       " 679: True,\n",
       " 680: True,\n",
       " 710: False,\n",
       " 715: False,\n",
       " 716: False,\n",
       " 717: False,\n",
       " 724: True,\n",
       " 725: True,\n",
       " 728: True,\n",
       " 736: False,\n",
       " 738: False,\n",
       " 746: False,\n",
       " 754: True,\n",
       " 772: True,\n",
       " 783: True,\n",
       " 786: True,\n",
       " 788: False,\n",
       " 793: False,\n",
       " 804: True,\n",
       " 814: False,\n",
       " 815: False,\n",
       " 817: False,\n",
       " 828: True,\n",
       " 845: True,\n",
       " 850: False,\n",
       " 851: True,\n",
       " 869: True,\n",
       " 874: True,\n",
       " 882: True,\n",
       " 885: True,\n",
       " 887: False,\n",
       " 901: True,\n",
       " 906: True,\n",
       " 907: True,\n",
       " 912: True,\n",
       " 928: True,\n",
       " 932: True,\n",
       " 934: True,\n",
       " 937: True,\n",
       " 943: True,\n",
       " 946: False,\n",
       " 953: True,\n",
       " 980: True,\n",
       " 985: True,\n",
       " 991: False,\n",
       " 994: False,\n",
       " 999: False,\n",
       " 1007: True,\n",
       " 1009: True,\n",
       " 1013: True,\n",
       " 1017: True,\n",
       " 1018: True,\n",
       " 1026: True,\n",
       " 1027: True,\n",
       " 1030: False,\n",
       " 1035: True,\n",
       " 1039: False,\n",
       " 1049: False,\n",
       " 1055: True,\n",
       " 1061: True,\n",
       " 1064: False,\n",
       " 1072: True,\n",
       " 1087: False,\n",
       " 1088: False,\n",
       " 1089: True,\n",
       " 1093: True,\n",
       " 1094: True,\n",
       " 1099: True,\n",
       " 1106: True,\n",
       " 1107: True,\n",
       " 1119: True,\n",
       " 1123: True,\n",
       " 1124: True,\n",
       " 1125: False,\n",
       " 1128: True,\n",
       " 1129: True,\n",
       " 1136: True,\n",
       " 1140: False,\n",
       " 1141: False,\n",
       " 1145: True,\n",
       " 1147: False,\n",
       " 1149: False,\n",
       " 1150: True,\n",
       " 1151: True,\n",
       " 1155: True,\n",
       " 1156: True,\n",
       " 1162: False,\n",
       " 1163: True,\n",
       " 1173: True,\n",
       " 1178: False,\n",
       " 1186: True,\n",
       " 1196: True,\n",
       " 1197: False,\n",
       " 1202: True,\n",
       " 1212: False,\n",
       " 1214: True,\n",
       " 1222: True,\n",
       " 1227: False,\n",
       " 1233: True,\n",
       " 1235: True,\n",
       " 1238: True,\n",
       " 1240: False,\n",
       " 1242: True,\n",
       " 1245: True,\n",
       " 1250: True,\n",
       " 1274: True,\n",
       " 1280: True,\n",
       " 1290: True,\n",
       " 1297: False,\n",
       " 1299: False,\n",
       " 1303: True,\n",
       " 1311: False,\n",
       " 1312: False,\n",
       " 1318: True,\n",
       " 1319: True,\n",
       " 1320: True,\n",
       " 1321: False,\n",
       " 1327: True,\n",
       " 1339: True,\n",
       " 1343: True,\n",
       " 1345: True,\n",
       " 1350: True,\n",
       " 1357: True,\n",
       " 1361: True,\n",
       " 1368: True,\n",
       " 1379: True,\n",
       " 1380: False,\n",
       " 1385: False,\n",
       " 1396: True,\n",
       " 1407: True,\n",
       " 1410: True,\n",
       " 1411: True,\n",
       " 1421: True,\n",
       " 1434: True,\n",
       " 1439: False,\n",
       " 1440: False,\n",
       " 1441: False,\n",
       " 1445: False,\n",
       " 1464: True,\n",
       " 1466: False,\n",
       " 1472: True,\n",
       " 1476: True,\n",
       " 1479: True,\n",
       " 1480: True,\n",
       " 1481: True,\n",
       " 1485: True,\n",
       " 1496: False,\n",
       " 1500: False,\n",
       " 1506: True,\n",
       " 1507: True,\n",
       " 1508: True,\n",
       " 1525: True,\n",
       " 1546: True,\n",
       " 1555: True,\n",
       " 1561: True,\n",
       " 1562: False,\n",
       " 1576: True,\n",
       " 1581: True,\n",
       " 1592: True,\n",
       " 1598: True,\n",
       " 1600: False,\n",
       " 1617: True,\n",
       " 1621: False,\n",
       " 1624: True,\n",
       " 1641: True,\n",
       " 1663: True,\n",
       " 1665: True,\n",
       " 1666: False,\n",
       " 1671: True,\n",
       " 1672: True,\n",
       " 1681: True,\n",
       " 1685: False,\n",
       " 1689: False,\n",
       " 1690: True,\n",
       " 1691: False,\n",
       " 1693: True,\n",
       " 1694: True,\n",
       " 1702: False,\n",
       " 1706: False,\n",
       " 1709: True,\n",
       " 1714: True,\n",
       " 1716: True,\n",
       " 1717: True,\n",
       " 1720: False,\n",
       " 1722: True,\n",
       " 1726: True,\n",
       " 1730: True,\n",
       " 1740: True,\n",
       " 1741: False,\n",
       " 1742: False,\n",
       " 1753: False,\n",
       " 1754: True,\n",
       " 1758: True,\n",
       " 1759: True,\n",
       " 1769: True,\n",
       " 1770: True,\n",
       " 1781: True,\n",
       " 1783: True,\n",
       " 1784: False,\n",
       " 1786: True,\n",
       " 1787: False,\n",
       " 1811: True,\n",
       " 1816: True,\n",
       " 1820: True,\n",
       " 1821: True,\n",
       " 1822: True,\n",
       " 1823: False,\n",
       " 1825: True,\n",
       " 1836: True,\n",
       " 1844: False,\n",
       " 1845: True,\n",
       " 1858: False,\n",
       " 1864: False,\n",
       " 1865: True,\n",
       " 1872: True,\n",
       " 1875: False,\n",
       " 1879: True,\n",
       " 1885: True,\n",
       " 1891: False,\n",
       " 1897: True,\n",
       " 1901: False,\n",
       " 1907: True,\n",
       " 1930: True,\n",
       " 1941: True,\n",
       " 1944: True,\n",
       " 1954: True,\n",
       " 1974: True,\n",
       " 1993: True,\n",
       " 1999: False,\n",
       " 2002: True,\n",
       " 2009: True,\n",
       " 2011: True,\n",
       " 2013: True,\n",
       " 2024: False,\n",
       " 2025: True,\n",
       " 2033: True,\n",
       " 2034: False,\n",
       " 2037: True,\n",
       " 2038: True,\n",
       " 2042: True,\n",
       " 2043: True,\n",
       " 2049: True,\n",
       " 2056: True,\n",
       " 2063: False,\n",
       " 2073: True,\n",
       " 2074: True,\n",
       " 2078: True,\n",
       " 2080: True,\n",
       " 2101: False,\n",
       " 2103: True,\n",
       " 2111: True,\n",
       " 2112: True,\n",
       " 2113: True,\n",
       " 2124: True,\n",
       " 2129: True,\n",
       " 2131: False,\n",
       " 2134: False,\n",
       " 2159: True,\n",
       " 2160: True,\n",
       " 2171: True,\n",
       " 2176: False,\n",
       " 2193: True,\n",
       " 2194: False,\n",
       " 2196: False,\n",
       " 2199: True,\n",
       " 2201: True,\n",
       " 2206: False,\n",
       " 2220: False,\n",
       " 2239: True,\n",
       " 2241: True,\n",
       " 2246: True,\n",
       " 2253: True,\n",
       " 2259: False,\n",
       " 2270: True,\n",
       " 2271: True,\n",
       " 2278: True,\n",
       " 2282: True,\n",
       " 2285: False,\n",
       " 2286: True,\n",
       " 2289: True,\n",
       " 2290: True,\n",
       " 2297: True,\n",
       " 2300: True,\n",
       " 2301: False,\n",
       " 2307: True,\n",
       " 2311: False,\n",
       " 2312: True,\n",
       " 2316: True,\n",
       " 2322: True,\n",
       " 2324: True,\n",
       " 2332: False,\n",
       " 2333: True,\n",
       " 2337: True,\n",
       " 2339: True,\n",
       " 2357: True,\n",
       " 2361: True,\n",
       " 2370: False,\n",
       " 2371: False,\n",
       " 2372: False,\n",
       " 2380: False,\n",
       " 2390: True,\n",
       " 2399: True,\n",
       " 2400: True,\n",
       " 2403: False,\n",
       " 2406: True,\n",
       " 2421: False,\n",
       " 2425: True,\n",
       " 2435: True,\n",
       " 2436: False,\n",
       " 2438: True,\n",
       " 2447: True,\n",
       " 2455: False,\n",
       " 2461: False,\n",
       " 2474: True,\n",
       " 2481: True,\n",
       " 2490: True,\n",
       " 2492: False,\n",
       " 2495: True,\n",
       " 2502: True,\n",
       " 2516: False,\n",
       " 2519: True,\n",
       " 2532: False,\n",
       " 2536: False,\n",
       " 2539: True,\n",
       " 2544: True,\n",
       " 2548: True,\n",
       " 2557: True,\n",
       " 2566: True,\n",
       " 2568: True,\n",
       " 2569: True,\n",
       " 2570: False,\n",
       " 2571: True,\n",
       " 2577: False,\n",
       " 2583: True,\n",
       " 2587: True,\n",
       " 2590: True,\n",
       " 2601: False,\n",
       " 2604: True,\n",
       " 2610: True,\n",
       " 2615: True,\n",
       " 2618: True,\n",
       " 2620: True,\n",
       " 2622: True,\n",
       " 2624: False,\n",
       " 2626: True,\n",
       " 2636: True,\n",
       " 2641: True,\n",
       " 2645: False,\n",
       " 2647: True,\n",
       " 2658: True,\n",
       " 2672: True,\n",
       " 2681: True,\n",
       " 2713: True,\n",
       " 2714: False,\n",
       " 2723: True,\n",
       " 2724: True,\n",
       " 2727: True,\n",
       " 2731: True,\n",
       " 2739: True,\n",
       " 2744: True,\n",
       " 2746: False,\n",
       " 2750: True,\n",
       " 2762: True,\n",
       " 2771: True,\n",
       " 2776: False,\n",
       " 2782: False,\n",
       " 2787: True,\n",
       " 2798: True,\n",
       " 2809: True,\n",
       " 2817: False,\n",
       " 2818: False,\n",
       " 2827: False,\n",
       " 2832: True,\n",
       " 2836: True,\n",
       " 2841: True,\n",
       " 2843: True,\n",
       " 2851: True,\n",
       " 2857: True,\n",
       " 2859: True,\n",
       " 2863: False,\n",
       " 2866: True,\n",
       " 2870: True,\n",
       " 2873: False,\n",
       " 2881: True,\n",
       " 2886: True,\n",
       " 2887: True,\n",
       " 2889: True,\n",
       " 2890: False,\n",
       " 2891: True,\n",
       " 2895: True,\n",
       " 2915: True,\n",
       " 2918: True,\n",
       " 2921: True,\n",
       " 2925: False,\n",
       " 2931: True,\n",
       " 2939: True,\n",
       " 2940: False,\n",
       " 2945: True,\n",
       " 2946: True,\n",
       " 2948: True,\n",
       " 2949: False,\n",
       " 2952: True,\n",
       " 2961: False,\n",
       " 2969: True,\n",
       " 2973: False,\n",
       " 2974: True,\n",
       " 2979: True,\n",
       " 2993: True,\n",
       " 2998: False,\n",
       " 3009: False,\n",
       " 3014: True,\n",
       " 3017: True,\n",
       " 3018: True,\n",
       " 3025: True,\n",
       " 3026: True,\n",
       " 3028: True,\n",
       " 3032: True,\n",
       " 3036: True,\n",
       " 3039: True,\n",
       " 3046: True,\n",
       " 3052: True,\n",
       " 3053: True,\n",
       " 3059: True,\n",
       " 3063: True,\n",
       " 3066: True,\n",
       " 3067: True,\n",
       " 3069: False,\n",
       " 3071: True,\n",
       " 3073: False,\n",
       " 3076: True,\n",
       " 3077: True,\n",
       " 3080: True,\n",
       " 3081: True,\n",
       " 3083: False,\n",
       " 3087: True,\n",
       " 3093: True,\n",
       " 3100: True,\n",
       " 3102: False,\n",
       " 3112: True,\n",
       " 3113: True,\n",
       " 3124: False,\n",
       " 3125: True,\n",
       " 3133: False,\n",
       " 3137: True,\n",
       " 3139: True,\n",
       " 3140: False,\n",
       " 3145: True,\n",
       " 3159: False,\n",
       " 3160: True,\n",
       " 3163: True,\n",
       " 3175: True,\n",
       " 3178: False,\n",
       " 3179: True,\n",
       " 3180: True,\n",
       " 3183: False,\n",
       " 3185: True,\n",
       " 3193: True,\n",
       " 3194: True,\n",
       " 3201: False,\n",
       " 3203: False,\n",
       " 3204: True,\n",
       " 3205: True,\n",
       " 3207: True,\n",
       " 3216: False,\n",
       " 3217: True,\n",
       " 3220: False,\n",
       " 3222: True,\n",
       " 3226: True,\n",
       " 3232: True,\n",
       " 3235: True,\n",
       " 3238: True,\n",
       " 3239: True,\n",
       " 3240: True,\n",
       " 3244: True,\n",
       " 3269: True,\n",
       " 3273: True,\n",
       " 3280: True,\n",
       " 3294: False,\n",
       " 3310: False,\n",
       " 3311: True,\n",
       " 3315: False,\n",
       " 3317: True,\n",
       " 3318: False,\n",
       " 3323: False,\n",
       " 3324: True,\n",
       " 3327: False,\n",
       " 3332: True,\n",
       " 3338: True,\n",
       " 3339: True,\n",
       " 3346: False,\n",
       " 3347: True,\n",
       " 3353: True,\n",
       " 3356: False,\n",
       " 3359: False,\n",
       " 3360: True,\n",
       " 3370: True,\n",
       " 3374: False,\n",
       " 3378: True,\n",
       " 3381: True,\n",
       " 3387: True,\n",
       " 3389: True,\n",
       " 3390: True,\n",
       " 3397: True,\n",
       " 3405: True,\n",
       " 3408: False,\n",
       " 3409: True,\n",
       " 3411: True,\n",
       " 3413: False,\n",
       " 3426: True,\n",
       " 3428: False,\n",
       " 3431: False,\n",
       " 3436: True,\n",
       " 3437: False,\n",
       " 3451: True,\n",
       " 3463: True,\n",
       " 3470: False,\n",
       " 3481: True,\n",
       " 3484: True,\n",
       " 3493: True,\n",
       " 3499: False,\n",
       " 3502: True,\n",
       " 3514: False,\n",
       " 3517: True,\n",
       " 3521: False,\n",
       " 3522: True,\n",
       " 3525: True,\n",
       " 3531: True,\n",
       " 3541: True,\n",
       " 3546: True,\n",
       " 3556: True,\n",
       " 3560: True,\n",
       " 3561: True,\n",
       " 3562: True,\n",
       " 3564: False,\n",
       " 3567: True,\n",
       " 3568: False,\n",
       " 3574: True,\n",
       " 3577: True,\n",
       " 3578: True,\n",
       " 3586: False,\n",
       " 3592: True,\n",
       " 3593: True,\n",
       " 3597: True,\n",
       " 3598: True,\n",
       " 3600: False,\n",
       " 3601: True,\n",
       " 3606: False,\n",
       " 3607: False,\n",
       " 3609: True,\n",
       " 3612: True,\n",
       " 3617: True,\n",
       " 3623: True,\n",
       " 3626: False,\n",
       " 3634: False,\n",
       " 3638: True,\n",
       " 3639: False,\n",
       " 3641: True,\n",
       " 3642: True,\n",
       " 3644: True,\n",
       " 3652: True,\n",
       " 3671: True,\n",
       " 3673: True,\n",
       " 3675: True,\n",
       " 3676: False,\n",
       " 3695: True,\n",
       " 3704: False,\n",
       " 3705: True,\n",
       " 3717: True,\n",
       " 3718: True,\n",
       " 3739: False,\n",
       " 3749: True,\n",
       " 3752: True,\n",
       " 3757: True,\n",
       " 3758: True,\n",
       " 3759: False,\n",
       " 3762: True,\n",
       " 3765: True,\n",
       " 3768: False,\n",
       " 3772: False,\n",
       " 3774: True,\n",
       " 3802: True,\n",
       " 3804: True,\n",
       " 3812: True,\n",
       " 3819: True,\n",
       " 3824: True,\n",
       " 3830: False,\n",
       " 3832: True,\n",
       " 3837: False,\n",
       " 3843: True,\n",
       " 3852: True,\n",
       " 3856: False,\n",
       " 3859: True,\n",
       " 3862: True,\n",
       " 3863: True,\n",
       " 3866: True,\n",
       " 3867: True,\n",
       " 3879: False,\n",
       " 3881: True,\n",
       " 3882: True,\n",
       " 3887: False,\n",
       " 3906: True,\n",
       " 3915: True,\n",
       " 3917: False,\n",
       " 3919: False,\n",
       " 3946: True,\n",
       " 3956: True,\n",
       " 3957: True,\n",
       " 3960: True,\n",
       " 3970: True,\n",
       " 4003: False,\n",
       " 4007: True,\n",
       " 4009: True,\n",
       " 4017: True,\n",
       " 4018: True,\n",
       " 4019: True,\n",
       " 4022: True,\n",
       " 4029: True,\n",
       " 4031: False,\n",
       " 4041: True,\n",
       " 4043: True,\n",
       " 4045: True,\n",
       " 4052: True,\n",
       " 4065: False,\n",
       " 4067: True,\n",
       " 4074: True,\n",
       " 4082: False,\n",
       " 4086: True,\n",
       " 4090: True,\n",
       " 4093: True,\n",
       " 4105: True,\n",
       " 4106: True,\n",
       " 4134: True,\n",
       " 4140: True,\n",
       " 4141: True,\n",
       " 4143: True,\n",
       " 4145: True,\n",
       " 4146: False,\n",
       " 4155: False,\n",
       " 4156: True,\n",
       " 4158: True,\n",
       " 4167: True,\n",
       " 4171: True,\n",
       " 4181: True,\n",
       " 4182: True,\n",
       " 4184: True,\n",
       " 4186: True,\n",
       " 4187: False,\n",
       " 4196: False,\n",
       " 4200: False,\n",
       " 4203: True,\n",
       " 4206: True,\n",
       " 4208: True,\n",
       " 4209: True,\n",
       " 4216: True,\n",
       " 4217: True,\n",
       " 4218: True,\n",
       " 4223: True,\n",
       " 4234: True,\n",
       " 4243: True,\n",
       " 4244: True,\n",
       " 4248: True,\n",
       " 4255: True,\n",
       " 4256: False,\n",
       " 4258: True,\n",
       " 4263: True,\n",
       " 4266: True,\n",
       " 4268: True,\n",
       " 4269: True,\n",
       " 4278: True,\n",
       " 4282: True,\n",
       " 4295: True,\n",
       " 4296: True,\n",
       " 4317: True,\n",
       " 4327: False,\n",
       " 4330: True,\n",
       " 4335: True,\n",
       " 4341: False,\n",
       " 4349: True,\n",
       " 4350: True,\n",
       " 4353: True,\n",
       " 4354: True,\n",
       " 4371: True,\n",
       " 4384: True,\n",
       " 4388: True,\n",
       " 4389: False,\n",
       " 4396: True,\n",
       " 4402: True,\n",
       " 4403: True,\n",
       " 4404: True,\n",
       " 4408: False,\n",
       " 4410: False,\n",
       " 4421: True,\n",
       " 4425: True,\n",
       " 4428: True,\n",
       " 4433: True,\n",
       " 4439: False,\n",
       " 4444: True,\n",
       " 4445: False,\n",
       " 4446: True,\n",
       " 4467: True,\n",
       " 4472: True,\n",
       " 4477: False,\n",
       " 4479: False,\n",
       " 4481: True,\n",
       " 4485: True,\n",
       " 4489: True,\n",
       " 4493: False,\n",
       " 4494: True,\n",
       " 4497: True,\n",
       " 4502: False,\n",
       " 4511: True,\n",
       " 4513: True,\n",
       " 4519: True,\n",
       " 4529: False,\n",
       " 4535: False,\n",
       " 4551: False,\n",
       " 4553: False,\n",
       " 4558: True,\n",
       " 4560: True,\n",
       " 4561: True,\n",
       " 4562: True,\n",
       " 4564: True,\n",
       " 4565: True,\n",
       " 4569: True,\n",
       " 4571: True,\n",
       " 4576: True,\n",
       " 4580: False,\n",
       " 4582: True,\n",
       " 4589: False,\n",
       " 4600: True,\n",
       " 4608: False,\n",
       " 4609: True,\n",
       " 4611: True,\n",
       " 4612: True,\n",
       " 4616: True,\n",
       " 4618: True,\n",
       " 4619: True,\n",
       " 4625: True,\n",
       " 4680: True,\n",
       " 4685: True,\n",
       " 4701: False,\n",
       " 4703: False,\n",
       " 4709: True,\n",
       " 4712: False,\n",
       " 4713: True,\n",
       " 4715: True,\n",
       " 4720: True,\n",
       " 4726: False,\n",
       " 4729: False,\n",
       " 4730: True,\n",
       " 4731: False,\n",
       " 4738: False,\n",
       " 4742: True,\n",
       " 4745: True,\n",
       " 4753: True,\n",
       " 4760: True,\n",
       " 4774: False,\n",
       " 4778: True,\n",
       " 4780: True,\n",
       " 4784: True,\n",
       " 4785: True,\n",
       " 4793: True,\n",
       " 4803: True,\n",
       " 4805: True,\n",
       " 4812: True,\n",
       " 4820: False,\n",
       " 4822: False,\n",
       " 4824: True,\n",
       " 4826: True,\n",
       " 4832: True,\n",
       " 4835: True,\n",
       " 4837: True,\n",
       " 4839: True,\n",
       " 4844: True,\n",
       " 4850: False,\n",
       " 4854: True,\n",
       " 4861: False,\n",
       " 4869: True,\n",
       " 4870: True,\n",
       " 4874: False,\n",
       " 4876: True,\n",
       " 4884: True,\n",
       " 4886: True,\n",
       " 4902: True,\n",
       " 4908: False,\n",
       " 4915: True,\n",
       " 4921: True,\n",
       " 4924: True,\n",
       " 4934: True,\n",
       " 4935: True,\n",
       " 4943: True,\n",
       " 4945: False,\n",
       " 4950: True,\n",
       " 4954: True,\n",
       " 4961: True,\n",
       " 4964: False,\n",
       " 4965: True,\n",
       " 4966: True,\n",
       " 4969: True,\n",
       " 4974: True,\n",
       " 4989: False,\n",
       " 4992: True,\n",
       " 5013: True,\n",
       " 5015: True,\n",
       " 5027: True,\n",
       " 5048: False,\n",
       " 5057: True,\n",
       " 5062: False,\n",
       " 5063: True,\n",
       " 5067: True,\n",
       " 5069: False,\n",
       " 5071: True,\n",
       " 5073: True,\n",
       " 5075: False,\n",
       " 5084: False,\n",
       " 5100: True,\n",
       " 5101: True,\n",
       " 5103: True,\n",
       " 5111: False,\n",
       " 5115: True,\n",
       " 5127: True,\n",
       " 5132: False,\n",
       " 5137: False,\n",
       " 5145: False,\n",
       " 5151: True,\n",
       " 5152: False,\n",
       " 5153: True,\n",
       " 5156: True,\n",
       " 5157: True,\n",
       " 5160: True,\n",
       " 5162: False,\n",
       " 5167: True,\n",
       " 5170: False,\n",
       " 5173: True,\n",
       " 5180: True,\n",
       " 5200: True,\n",
       " 5210: True,\n",
       " 5211: True,\n",
       " 5212: False,\n",
       " 5215: True,\n",
       " 5225: True,\n",
       " 5240: True,\n",
       " 5243: True,\n",
       " 5246: False,\n",
       " 5254: False,\n",
       " 5255: False,\n",
       " 5259: True,\n",
       " 5267: False,\n",
       " 5281: True,\n",
       " 5291: False,\n",
       " 5294: False,\n",
       " 5297: True,\n",
       " 5301: True,\n",
       " 5304: False,\n",
       " 5307: True,\n",
       " 5309: True,\n",
       " 5326: False,\n",
       " 5329: True,\n",
       " 5350: True,\n",
       " 5351: True,\n",
       " 5360: True,\n",
       " 5362: True,\n",
       " 5364: True,\n",
       " 5365: True,\n",
       " 5369: True,\n",
       " 5378: True,\n",
       " 5381: False,\n",
       " ...}"
      ]
     },
     "execution_count": 51,
     "metadata": {},
     "output_type": "execute_result"
    }
   ],
   "source": [
    "actual_adoptees"
   ]
  },
  {
   "cell_type": "code",
   "execution_count": 52,
   "id": "defined-marketplace",
   "metadata": {},
   "outputs": [],
   "source": [
    "adoption_df = pd.DataFrame([actual_adoptees])"
   ]
  },
  {
   "cell_type": "code",
   "execution_count": 53,
   "id": "reduced-chain",
   "metadata": {},
   "outputs": [],
   "source": [
    "adoption_df =adoption_df.transpose()"
   ]
  },
  {
   "cell_type": "code",
   "execution_count": 54,
   "id": "partial-heath",
   "metadata": {
    "scrolled": false
   },
   "outputs": [],
   "source": [
    "adoption_df = adoption_df.reset_index()"
   ]
  },
  {
   "cell_type": "code",
   "execution_count": 55,
   "id": "after-claim",
   "metadata": {},
   "outputs": [],
   "source": [
    "adoption_df['user_id'] = adoption_df['index']"
   ]
  },
  {
   "cell_type": "code",
   "execution_count": 56,
   "id": "covered-monkey",
   "metadata": {},
   "outputs": [],
   "source": [
    "adoption_df = adoption_df.drop(columns=['index'])"
   ]
  },
  {
   "cell_type": "code",
   "execution_count": 57,
   "id": "loose-sierra",
   "metadata": {
    "scrolled": true
   },
   "outputs": [
    {
     "data": {
      "text/html": [
       "<div>\n",
       "<style scoped>\n",
       "    .dataframe tbody tr th:only-of-type {\n",
       "        vertical-align: middle;\n",
       "    }\n",
       "\n",
       "    .dataframe tbody tr th {\n",
       "        vertical-align: top;\n",
       "    }\n",
       "\n",
       "    .dataframe thead th {\n",
       "        text-align: right;\n",
       "    }\n",
       "</style>\n",
       "<table border=\"1\" class=\"dataframe\">\n",
       "  <thead>\n",
       "    <tr style=\"text-align: right;\">\n",
       "      <th></th>\n",
       "      <th>0</th>\n",
       "      <th>user_id</th>\n",
       "    </tr>\n",
       "  </thead>\n",
       "  <tbody>\n",
       "    <tr>\n",
       "      <th>0</th>\n",
       "      <td>True</td>\n",
       "      <td>2</td>\n",
       "    </tr>\n",
       "    <tr>\n",
       "      <th>1</th>\n",
       "      <td>True</td>\n",
       "      <td>10</td>\n",
       "    </tr>\n",
       "    <tr>\n",
       "      <th>2</th>\n",
       "      <td>True</td>\n",
       "      <td>20</td>\n",
       "    </tr>\n",
       "    <tr>\n",
       "      <th>3</th>\n",
       "      <td>True</td>\n",
       "      <td>33</td>\n",
       "    </tr>\n",
       "    <tr>\n",
       "      <th>4</th>\n",
       "      <td>True</td>\n",
       "      <td>42</td>\n",
       "    </tr>\n",
       "    <tr>\n",
       "      <th>...</th>\n",
       "      <td>...</td>\n",
       "      <td>...</td>\n",
       "    </tr>\n",
       "    <tr>\n",
       "      <th>2243</th>\n",
       "      <td>True</td>\n",
       "      <td>11975</td>\n",
       "    </tr>\n",
       "    <tr>\n",
       "      <th>2244</th>\n",
       "      <td>False</td>\n",
       "      <td>11980</td>\n",
       "    </tr>\n",
       "    <tr>\n",
       "      <th>2245</th>\n",
       "      <td>False</td>\n",
       "      <td>11981</td>\n",
       "    </tr>\n",
       "    <tr>\n",
       "      <th>2246</th>\n",
       "      <td>True</td>\n",
       "      <td>11988</td>\n",
       "    </tr>\n",
       "    <tr>\n",
       "      <th>2247</th>\n",
       "      <td>False</td>\n",
       "      <td>11991</td>\n",
       "    </tr>\n",
       "  </tbody>\n",
       "</table>\n",
       "<p>2248 rows × 2 columns</p>\n",
       "</div>"
      ],
      "text/plain": [
       "          0  user_id\n",
       "0      True        2\n",
       "1      True       10\n",
       "2      True       20\n",
       "3      True       33\n",
       "4      True       42\n",
       "...     ...      ...\n",
       "2243   True    11975\n",
       "2244  False    11980\n",
       "2245  False    11981\n",
       "2246   True    11988\n",
       "2247  False    11991\n",
       "\n",
       "[2248 rows x 2 columns]"
      ]
     },
     "execution_count": 57,
     "metadata": {},
     "output_type": "execute_result"
    }
   ],
   "source": [
    "adoption_df"
   ]
  },
  {
   "cell_type": "code",
   "execution_count": 58,
   "id": "exterior-johnson",
   "metadata": {},
   "outputs": [],
   "source": [
    "adoption_df['object_id'] =adoption_df['user_id']"
   ]
  },
  {
   "cell_type": "code",
   "execution_count": 59,
   "id": "altered-medium",
   "metadata": {},
   "outputs": [],
   "source": [
    "adoption_df['adoption_status'] =adoption_df[0]"
   ]
  },
  {
   "cell_type": "code",
   "execution_count": 60,
   "id": "novel-movement",
   "metadata": {},
   "outputs": [],
   "source": [
    "adoption_df= adoption_df.drop(columns=[0, 'user_id'])"
   ]
  },
  {
   "cell_type": "code",
   "execution_count": 61,
   "id": "racial-constant",
   "metadata": {},
   "outputs": [
    {
     "data": {
      "text/html": [
       "<div>\n",
       "<style scoped>\n",
       "    .dataframe tbody tr th:only-of-type {\n",
       "        vertical-align: middle;\n",
       "    }\n",
       "\n",
       "    .dataframe tbody tr th {\n",
       "        vertical-align: top;\n",
       "    }\n",
       "\n",
       "    .dataframe thead th {\n",
       "        text-align: right;\n",
       "    }\n",
       "</style>\n",
       "<table border=\"1\" class=\"dataframe\">\n",
       "  <thead>\n",
       "    <tr style=\"text-align: right;\">\n",
       "      <th></th>\n",
       "      <th>object_id</th>\n",
       "      <th>adoption_status</th>\n",
       "    </tr>\n",
       "  </thead>\n",
       "  <tbody>\n",
       "    <tr>\n",
       "      <th>0</th>\n",
       "      <td>2</td>\n",
       "      <td>True</td>\n",
       "    </tr>\n",
       "    <tr>\n",
       "      <th>1</th>\n",
       "      <td>10</td>\n",
       "      <td>True</td>\n",
       "    </tr>\n",
       "    <tr>\n",
       "      <th>2</th>\n",
       "      <td>20</td>\n",
       "      <td>True</td>\n",
       "    </tr>\n",
       "    <tr>\n",
       "      <th>3</th>\n",
       "      <td>33</td>\n",
       "      <td>True</td>\n",
       "    </tr>\n",
       "    <tr>\n",
       "      <th>4</th>\n",
       "      <td>42</td>\n",
       "      <td>True</td>\n",
       "    </tr>\n",
       "    <tr>\n",
       "      <th>...</th>\n",
       "      <td>...</td>\n",
       "      <td>...</td>\n",
       "    </tr>\n",
       "    <tr>\n",
       "      <th>2243</th>\n",
       "      <td>11975</td>\n",
       "      <td>True</td>\n",
       "    </tr>\n",
       "    <tr>\n",
       "      <th>2244</th>\n",
       "      <td>11980</td>\n",
       "      <td>False</td>\n",
       "    </tr>\n",
       "    <tr>\n",
       "      <th>2245</th>\n",
       "      <td>11981</td>\n",
       "      <td>False</td>\n",
       "    </tr>\n",
       "    <tr>\n",
       "      <th>2246</th>\n",
       "      <td>11988</td>\n",
       "      <td>True</td>\n",
       "    </tr>\n",
       "    <tr>\n",
       "      <th>2247</th>\n",
       "      <td>11991</td>\n",
       "      <td>False</td>\n",
       "    </tr>\n",
       "  </tbody>\n",
       "</table>\n",
       "<p>2248 rows × 2 columns</p>\n",
       "</div>"
      ],
      "text/plain": [
       "      object_id  adoption_status\n",
       "0             2             True\n",
       "1            10             True\n",
       "2            20             True\n",
       "3            33             True\n",
       "4            42             True\n",
       "...         ...              ...\n",
       "2243      11975             True\n",
       "2244      11980            False\n",
       "2245      11981            False\n",
       "2246      11988             True\n",
       "2247      11991            False\n",
       "\n",
       "[2248 rows x 2 columns]"
      ]
     },
     "execution_count": 61,
     "metadata": {},
     "output_type": "execute_result"
    }
   ],
   "source": [
    "adoption_df"
   ]
  },
  {
   "cell_type": "code",
   "execution_count": 62,
   "id": "coral-arcade",
   "metadata": {},
   "outputs": [
    {
     "data": {
      "text/html": [
       "<div>\n",
       "<style scoped>\n",
       "    .dataframe tbody tr th:only-of-type {\n",
       "        vertical-align: middle;\n",
       "    }\n",
       "\n",
       "    .dataframe tbody tr th {\n",
       "        vertical-align: top;\n",
       "    }\n",
       "\n",
       "    .dataframe thead th {\n",
       "        text-align: right;\n",
       "    }\n",
       "</style>\n",
       "<table border=\"1\" class=\"dataframe\">\n",
       "  <thead>\n",
       "    <tr style=\"text-align: right;\">\n",
       "      <th></th>\n",
       "      <th>object_id</th>\n",
       "      <th>creation_time</th>\n",
       "      <th>name</th>\n",
       "      <th>email</th>\n",
       "      <th>creation_source</th>\n",
       "      <th>last_session_creation_time</th>\n",
       "      <th>opted_in_to_mailing_list</th>\n",
       "      <th>enabled_for_marketing_drip</th>\n",
       "      <th>org_id</th>\n",
       "      <th>invited_by_user_id</th>\n",
       "    </tr>\n",
       "  </thead>\n",
       "  <tbody>\n",
       "    <tr>\n",
       "      <th>0</th>\n",
       "      <td>1</td>\n",
       "      <td>2014-04-22 03:53:30</td>\n",
       "      <td>Clausen August</td>\n",
       "      <td>AugustCClausen@yahoo.com</td>\n",
       "      <td>GUEST_INVITE</td>\n",
       "      <td>1.398139e+09</td>\n",
       "      <td>1</td>\n",
       "      <td>0</td>\n",
       "      <td>11</td>\n",
       "      <td>10803.0</td>\n",
       "    </tr>\n",
       "    <tr>\n",
       "      <th>1</th>\n",
       "      <td>2</td>\n",
       "      <td>2013-11-15 03:45:04</td>\n",
       "      <td>Poole Matthew</td>\n",
       "      <td>MatthewPoole@gustr.com</td>\n",
       "      <td>ORG_INVITE</td>\n",
       "      <td>1.396238e+09</td>\n",
       "      <td>0</td>\n",
       "      <td>0</td>\n",
       "      <td>1</td>\n",
       "      <td>316.0</td>\n",
       "    </tr>\n",
       "  </tbody>\n",
       "</table>\n",
       "</div>"
      ],
      "text/plain": [
       "   object_id        creation_time            name                     email  \\\n",
       "0          1  2014-04-22 03:53:30  Clausen August  AugustCClausen@yahoo.com   \n",
       "1          2  2013-11-15 03:45:04   Poole Matthew    MatthewPoole@gustr.com   \n",
       "\n",
       "  creation_source  last_session_creation_time  opted_in_to_mailing_list  \\\n",
       "0    GUEST_INVITE                1.398139e+09                         1   \n",
       "1      ORG_INVITE                1.396238e+09                         0   \n",
       "\n",
       "   enabled_for_marketing_drip  org_id  invited_by_user_id  \n",
       "0                           0      11             10803.0  \n",
       "1                           0       1               316.0  "
      ]
     },
     "execution_count": 62,
     "metadata": {},
     "output_type": "execute_result"
    }
   ],
   "source": [
    "users_df.head(2)"
   ]
  },
  {
   "cell_type": "code",
   "execution_count": 63,
   "id": "serious-apartment",
   "metadata": {},
   "outputs": [],
   "source": [
    "users_df=users_df.merge(adoption_df, on='object_id', how='left') "
   ]
  },
  {
   "cell_type": "code",
   "execution_count": 64,
   "id": "eight-savage",
   "metadata": {},
   "outputs": [
    {
     "name": "stdout",
     "output_type": "stream",
     "text": [
      "(12000, 11)\n",
      "9752\n",
      "True     1602\n",
      "False     646\n",
      "Name: adoption_status, dtype: int64\n",
      "0         NaN\n",
      "1        True\n",
      "2         NaN\n",
      "3         NaN\n",
      "4         NaN\n",
      "         ... \n",
      "11995     NaN\n",
      "11996     NaN\n",
      "11997     NaN\n",
      "11998     NaN\n",
      "11999     NaN\n",
      "Name: adoption_status, Length: 12000, dtype: object\n"
     ]
    }
   ],
   "source": [
    "print(users_df.shape)\n",
    "print(users_df.adoption_status.isna().sum())\n",
    "print(users_df.adoption_status.value_counts())\n",
    "print(users_df.adoption_status)"
   ]
  },
  {
   "cell_type": "code",
   "execution_count": 65,
   "id": "published-ghost",
   "metadata": {
    "scrolled": true
   },
   "outputs": [
    {
     "data": {
      "text/html": [
       "<div>\n",
       "<style scoped>\n",
       "    .dataframe tbody tr th:only-of-type {\n",
       "        vertical-align: middle;\n",
       "    }\n",
       "\n",
       "    .dataframe tbody tr th {\n",
       "        vertical-align: top;\n",
       "    }\n",
       "\n",
       "    .dataframe thead th {\n",
       "        text-align: right;\n",
       "    }\n",
       "</style>\n",
       "<table border=\"1\" class=\"dataframe\">\n",
       "  <thead>\n",
       "    <tr style=\"text-align: right;\">\n",
       "      <th></th>\n",
       "      <th>object_id</th>\n",
       "      <th>creation_time</th>\n",
       "      <th>name</th>\n",
       "      <th>email</th>\n",
       "      <th>creation_source</th>\n",
       "      <th>last_session_creation_time</th>\n",
       "      <th>opted_in_to_mailing_list</th>\n",
       "      <th>enabled_for_marketing_drip</th>\n",
       "      <th>org_id</th>\n",
       "      <th>invited_by_user_id</th>\n",
       "      <th>adoption_status</th>\n",
       "    </tr>\n",
       "  </thead>\n",
       "  <tbody>\n",
       "    <tr>\n",
       "      <th>0</th>\n",
       "      <td>1</td>\n",
       "      <td>2014-04-22 03:53:30</td>\n",
       "      <td>Clausen August</td>\n",
       "      <td>AugustCClausen@yahoo.com</td>\n",
       "      <td>GUEST_INVITE</td>\n",
       "      <td>1.398139e+09</td>\n",
       "      <td>1</td>\n",
       "      <td>0</td>\n",
       "      <td>11</td>\n",
       "      <td>10803.0</td>\n",
       "      <td>NaN</td>\n",
       "    </tr>\n",
       "    <tr>\n",
       "      <th>1</th>\n",
       "      <td>2</td>\n",
       "      <td>2013-11-15 03:45:04</td>\n",
       "      <td>Poole Matthew</td>\n",
       "      <td>MatthewPoole@gustr.com</td>\n",
       "      <td>ORG_INVITE</td>\n",
       "      <td>1.396238e+09</td>\n",
       "      <td>0</td>\n",
       "      <td>0</td>\n",
       "      <td>1</td>\n",
       "      <td>316.0</td>\n",
       "      <td>True</td>\n",
       "    </tr>\n",
       "  </tbody>\n",
       "</table>\n",
       "</div>"
      ],
      "text/plain": [
       "   object_id        creation_time            name                     email  \\\n",
       "0          1  2014-04-22 03:53:30  Clausen August  AugustCClausen@yahoo.com   \n",
       "1          2  2013-11-15 03:45:04   Poole Matthew    MatthewPoole@gustr.com   \n",
       "\n",
       "  creation_source  last_session_creation_time  opted_in_to_mailing_list  \\\n",
       "0    GUEST_INVITE                1.398139e+09                         1   \n",
       "1      ORG_INVITE                1.396238e+09                         0   \n",
       "\n",
       "   enabled_for_marketing_drip  org_id  invited_by_user_id adoption_status  \n",
       "0                           0      11             10803.0             NaN  \n",
       "1                           0       1               316.0            True  "
      ]
     },
     "execution_count": 65,
     "metadata": {},
     "output_type": "execute_result"
    }
   ],
   "source": [
    "users_df.head(2)"
   ]
  },
  {
   "cell_type": "code",
   "execution_count": 66,
   "id": "banned-marshall",
   "metadata": {},
   "outputs": [],
   "source": [
    "users_df.adoption_status.fillna(value=False, inplace=True)"
   ]
  },
  {
   "cell_type": "code",
   "execution_count": 67,
   "id": "female-action",
   "metadata": {},
   "outputs": [
    {
     "name": "stdout",
     "output_type": "stream",
     "text": [
      "shape of total df\n",
      "(12000, 11)\n",
      "sum of NA values\n",
      "0\n",
      "False    10398\n",
      "True      1602\n",
      "Name: adoption_status, dtype: int64\n",
      "0        False\n",
      "1         True\n",
      "2        False\n",
      "3        False\n",
      "4        False\n",
      "         ...  \n",
      "11995    False\n",
      "11996    False\n",
      "11997    False\n",
      "11998    False\n",
      "11999    False\n",
      "Name: adoption_status, Length: 12000, dtype: bool\n"
     ]
    }
   ],
   "source": [
    "print('shape of total df')\n",
    "print(users_df.shape)\n",
    "print('sum of NA values')\n",
    "print(users_df.adoption_status.isna().sum())\n",
    "print(users_df.adoption_status.value_counts())\n",
    "print(users_df.adoption_status)"
   ]
  },
  {
   "cell_type": "markdown",
   "id": "mighty-revelation",
   "metadata": {},
   "source": [
    "# EDA"
   ]
  },
  {
   "cell_type": "code",
   "execution_count": 68,
   "id": "patent-warner",
   "metadata": {},
   "outputs": [
    {
     "name": "stdout",
     "output_type": "stream",
     "text": [
      "<class 'pandas.core.frame.DataFrame'>\n",
      "Int64Index: 12000 entries, 0 to 11999\n",
      "Data columns (total 11 columns):\n",
      " #   Column                      Non-Null Count  Dtype  \n",
      "---  ------                      --------------  -----  \n",
      " 0   object_id                   12000 non-null  int64  \n",
      " 1   creation_time               12000 non-null  object \n",
      " 2   name                        12000 non-null  object \n",
      " 3   email                       12000 non-null  object \n",
      " 4   creation_source             12000 non-null  object \n",
      " 5   last_session_creation_time  8823 non-null   float64\n",
      " 6   opted_in_to_mailing_list    12000 non-null  int64  \n",
      " 7   enabled_for_marketing_drip  12000 non-null  int64  \n",
      " 8   org_id                      12000 non-null  int64  \n",
      " 9   invited_by_user_id          6417 non-null   float64\n",
      " 10  adoption_status             12000 non-null  bool   \n",
      "dtypes: bool(1), float64(2), int64(4), object(4)\n",
      "memory usage: 1.0+ MB\n"
     ]
    }
   ],
   "source": [
    "users_df.info()"
   ]
  },
  {
   "cell_type": "code",
   "execution_count": 69,
   "id": "passive-marshall",
   "metadata": {},
   "outputs": [
    {
     "data": {
      "text/html": [
       "<div>\n",
       "<style scoped>\n",
       "    .dataframe tbody tr th:only-of-type {\n",
       "        vertical-align: middle;\n",
       "    }\n",
       "\n",
       "    .dataframe tbody tr th {\n",
       "        vertical-align: top;\n",
       "    }\n",
       "\n",
       "    .dataframe thead th {\n",
       "        text-align: right;\n",
       "    }\n",
       "</style>\n",
       "<table border=\"1\" class=\"dataframe\">\n",
       "  <thead>\n",
       "    <tr style=\"text-align: right;\">\n",
       "      <th></th>\n",
       "      <th>object_id</th>\n",
       "      <th>last_session_creation_time</th>\n",
       "      <th>opted_in_to_mailing_list</th>\n",
       "      <th>enabled_for_marketing_drip</th>\n",
       "      <th>org_id</th>\n",
       "      <th>invited_by_user_id</th>\n",
       "    </tr>\n",
       "  </thead>\n",
       "  <tbody>\n",
       "    <tr>\n",
       "      <th>count</th>\n",
       "      <td>12000.00000</td>\n",
       "      <td>8.823000e+03</td>\n",
       "      <td>12000.000000</td>\n",
       "      <td>12000.000000</td>\n",
       "      <td>12000.000000</td>\n",
       "      <td>6417.000000</td>\n",
       "    </tr>\n",
       "    <tr>\n",
       "      <th>mean</th>\n",
       "      <td>6000.50000</td>\n",
       "      <td>1.379279e+09</td>\n",
       "      <td>0.249500</td>\n",
       "      <td>0.149333</td>\n",
       "      <td>141.884583</td>\n",
       "      <td>5962.957145</td>\n",
       "    </tr>\n",
       "    <tr>\n",
       "      <th>std</th>\n",
       "      <td>3464.24595</td>\n",
       "      <td>1.953116e+07</td>\n",
       "      <td>0.432742</td>\n",
       "      <td>0.356432</td>\n",
       "      <td>124.056723</td>\n",
       "      <td>3383.761968</td>\n",
       "    </tr>\n",
       "    <tr>\n",
       "      <th>min</th>\n",
       "      <td>1.00000</td>\n",
       "      <td>1.338452e+09</td>\n",
       "      <td>0.000000</td>\n",
       "      <td>0.000000</td>\n",
       "      <td>0.000000</td>\n",
       "      <td>3.000000</td>\n",
       "    </tr>\n",
       "    <tr>\n",
       "      <th>25%</th>\n",
       "      <td>3000.75000</td>\n",
       "      <td>1.363195e+09</td>\n",
       "      <td>0.000000</td>\n",
       "      <td>0.000000</td>\n",
       "      <td>29.000000</td>\n",
       "      <td>3058.000000</td>\n",
       "    </tr>\n",
       "    <tr>\n",
       "      <th>50%</th>\n",
       "      <td>6000.50000</td>\n",
       "      <td>1.382888e+09</td>\n",
       "      <td>0.000000</td>\n",
       "      <td>0.000000</td>\n",
       "      <td>108.000000</td>\n",
       "      <td>5954.000000</td>\n",
       "    </tr>\n",
       "    <tr>\n",
       "      <th>75%</th>\n",
       "      <td>9000.25000</td>\n",
       "      <td>1.398443e+09</td>\n",
       "      <td>0.000000</td>\n",
       "      <td>0.000000</td>\n",
       "      <td>238.250000</td>\n",
       "      <td>8817.000000</td>\n",
       "    </tr>\n",
       "    <tr>\n",
       "      <th>max</th>\n",
       "      <td>12000.00000</td>\n",
       "      <td>1.402067e+09</td>\n",
       "      <td>1.000000</td>\n",
       "      <td>1.000000</td>\n",
       "      <td>416.000000</td>\n",
       "      <td>11999.000000</td>\n",
       "    </tr>\n",
       "  </tbody>\n",
       "</table>\n",
       "</div>"
      ],
      "text/plain": [
       "         object_id  last_session_creation_time  opted_in_to_mailing_list  \\\n",
       "count  12000.00000                8.823000e+03              12000.000000   \n",
       "mean    6000.50000                1.379279e+09                  0.249500   \n",
       "std     3464.24595                1.953116e+07                  0.432742   \n",
       "min        1.00000                1.338452e+09                  0.000000   \n",
       "25%     3000.75000                1.363195e+09                  0.000000   \n",
       "50%     6000.50000                1.382888e+09                  0.000000   \n",
       "75%     9000.25000                1.398443e+09                  0.000000   \n",
       "max    12000.00000                1.402067e+09                  1.000000   \n",
       "\n",
       "       enabled_for_marketing_drip        org_id  invited_by_user_id  \n",
       "count                12000.000000  12000.000000         6417.000000  \n",
       "mean                     0.149333    141.884583         5962.957145  \n",
       "std                      0.356432    124.056723         3383.761968  \n",
       "min                      0.000000      0.000000            3.000000  \n",
       "25%                      0.000000     29.000000         3058.000000  \n",
       "50%                      0.000000    108.000000         5954.000000  \n",
       "75%                      0.000000    238.250000         8817.000000  \n",
       "max                      1.000000    416.000000        11999.000000  "
      ]
     },
     "execution_count": 69,
     "metadata": {},
     "output_type": "execute_result"
    }
   ],
   "source": [
    "users_df.describe()"
   ]
  },
  {
   "cell_type": "markdown",
   "id": "voluntary-policy",
   "metadata": {},
   "source": [
    "# PreProcessing"
   ]
  },
  {
   "cell_type": "markdown",
   "id": "egyptian-nigeria",
   "metadata": {},
   "source": [
    "### Time Conversions"
   ]
  },
  {
   "cell_type": "markdown",
   "id": "useful-reverse",
   "metadata": {},
   "source": [
    "\n",
    "https://stackoverflow.com/questions/40217369/python-linear-regression-predict-by-date\n",
    "\n",
    "\n",
    "It is really important to differentiate the data types that you want to use for regression/classification.\n",
    "\n",
    "When you are using time series, that is another case but if you want to use time data as a numerical data type as your input, then you should transform your data type from datetime to float (if your data_df['conv_date] is a datetime object, if not then you should first transform it by using; data_df['conv_date'] = pd.to_datetime(data_df.date, format=\"%Y-%M-%D\") )\n",
    "\n",
    "I agree with Thomas Vetterli's answer. It is useful to be careful what kind of time data you are using.\n",
    "\n",
    "If you are only using year and month data then dt.datetime.toordinal would be enough to use;\n",
    "\n",
    ">import datetime\n",
    ">data_df['conv_date'] = pd.to_datetime(data_df.date, format=\"%Y-%M-%D\")\n",
    ">data_df['conv_date'] = data_df['conv_date'].map(datetime.datetime.toordinal)\n",
    "737577\n",
    "But if you want to use also the hour, minute and second information then time.mktime() suits better;\n",
    "\n",
    ">import time\n",
    ">data_df['conv_date'] = pd.to_datetime(data_df.date, format=\"%Y-%M-%D\")\n",
    ">data_df['conv_date'] = data_df['conv_date'].apply(lambda  var: time.mktime(var.timetuple()))\n",
    "1591016041.0 \n",
    "\n",
    "Also 1591016044.0 is another exemplary output from my data, it varies with changes in seconds."
   ]
  },
  {
   "cell_type": "code",
   "execution_count": 70,
   "id": "civic-denial",
   "metadata": {},
   "outputs": [],
   "source": [
    "users_df.creation_time = pd.to_datetime(users_df.creation_time)\n"
   ]
  },
  {
   "cell_type": "code",
   "execution_count": 71,
   "id": "attractive-addiction",
   "metadata": {},
   "outputs": [
    {
     "data": {
      "text/plain": [
       "0       2014-04-22 03:53:30\n",
       "1       2013-11-15 03:45:04\n",
       "2       2013-03-19 23:14:52\n",
       "3       2013-05-21 08:09:28\n",
       "4       2013-01-17 10:14:20\n",
       "                ...        \n",
       "11995   2013-09-06 06:14:15\n",
       "11996   2013-01-10 18:28:37\n",
       "11997   2014-04-27 12:45:16\n",
       "11998   2012-05-31 11:55:59\n",
       "11999   2014-01-26 08:57:12\n",
       "Name: creation_time, Length: 12000, dtype: datetime64[ns]"
      ]
     },
     "execution_count": 71,
     "metadata": {},
     "output_type": "execute_result"
    }
   ],
   "source": [
    "users_df.creation_time"
   ]
  },
  {
   "cell_type": "code",
   "execution_count": 72,
   "id": "creative-stupid",
   "metadata": {},
   "outputs": [],
   "source": [
    "users_df['oridinal_creation_date'] = users_df['creation_time'].map(datetime.datetime.toordinal)"
   ]
  },
  {
   "cell_type": "code",
   "execution_count": 73,
   "id": "western-ceramic",
   "metadata": {
    "scrolled": true
   },
   "outputs": [
    {
     "name": "stdout",
     "output_type": "stream",
     "text": [
      "<class 'pandas.core.frame.DataFrame'>\n",
      "Int64Index: 12000 entries, 0 to 11999\n",
      "Data columns (total 12 columns):\n",
      " #   Column                      Non-Null Count  Dtype         \n",
      "---  ------                      --------------  -----         \n",
      " 0   object_id                   12000 non-null  int64         \n",
      " 1   creation_time               12000 non-null  datetime64[ns]\n",
      " 2   name                        12000 non-null  object        \n",
      " 3   email                       12000 non-null  object        \n",
      " 4   creation_source             12000 non-null  object        \n",
      " 5   last_session_creation_time  8823 non-null   float64       \n",
      " 6   opted_in_to_mailing_list    12000 non-null  int64         \n",
      " 7   enabled_for_marketing_drip  12000 non-null  int64         \n",
      " 8   org_id                      12000 non-null  int64         \n",
      " 9   invited_by_user_id          6417 non-null   float64       \n",
      " 10  adoption_status             12000 non-null  bool          \n",
      " 11  oridinal_creation_date      12000 non-null  int64         \n",
      "dtypes: bool(1), datetime64[ns](1), float64(2), int64(5), object(3)\n",
      "memory usage: 1.1+ MB\n"
     ]
    }
   ],
   "source": [
    "users_df.info()"
   ]
  },
  {
   "cell_type": "code",
   "execution_count": 74,
   "id": "center-rebel",
   "metadata": {},
   "outputs": [],
   "source": [
    "users_df.drop(columns=['creation_time','name', 'email'], inplace=True)"
   ]
  },
  {
   "cell_type": "code",
   "execution_count": 75,
   "id": "independent-tours",
   "metadata": {},
   "outputs": [
    {
     "name": "stdout",
     "output_type": "stream",
     "text": [
      "<class 'pandas.core.frame.DataFrame'>\n",
      "Int64Index: 12000 entries, 0 to 11999\n",
      "Data columns (total 9 columns):\n",
      " #   Column                      Non-Null Count  Dtype  \n",
      "---  ------                      --------------  -----  \n",
      " 0   object_id                   12000 non-null  int64  \n",
      " 1   creation_source             12000 non-null  object \n",
      " 2   last_session_creation_time  8823 non-null   float64\n",
      " 3   opted_in_to_mailing_list    12000 non-null  int64  \n",
      " 4   enabled_for_marketing_drip  12000 non-null  int64  \n",
      " 5   org_id                      12000 non-null  int64  \n",
      " 6   invited_by_user_id          6417 non-null   float64\n",
      " 7   adoption_status             12000 non-null  bool   \n",
      " 8   oridinal_creation_date      12000 non-null  int64  \n",
      "dtypes: bool(1), float64(2), int64(5), object(1)\n",
      "memory usage: 855.5+ KB\n"
     ]
    }
   ],
   "source": [
    "users_df.info()"
   ]
  },
  {
   "cell_type": "code",
   "execution_count": 76,
   "id": "european-watch",
   "metadata": {},
   "outputs": [],
   "source": [
    "users_df['adoption_status'] = users_df['adoption_status'].astype(int)"
   ]
  },
  {
   "cell_type": "code",
   "execution_count": 77,
   "id": "future-impact",
   "metadata": {
    "scrolled": false
   },
   "outputs": [
    {
     "name": "stdout",
     "output_type": "stream",
     "text": [
      "0    0\n",
      "1    1\n",
      "2    0\n",
      "3    0\n",
      "4    0\n",
      "Name: adoption_status, dtype: int32\n",
      "<class 'pandas.core.frame.DataFrame'>\n",
      "Int64Index: 12000 entries, 0 to 11999\n",
      "Data columns (total 9 columns):\n",
      " #   Column                      Non-Null Count  Dtype  \n",
      "---  ------                      --------------  -----  \n",
      " 0   object_id                   12000 non-null  int64  \n",
      " 1   creation_source             12000 non-null  object \n",
      " 2   last_session_creation_time  8823 non-null   float64\n",
      " 3   opted_in_to_mailing_list    12000 non-null  int64  \n",
      " 4   enabled_for_marketing_drip  12000 non-null  int64  \n",
      " 5   org_id                      12000 non-null  int64  \n",
      " 6   invited_by_user_id          6417 non-null   float64\n",
      " 7   adoption_status             12000 non-null  int32  \n",
      " 8   oridinal_creation_date      12000 non-null  int64  \n",
      "dtypes: float64(2), int32(1), int64(5), object(1)\n",
      "memory usage: 890.6+ KB\n"
     ]
    }
   ],
   "source": [
    "print(users_df['adoption_status'].head(5))\n",
    "users_df.info()"
   ]
  },
  {
   "cell_type": "code",
   "execution_count": 78,
   "id": "agricultural-group",
   "metadata": {},
   "outputs": [],
   "source": [
    "users_df= users_df.drop(columns=['last_session_creation_time'])"
   ]
  },
  {
   "cell_type": "code",
   "execution_count": 79,
   "id": "arctic-knock",
   "metadata": {
    "scrolled": true
   },
   "outputs": [
    {
     "data": {
      "text/plain": [
       "5583"
      ]
     },
     "execution_count": 79,
     "metadata": {},
     "output_type": "execute_result"
    }
   ],
   "source": [
    "users_df.invited_by_user_id.isnull().sum()"
   ]
  },
  {
   "cell_type": "code",
   "execution_count": 80,
   "id": "increasing-folks",
   "metadata": {},
   "outputs": [
    {
     "data": {
      "text/plain": [
       "0"
      ]
     },
     "execution_count": 80,
     "metadata": {},
     "output_type": "execute_result"
    }
   ],
   "source": [
    "users_df['invited_by_user_id'] = users_df['invited_by_user_id'].fillna(0)\n",
    "users_df.invited_by_user_id.isnull().sum()"
   ]
  },
  {
   "cell_type": "code",
   "execution_count": 81,
   "id": "transsexual-blues",
   "metadata": {},
   "outputs": [
    {
     "data": {
      "text/plain": [
       "2565"
      ]
     },
     "execution_count": 81,
     "metadata": {},
     "output_type": "execute_result"
    }
   ],
   "source": [
    "len(users_df.invited_by_user_id.unique())"
   ]
  },
  {
   "cell_type": "code",
   "execution_count": 89,
   "id": "statutory-greensboro",
   "metadata": {
    "scrolled": false
   },
   "outputs": [],
   "source": [
    "dummy = pd.get_dummies(users_df[['creation_source','org_id','invited_by_user_id']])\n"
   ]
  },
  {
   "cell_type": "code",
   "execution_count": 91,
   "id": "arabic-seller",
   "metadata": {},
   "outputs": [],
   "source": [
    "users_df.drop(columns=['creation_source','org_id','invited_by_user_id'], inplace=True)\n",
    "users_df = users_df.join(dummy)\n",
    "\n"
   ]
  },
  {
   "cell_type": "code",
   "execution_count": 92,
   "id": "coral-fifty",
   "metadata": {},
   "outputs": [],
   "source": [
    "X = users_df.drop(['adoption_status'], axis=1)\n",
    "y = users_df['adoption_status']"
   ]
  },
  {
   "cell_type": "code",
   "execution_count": 96,
   "id": "contemporary-salmon",
   "metadata": {},
   "outputs": [],
   "source": [
    "X_train, X_test, y_train, y_test = train_test_split(X, y, test_size=.30)"
   ]
  },
  {
   "cell_type": "markdown",
   "id": "collectible-motivation",
   "metadata": {},
   "source": [
    "# Modeling"
   ]
  },
  {
   "cell_type": "code",
   "execution_count": 97,
   "id": "retired-trading",
   "metadata": {},
   "outputs": [],
   "source": [
    "from sklearn.linear_model import LogisticRegression"
   ]
  },
  {
   "cell_type": "code",
   "execution_count": 98,
   "id": "coordinate-satin",
   "metadata": {},
   "outputs": [],
   "source": [
    "lr = LogisticRegression()\n"
   ]
  },
  {
   "cell_type": "code",
   "execution_count": 100,
   "id": "irish-harvey",
   "metadata": {},
   "outputs": [
    {
     "data": {
      "text/plain": [
       "LogisticRegression()"
      ]
     },
     "execution_count": 100,
     "metadata": {},
     "output_type": "execute_result"
    }
   ],
   "source": [
    "lr.fit(X_train, y_train)"
   ]
  },
  {
   "cell_type": "markdown",
   "id": "corrected-optics",
   "metadata": {},
   "source": [
    "# Feature Importance Examination"
   ]
  },
  {
   "cell_type": "code",
   "execution_count": 104,
   "id": "studied-repeat",
   "metadata": {},
   "outputs": [
    {
     "data": {
      "text/plain": [
       "array([[ 5.37257667e-06,  4.18223456e-07, -3.33387865e-07,\n",
       "        -2.95044683e-06,  1.46325172e-03,  1.48971415e-05,\n",
       "         3.22945502e-06, -2.11478066e-06, -4.82369803e-06,\n",
       "         1.06006092e-06,  2.65388077e-06]])"
      ]
     },
     "execution_count": 104,
     "metadata": {},
     "output_type": "execute_result"
    }
   ],
   "source": [
    "lr.coef_"
   ]
  },
  {
   "cell_type": "code",
   "execution_count": 106,
   "id": "changing-beginning",
   "metadata": {},
   "outputs": [
    {
     "ename": "AttributeError",
     "evalue": "'LogisticRegression' object has no attribute 'feature_names_in_'",
     "output_type": "error",
     "traceback": [
      "\u001b[1;31m---------------------------------------------------------------------------\u001b[0m",
      "\u001b[1;31mAttributeError\u001b[0m                            Traceback (most recent call last)",
      "\u001b[1;32m<ipython-input-106-a8b1c58e3a3d>\u001b[0m in \u001b[0;36m<module>\u001b[1;34m\u001b[0m\n\u001b[1;32m----> 1\u001b[1;33m \u001b[0mlr\u001b[0m\u001b[1;33m.\u001b[0m\u001b[0mfeature_names_in_\u001b[0m\u001b[1;33m\u001b[0m\u001b[1;33m\u001b[0m\u001b[0m\n\u001b[0m",
      "\u001b[1;31mAttributeError\u001b[0m: 'LogisticRegression' object has no attribute 'feature_names_in_'"
     ]
    }
   ],
   "source": [
    "lr.feature_names_in_"
   ]
  },
  {
   "cell_type": "code",
   "execution_count": 107,
   "id": "pharmaceutical-stage",
   "metadata": {},
   "outputs": [
    {
     "data": {
      "text/plain": [
       "Index(['object_id', 'opted_in_to_mailing_list', 'enabled_for_marketing_drip',\n",
       "       'oridinal_creation_date', 'org_id', 'invited_by_user_id',\n",
       "       'creation_source_GUEST_INVITE', 'creation_source_ORG_INVITE',\n",
       "       'creation_source_PERSONAL_PROJECTS', 'creation_source_SIGNUP',\n",
       "       'creation_source_SIGNUP_GOOGLE_AUTH'],\n",
       "      dtype='object')"
      ]
     },
     "execution_count": 107,
     "metadata": {},
     "output_type": "execute_result"
    }
   ],
   "source": [
    "X_train.columns"
   ]
  },
  {
   "cell_type": "code",
   "execution_count": 110,
   "id": "wireless-hampton",
   "metadata": {},
   "outputs": [
    {
     "name": "stdout",
     "output_type": "stream",
     "text": [
      "object_id\n",
      "opted_in_to_mailing_list\n",
      "enabled_for_marketing_drip\n",
      "oridinal_creation_date\n",
      "org_id\n",
      "invited_by_user_id\n",
      "creation_source_GUEST_INVITE\n",
      "creation_source_ORG_INVITE\n",
      "creation_source_PERSONAL_PROJECTS\n",
      "creation_source_SIGNUP\n",
      "creation_source_SIGNUP_GOOGLE_AUTH\n"
     ]
    }
   ],
   "source": [
    "for each in X_train.columns:\n",
    "    print(each)"
   ]
  },
  {
   "cell_type": "code",
   "execution_count": 117,
   "id": "based-refund",
   "metadata": {},
   "outputs": [
    {
     "name": "stdout",
     "output_type": "stream",
     "text": [
      "5.3725766744365065e-06\n",
      "4.1822345570423683e-07\n",
      "-3.333878648521132e-07\n",
      "-2.950446830631224e-06\n",
      "0.0014632517160409247\n",
      "1.4897141498491436e-05\n",
      "3.2294550205916733e-06\n",
      "-2.1147806613307288e-06\n",
      "-4.823698030246171e-06\n",
      "1.060060918433676e-06\n",
      "2.6538807682998097e-06\n"
     ]
    }
   ],
   "source": [
    "for each in lr.coef_[0]:\n",
    "    print(each)"
   ]
  },
  {
   "cell_type": "code",
   "execution_count": 120,
   "id": "cooked-literature",
   "metadata": {
    "scrolled": false
   },
   "outputs": [
    {
     "name": "stdout",
     "output_type": "stream",
     "text": [
      "{'object_id': 5.3725766744365065e-06, 'opted_in_to_mailing_list': 4.1822345570423683e-07, 'enabled_for_marketing_drip': -3.333878648521132e-07, 'oridinal_creation_date': -2.950446830631224e-06, 'org_id': 0.0014632517160409247, 'invited_by_user_id': 1.4897141498491436e-05, 'creation_source_GUEST_INVITE': 3.2294550205916733e-06, 'creation_source_ORG_INVITE': -2.1147806613307288e-06, 'creation_source_PERSONAL_PROJECTS': -4.823698030246171e-06, 'creation_source_SIGNUP': 1.060060918433676e-06, 'creation_source_SIGNUP_GOOGLE_AUTH': 2.6538807682998097e-06}\n"
     ]
    }
   ],
   "source": [
    "coef_dict = {}\n",
    "for coef, name in zip(lr.coef_[0],X_train.columns):\n",
    "    coef_dict[name] = coef\n",
    "print(coef_dict)"
   ]
  },
  {
   "cell_type": "code",
   "execution_count": 122,
   "id": "biblical-lease",
   "metadata": {},
   "outputs": [],
   "source": [
    "coef_df = pd.DataFrame([coef_dict])"
   ]
  },
  {
   "cell_type": "code",
   "execution_count": 125,
   "id": "varying-absorption",
   "metadata": {},
   "outputs": [],
   "source": [
    "coef_df = coef_df.transpose()"
   ]
  },
  {
   "cell_type": "code",
   "execution_count": 126,
   "id": "fallen-humanitarian",
   "metadata": {},
   "outputs": [],
   "source": [
    "coef_df['coef'] = coef_df[0]"
   ]
  },
  {
   "cell_type": "code",
   "execution_count": 130,
   "id": "blank-charles",
   "metadata": {},
   "outputs": [],
   "source": [
    "coef_df= coef_df.drop(columns=[0])"
   ]
  },
  {
   "cell_type": "code",
   "execution_count": 142,
   "id": "detailed-salmon",
   "metadata": {
    "scrolled": true
   },
   "outputs": [
    {
     "data": {
      "text/plain": [
       "org_id                                1.463252e-03\n",
       "invited_by_user_id                    1.489714e-05\n",
       "object_id                             5.372577e-06\n",
       "creation_source_GUEST_INVITE          3.229455e-06\n",
       "creation_source_SIGNUP_GOOGLE_AUTH    2.653881e-06\n",
       "creation_source_SIGNUP                1.060061e-06\n",
       "opted_in_to_mailing_list              4.182235e-07\n",
       "enabled_for_marketing_drip           -3.333879e-07\n",
       "creation_source_ORG_INVITE           -2.114781e-06\n",
       "oridinal_creation_date               -2.950447e-06\n",
       "creation_source_PERSONAL_PROJECTS    -4.823698e-06\n",
       "Name: coef, dtype: float64"
      ]
     },
     "execution_count": 142,
     "metadata": {},
     "output_type": "execute_result"
    }
   ],
   "source": [
    "coef_df.coef.sort_values(ascending=False)"
   ]
  },
  {
   "cell_type": "code",
   "execution_count": 136,
   "id": "congressional-silver",
   "metadata": {
    "scrolled": true
   },
   "outputs": [
    {
     "data": {
      "text/plain": [
       "Index(['coef'], dtype='object')"
      ]
     },
     "execution_count": 136,
     "metadata": {},
     "output_type": "execute_result"
    }
   ],
   "source": [
    "coef_df.columns"
   ]
  },
  {
   "cell_type": "code",
   "execution_count": 137,
   "id": "cardiac-concentration",
   "metadata": {},
   "outputs": [
    {
     "data": {
      "text/html": [
       "<div>\n",
       "<style scoped>\n",
       "    .dataframe tbody tr th:only-of-type {\n",
       "        vertical-align: middle;\n",
       "    }\n",
       "\n",
       "    .dataframe tbody tr th {\n",
       "        vertical-align: top;\n",
       "    }\n",
       "\n",
       "    .dataframe thead th {\n",
       "        text-align: right;\n",
       "    }\n",
       "</style>\n",
       "<table border=\"1\" class=\"dataframe\">\n",
       "  <thead>\n",
       "    <tr style=\"text-align: right;\">\n",
       "      <th></th>\n",
       "      <th>coef</th>\n",
       "    </tr>\n",
       "  </thead>\n",
       "  <tbody>\n",
       "    <tr>\n",
       "      <th>object_id</th>\n",
       "      <td>5.372577e-06</td>\n",
       "    </tr>\n",
       "    <tr>\n",
       "      <th>opted_in_to_mailing_list</th>\n",
       "      <td>4.182235e-07</td>\n",
       "    </tr>\n",
       "    <tr>\n",
       "      <th>enabled_for_marketing_drip</th>\n",
       "      <td>-3.333879e-07</td>\n",
       "    </tr>\n",
       "    <tr>\n",
       "      <th>oridinal_creation_date</th>\n",
       "      <td>-2.950447e-06</td>\n",
       "    </tr>\n",
       "    <tr>\n",
       "      <th>org_id</th>\n",
       "      <td>1.463252e-03</td>\n",
       "    </tr>\n",
       "    <tr>\n",
       "      <th>invited_by_user_id</th>\n",
       "      <td>1.489714e-05</td>\n",
       "    </tr>\n",
       "    <tr>\n",
       "      <th>creation_source_GUEST_INVITE</th>\n",
       "      <td>3.229455e-06</td>\n",
       "    </tr>\n",
       "    <tr>\n",
       "      <th>creation_source_ORG_INVITE</th>\n",
       "      <td>-2.114781e-06</td>\n",
       "    </tr>\n",
       "    <tr>\n",
       "      <th>creation_source_PERSONAL_PROJECTS</th>\n",
       "      <td>-4.823698e-06</td>\n",
       "    </tr>\n",
       "    <tr>\n",
       "      <th>creation_source_SIGNUP</th>\n",
       "      <td>1.060061e-06</td>\n",
       "    </tr>\n",
       "    <tr>\n",
       "      <th>creation_source_SIGNUP_GOOGLE_AUTH</th>\n",
       "      <td>2.653881e-06</td>\n",
       "    </tr>\n",
       "  </tbody>\n",
       "</table>\n",
       "</div>"
      ],
      "text/plain": [
       "                                            coef\n",
       "object_id                           5.372577e-06\n",
       "opted_in_to_mailing_list            4.182235e-07\n",
       "enabled_for_marketing_drip         -3.333879e-07\n",
       "oridinal_creation_date             -2.950447e-06\n",
       "org_id                              1.463252e-03\n",
       "invited_by_user_id                  1.489714e-05\n",
       "creation_source_GUEST_INVITE        3.229455e-06\n",
       "creation_source_ORG_INVITE         -2.114781e-06\n",
       "creation_source_PERSONAL_PROJECTS  -4.823698e-06\n",
       "creation_source_SIGNUP              1.060061e-06\n",
       "creation_source_SIGNUP_GOOGLE_AUTH  2.653881e-06"
      ]
     },
     "execution_count": 137,
     "metadata": {},
     "output_type": "execute_result"
    }
   ],
   "source": [
    "coef_df"
   ]
  },
  {
   "cell_type": "code",
   "execution_count": 141,
   "id": "amended-bench",
   "metadata": {},
   "outputs": [
    {
     "data": {
      "text/plain": [
       "<AxesSubplot:xlabel='index', ylabel='coef'>"
      ]
     },
     "execution_count": 141,
     "metadata": {},
     "output_type": "execute_result"
    },
    {
     "data": {
      "image/png": "[encoded data removed]",
      "text/plain": [
       "<Figure size 432x288 with 1 Axes>"
      ]
     },
     "metadata": {
      "needs_background": "light"
     },
     "output_type": "display_data"
    }
   ],
   "source": [
    "sns.barplot(x='index',y='coef', data=coef_df.reset_index())"
   ]
  },
  {
   "cell_type": "code",
   "execution_count": null,
   "id": "announced-fabric",
   "metadata": {},
   "outputs": [],
   "source": []
  }
 ],
 "metadata": {
  "kernelspec": {
   "display_name": "Python 3",
   "language": "python",
   "name": "python3"
  },
  "language_info": {
   "codemirror_mode": {
    "name": "ipython",
    "version": 3
   },
   "file_extension": ".py",
   "mimetype": "text/x-python",
   "name": "python",
   "nbconvert_exporter": "python",
   "pygments_lexer": "ipython3",
   "version": "3.9.1"
  }
 },
 "nbformat": 4,
 "nbformat_minor": 5
}
