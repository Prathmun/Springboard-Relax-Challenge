{
 "cells": [
  {
   "cell_type": "markdown",
   "id": "handed-island",
   "metadata": {},
   "source": [
    "# Set Up"
   ]
  },
  {
   "cell_type": "markdown",
   "id": "specified-validity",
   "metadata": {},
   "source": [
    "#### Utilities"
   ]
  },
  {
   "cell_type": "code",
   "execution_count": 74,
   "id": "located-style",
   "metadata": {},
   "outputs": [],
   "source": [
    "import pandas as pd\n",
    "import datetime\n",
    "import seaborn as sns\n",
    "import numpy as np\n",
    "import matplotlib.pyplot as plt"
   ]
  },
  {
   "cell_type": "markdown",
   "id": "brazilian-router",
   "metadata": {},
   "source": [
    "#### Modeling Tools"
   ]
  },
  {
   "cell_type": "code",
   "execution_count": 75,
   "id": "invalid-training",
   "metadata": {},
   "outputs": [],
   "source": [
    "from sklearn.model_selection import train_test_split\n",
    "from sklearn.linear_model import LogisticRegression"
   ]
  },
  {
   "cell_type": "markdown",
   "id": "mighty-revelation",
   "metadata": {},
   "source": [
    "# EDA"
   ]
  },
  {
   "cell_type": "markdown",
   "id": "million-sandwich",
   "metadata": {},
   "source": [
    "## Basic Data Set Verification"
   ]
  },
  {
   "cell_type": "markdown",
   "id": "formed-indicator",
   "metadata": {},
   "source": [
    "### Engagement Df"
   ]
  },
  {
   "cell_type": "code",
   "execution_count": 76,
   "id": "bizarre-upper",
   "metadata": {},
   "outputs": [],
   "source": [
    "engagement_df = pd.read_csv('takehome_user_engagement.csv')"
   ]
  },
  {
   "cell_type": "code",
   "execution_count": 77,
   "id": "static-noise",
   "metadata": {
    "scrolled": true
   },
   "outputs": [
    {
     "data": {
      "text/plain": [
       "(207917, 3)"
      ]
     },
     "execution_count": 77,
     "metadata": {},
     "output_type": "execute_result"
    }
   ],
   "source": [
    "engagement_df.shape"
   ]
  },
  {
   "cell_type": "code",
   "execution_count": 78,
   "id": "fitting-preview",
   "metadata": {
    "scrolled": true
   },
   "outputs": [
    {
     "data": {
      "text/html": [
       "<div>\n",
       "<style scoped>\n",
       "    .dataframe tbody tr th:only-of-type {\n",
       "        vertical-align: middle;\n",
       "    }\n",
       "\n",
       "    .dataframe tbody tr th {\n",
       "        vertical-align: top;\n",
       "    }\n",
       "\n",
       "    .dataframe thead th {\n",
       "        text-align: right;\n",
       "    }\n",
       "</style>\n",
       "<table border=\"1\" class=\"dataframe\">\n",
       "  <thead>\n",
       "    <tr style=\"text-align: right;\">\n",
       "      <th></th>\n",
       "      <th>time_stamp</th>\n",
       "      <th>user_id</th>\n",
       "      <th>visited</th>\n",
       "    </tr>\n",
       "  </thead>\n",
       "  <tbody>\n",
       "    <tr>\n",
       "      <th>0</th>\n",
       "      <td>2014-04-22 03:53:30</td>\n",
       "      <td>1</td>\n",
       "      <td>1</td>\n",
       "    </tr>\n",
       "    <tr>\n",
       "      <th>1</th>\n",
       "      <td>2013-11-15 03:45:04</td>\n",
       "      <td>2</td>\n",
       "      <td>1</td>\n",
       "    </tr>\n",
       "    <tr>\n",
       "      <th>2</th>\n",
       "      <td>2013-11-29 03:45:04</td>\n",
       "      <td>2</td>\n",
       "      <td>1</td>\n",
       "    </tr>\n",
       "  </tbody>\n",
       "</table>\n",
       "</div>"
      ],
      "text/plain": [
       "            time_stamp  user_id  visited\n",
       "0  2014-04-22 03:53:30        1        1\n",
       "1  2013-11-15 03:45:04        2        1\n",
       "2  2013-11-29 03:45:04        2        1"
      ]
     },
     "execution_count": 78,
     "metadata": {},
     "output_type": "execute_result"
    }
   ],
   "source": [
    "engagement_df.head(3)"
   ]
  },
  {
   "cell_type": "markdown",
   "id": "patient-cooperation",
   "metadata": {},
   "source": [
    "### User DF"
   ]
  },
  {
   "cell_type": "code",
   "execution_count": 79,
   "id": "extensive-westminster",
   "metadata": {},
   "outputs": [],
   "source": [
    "users_df = pd.read_csv('takehome_users.csv', encoding='latin-1')"
   ]
  },
  {
   "cell_type": "code",
   "execution_count": 80,
   "id": "extended-earth",
   "metadata": {
    "scrolled": true
   },
   "outputs": [
    {
     "data": {
      "text/plain": [
       "(12000, 10)"
      ]
     },
     "execution_count": 80,
     "metadata": {},
     "output_type": "execute_result"
    }
   ],
   "source": [
    "users_df.shape"
   ]
  },
  {
   "cell_type": "code",
   "execution_count": 81,
   "id": "horizontal-fantasy",
   "metadata": {
    "scrolled": true
   },
   "outputs": [
    {
     "data": {
      "text/plain": [
       "Index(['object_id', 'creation_time', 'name', 'email', 'creation_source',\n",
       "       'last_session_creation_time', 'opted_in_to_mailing_list',\n",
       "       'enabled_for_marketing_drip', 'org_id', 'invited_by_user_id'],\n",
       "      dtype='object')"
      ]
     },
     "execution_count": 81,
     "metadata": {},
     "output_type": "execute_result"
    }
   ],
   "source": [
    "users_df.columns"
   ]
  },
  {
   "cell_type": "code",
   "execution_count": 82,
   "id": "adult-gravity",
   "metadata": {
    "scrolled": false
   },
   "outputs": [
    {
     "data": {
      "text/html": [
       "<div>\n",
       "<style scoped>\n",
       "    .dataframe tbody tr th:only-of-type {\n",
       "        vertical-align: middle;\n",
       "    }\n",
       "\n",
       "    .dataframe tbody tr th {\n",
       "        vertical-align: top;\n",
       "    }\n",
       "\n",
       "    .dataframe thead th {\n",
       "        text-align: right;\n",
       "    }\n",
       "</style>\n",
       "<table border=\"1\" class=\"dataframe\">\n",
       "  <thead>\n",
       "    <tr style=\"text-align: right;\">\n",
       "      <th></th>\n",
       "      <th>object_id</th>\n",
       "      <th>creation_time</th>\n",
       "      <th>name</th>\n",
       "      <th>email</th>\n",
       "      <th>creation_source</th>\n",
       "      <th>last_session_creation_time</th>\n",
       "      <th>opted_in_to_mailing_list</th>\n",
       "      <th>enabled_for_marketing_drip</th>\n",
       "      <th>org_id</th>\n",
       "      <th>invited_by_user_id</th>\n",
       "    </tr>\n",
       "  </thead>\n",
       "  <tbody>\n",
       "    <tr>\n",
       "      <th>0</th>\n",
       "      <td>1</td>\n",
       "      <td>2014-04-22 03:53:30</td>\n",
       "      <td>Clausen August</td>\n",
       "      <td>AugustCClausen@yahoo.com</td>\n",
       "      <td>GUEST_INVITE</td>\n",
       "      <td>1.398139e+09</td>\n",
       "      <td>1</td>\n",
       "      <td>0</td>\n",
       "      <td>11</td>\n",
       "      <td>10803.0</td>\n",
       "    </tr>\n",
       "    <tr>\n",
       "      <th>1</th>\n",
       "      <td>2</td>\n",
       "      <td>2013-11-15 03:45:04</td>\n",
       "      <td>Poole Matthew</td>\n",
       "      <td>MatthewPoole@gustr.com</td>\n",
       "      <td>ORG_INVITE</td>\n",
       "      <td>1.396238e+09</td>\n",
       "      <td>0</td>\n",
       "      <td>0</td>\n",
       "      <td>1</td>\n",
       "      <td>316.0</td>\n",
       "    </tr>\n",
       "    <tr>\n",
       "      <th>2</th>\n",
       "      <td>3</td>\n",
       "      <td>2013-03-19 23:14:52</td>\n",
       "      <td>Bottrill Mitchell</td>\n",
       "      <td>MitchellBottrill@gustr.com</td>\n",
       "      <td>ORG_INVITE</td>\n",
       "      <td>1.363735e+09</td>\n",
       "      <td>0</td>\n",
       "      <td>0</td>\n",
       "      <td>94</td>\n",
       "      <td>1525.0</td>\n",
       "    </tr>\n",
       "  </tbody>\n",
       "</table>\n",
       "</div>"
      ],
      "text/plain": [
       "   object_id        creation_time               name  \\\n",
       "0          1  2014-04-22 03:53:30     Clausen August   \n",
       "1          2  2013-11-15 03:45:04      Poole Matthew   \n",
       "2          3  2013-03-19 23:14:52  Bottrill Mitchell   \n",
       "\n",
       "                        email creation_source  last_session_creation_time  \\\n",
       "0    AugustCClausen@yahoo.com    GUEST_INVITE                1.398139e+09   \n",
       "1      MatthewPoole@gustr.com      ORG_INVITE                1.396238e+09   \n",
       "2  MitchellBottrill@gustr.com      ORG_INVITE                1.363735e+09   \n",
       "\n",
       "   opted_in_to_mailing_list  enabled_for_marketing_drip  org_id  \\\n",
       "0                         1                           0      11   \n",
       "1                         0                           0       1   \n",
       "2                         0                           0      94   \n",
       "\n",
       "   invited_by_user_id  \n",
       "0             10803.0  \n",
       "1               316.0  \n",
       "2              1525.0  "
      ]
     },
     "execution_count": 82,
     "metadata": {},
     "output_type": "execute_result"
    }
   ],
   "source": [
    "users_df.head(3)"
   ]
  },
  {
   "cell_type": "markdown",
   "id": "earlier-needle",
   "metadata": {},
   "source": [
    "I think object_id is user id, but I wanted to see if it conformed to my expectations for that column, and it did."
   ]
  },
  {
   "cell_type": "code",
   "execution_count": 83,
   "id": "annoying-tobago",
   "metadata": {
    "scrolled": true
   },
   "outputs": [
    {
     "data": {
      "text/plain": [
       "2049     1\n",
       "10912    1\n",
       "661      1\n",
       "6806     1\n",
       "4759     1\n",
       "        ..\n",
       "7481     1\n",
       "1338     1\n",
       "3387     1\n",
       "9534     1\n",
       "2047     1\n",
       "Name: object_id, Length: 12000, dtype: int64"
      ]
     },
     "execution_count": 83,
     "metadata": {},
     "output_type": "execute_result"
    }
   ],
   "source": [
    "users_df.object_id.value_counts()"
   ]
  },
  {
   "cell_type": "markdown",
   "id": "understanding-passing",
   "metadata": {},
   "source": [
    "**Internal Problem Statement**: \n",
    "\n",
    "Okay, so we want to make a column in the users df, that lists the number of unique visits for each user. Unique visits are entries in the engagement df."
   ]
  },
  {
   "cell_type": "markdown",
   "id": "isolated-preservation",
   "metadata": {},
   "source": [
    "Curious about the number of visits for this visitor in particular"
   ]
  },
  {
   "cell_type": "markdown",
   "id": "infectious-fundamental",
   "metadata": {},
   "source": [
    "## Exploration of # of visits"
   ]
  },
  {
   "cell_type": "code",
   "execution_count": 84,
   "id": "genetic-vegetation",
   "metadata": {
    "scrolled": false
   },
   "outputs": [
    {
     "data": {
      "text/html": [
       "<div>\n",
       "<style scoped>\n",
       "    .dataframe tbody tr th:only-of-type {\n",
       "        vertical-align: middle;\n",
       "    }\n",
       "\n",
       "    .dataframe tbody tr th {\n",
       "        vertical-align: top;\n",
       "    }\n",
       "\n",
       "    .dataframe thead th {\n",
       "        text-align: right;\n",
       "    }\n",
       "</style>\n",
       "<table border=\"1\" class=\"dataframe\">\n",
       "  <thead>\n",
       "    <tr style=\"text-align: right;\">\n",
       "      <th></th>\n",
       "      <th>time_stamp</th>\n",
       "      <th>user_id</th>\n",
       "      <th>visited</th>\n",
       "    </tr>\n",
       "  </thead>\n",
       "  <tbody>\n",
       "    <tr>\n",
       "      <th>1</th>\n",
       "      <td>2013-11-15 03:45:04</td>\n",
       "      <td>2</td>\n",
       "      <td>1</td>\n",
       "    </tr>\n",
       "    <tr>\n",
       "      <th>2</th>\n",
       "      <td>2013-11-29 03:45:04</td>\n",
       "      <td>2</td>\n",
       "      <td>1</td>\n",
       "    </tr>\n",
       "    <tr>\n",
       "      <th>3</th>\n",
       "      <td>2013-12-09 03:45:04</td>\n",
       "      <td>2</td>\n",
       "      <td>1</td>\n",
       "    </tr>\n",
       "    <tr>\n",
       "      <th>4</th>\n",
       "      <td>2013-12-25 03:45:04</td>\n",
       "      <td>2</td>\n",
       "      <td>1</td>\n",
       "    </tr>\n",
       "    <tr>\n",
       "      <th>5</th>\n",
       "      <td>2013-12-31 03:45:04</td>\n",
       "      <td>2</td>\n",
       "      <td>1</td>\n",
       "    </tr>\n",
       "    <tr>\n",
       "      <th>6</th>\n",
       "      <td>2014-01-08 03:45:04</td>\n",
       "      <td>2</td>\n",
       "      <td>1</td>\n",
       "    </tr>\n",
       "    <tr>\n",
       "      <th>7</th>\n",
       "      <td>2014-02-03 03:45:04</td>\n",
       "      <td>2</td>\n",
       "      <td>1</td>\n",
       "    </tr>\n",
       "    <tr>\n",
       "      <th>8</th>\n",
       "      <td>2014-02-08 03:45:04</td>\n",
       "      <td>2</td>\n",
       "      <td>1</td>\n",
       "    </tr>\n",
       "    <tr>\n",
       "      <th>9</th>\n",
       "      <td>2014-02-09 03:45:04</td>\n",
       "      <td>2</td>\n",
       "      <td>1</td>\n",
       "    </tr>\n",
       "    <tr>\n",
       "      <th>10</th>\n",
       "      <td>2014-02-13 03:45:04</td>\n",
       "      <td>2</td>\n",
       "      <td>1</td>\n",
       "    </tr>\n",
       "    <tr>\n",
       "      <th>11</th>\n",
       "      <td>2014-02-16 03:45:04</td>\n",
       "      <td>2</td>\n",
       "      <td>1</td>\n",
       "    </tr>\n",
       "    <tr>\n",
       "      <th>12</th>\n",
       "      <td>2014-03-09 03:45:04</td>\n",
       "      <td>2</td>\n",
       "      <td>1</td>\n",
       "    </tr>\n",
       "    <tr>\n",
       "      <th>13</th>\n",
       "      <td>2014-03-13 03:45:04</td>\n",
       "      <td>2</td>\n",
       "      <td>1</td>\n",
       "    </tr>\n",
       "    <tr>\n",
       "      <th>14</th>\n",
       "      <td>2014-03-31 03:45:04</td>\n",
       "      <td>2</td>\n",
       "      <td>1</td>\n",
       "    </tr>\n",
       "  </tbody>\n",
       "</table>\n",
       "</div>"
      ],
      "text/plain": [
       "             time_stamp  user_id  visited\n",
       "1   2013-11-15 03:45:04        2        1\n",
       "2   2013-11-29 03:45:04        2        1\n",
       "3   2013-12-09 03:45:04        2        1\n",
       "4   2013-12-25 03:45:04        2        1\n",
       "5   2013-12-31 03:45:04        2        1\n",
       "6   2014-01-08 03:45:04        2        1\n",
       "7   2014-02-03 03:45:04        2        1\n",
       "8   2014-02-08 03:45:04        2        1\n",
       "9   2014-02-09 03:45:04        2        1\n",
       "10  2014-02-13 03:45:04        2        1\n",
       "11  2014-02-16 03:45:04        2        1\n",
       "12  2014-03-09 03:45:04        2        1\n",
       "13  2014-03-13 03:45:04        2        1\n",
       "14  2014-03-31 03:45:04        2        1"
      ]
     },
     "execution_count": 84,
     "metadata": {},
     "output_type": "execute_result"
    }
   ],
   "source": [
    "engagement_df[engagement_df.user_id == 2]"
   ]
  },
  {
   "cell_type": "markdown",
   "id": "automotive-lesbian",
   "metadata": {},
   "source": [
    "Some of these users have logged in a whole heck of a lot of times"
   ]
  },
  {
   "cell_type": "code",
   "execution_count": 85,
   "id": "alpha-norwegian",
   "metadata": {
    "scrolled": false
   },
   "outputs": [
    {
     "data": {
      "text/plain": [
       "3623    606\n",
       "906     600\n",
       "1811    593\n",
       "7590    590\n",
       "8068    585\n",
       "9402    581\n",
       "4022    580\n",
       "3269    566\n",
       "9312    547\n",
       "7210    545\n",
       "8029    541\n",
       "2474    538\n",
       "2658    526\n",
       "8280    521\n",
       "69      521\n",
       "5297    520\n",
       "4019    519\n",
       "9083    517\n",
       "2519    511\n",
       "4263    509\n",
       "Name: user_id, dtype: int64"
      ]
     },
     "execution_count": 85,
     "metadata": {},
     "output_type": "execute_result"
    }
   ],
   "source": [
    "engagement_df.user_id.value_counts(sort=True, ascending=False).head(20)"
   ]
  },
  {
   "cell_type": "code",
   "execution_count": 86,
   "id": "patent-warner",
   "metadata": {},
   "outputs": [
    {
     "name": "stdout",
     "output_type": "stream",
     "text": [
      "<class 'pandas.core.frame.DataFrame'>\n",
      "RangeIndex: 12000 entries, 0 to 11999\n",
      "Data columns (total 10 columns):\n",
      " #   Column                      Non-Null Count  Dtype  \n",
      "---  ------                      --------------  -----  \n",
      " 0   object_id                   12000 non-null  int64  \n",
      " 1   creation_time               12000 non-null  object \n",
      " 2   name                        12000 non-null  object \n",
      " 3   email                       12000 non-null  object \n",
      " 4   creation_source             12000 non-null  object \n",
      " 5   last_session_creation_time  8823 non-null   float64\n",
      " 6   opted_in_to_mailing_list    12000 non-null  int64  \n",
      " 7   enabled_for_marketing_drip  12000 non-null  int64  \n",
      " 8   org_id                      12000 non-null  int64  \n",
      " 9   invited_by_user_id          6417 non-null   float64\n",
      "dtypes: float64(2), int64(4), object(4)\n",
      "memory usage: 937.6+ KB\n"
     ]
    }
   ],
   "source": [
    "users_df.info()"
   ]
  },
  {
   "cell_type": "code",
   "execution_count": 87,
   "id": "passive-marshall",
   "metadata": {},
   "outputs": [
    {
     "data": {
      "text/html": [
       "<div>\n",
       "<style scoped>\n",
       "    .dataframe tbody tr th:only-of-type {\n",
       "        vertical-align: middle;\n",
       "    }\n",
       "\n",
       "    .dataframe tbody tr th {\n",
       "        vertical-align: top;\n",
       "    }\n",
       "\n",
       "    .dataframe thead th {\n",
       "        text-align: right;\n",
       "    }\n",
       "</style>\n",
       "<table border=\"1\" class=\"dataframe\">\n",
       "  <thead>\n",
       "    <tr style=\"text-align: right;\">\n",
       "      <th></th>\n",
       "      <th>object_id</th>\n",
       "      <th>last_session_creation_time</th>\n",
       "      <th>opted_in_to_mailing_list</th>\n",
       "      <th>enabled_for_marketing_drip</th>\n",
       "      <th>org_id</th>\n",
       "      <th>invited_by_user_id</th>\n",
       "    </tr>\n",
       "  </thead>\n",
       "  <tbody>\n",
       "    <tr>\n",
       "      <th>count</th>\n",
       "      <td>12000.00000</td>\n",
       "      <td>8.823000e+03</td>\n",
       "      <td>12000.000000</td>\n",
       "      <td>12000.000000</td>\n",
       "      <td>12000.000000</td>\n",
       "      <td>6417.000000</td>\n",
       "    </tr>\n",
       "    <tr>\n",
       "      <th>mean</th>\n",
       "      <td>6000.50000</td>\n",
       "      <td>1.379279e+09</td>\n",
       "      <td>0.249500</td>\n",
       "      <td>0.149333</td>\n",
       "      <td>141.884583</td>\n",
       "      <td>5962.957145</td>\n",
       "    </tr>\n",
       "    <tr>\n",
       "      <th>std</th>\n",
       "      <td>3464.24595</td>\n",
       "      <td>1.953116e+07</td>\n",
       "      <td>0.432742</td>\n",
       "      <td>0.356432</td>\n",
       "      <td>124.056723</td>\n",
       "      <td>3383.761968</td>\n",
       "    </tr>\n",
       "    <tr>\n",
       "      <th>min</th>\n",
       "      <td>1.00000</td>\n",
       "      <td>1.338452e+09</td>\n",
       "      <td>0.000000</td>\n",
       "      <td>0.000000</td>\n",
       "      <td>0.000000</td>\n",
       "      <td>3.000000</td>\n",
       "    </tr>\n",
       "    <tr>\n",
       "      <th>25%</th>\n",
       "      <td>3000.75000</td>\n",
       "      <td>1.363195e+09</td>\n",
       "      <td>0.000000</td>\n",
       "      <td>0.000000</td>\n",
       "      <td>29.000000</td>\n",
       "      <td>3058.000000</td>\n",
       "    </tr>\n",
       "    <tr>\n",
       "      <th>50%</th>\n",
       "      <td>6000.50000</td>\n",
       "      <td>1.382888e+09</td>\n",
       "      <td>0.000000</td>\n",
       "      <td>0.000000</td>\n",
       "      <td>108.000000</td>\n",
       "      <td>5954.000000</td>\n",
       "    </tr>\n",
       "    <tr>\n",
       "      <th>75%</th>\n",
       "      <td>9000.25000</td>\n",
       "      <td>1.398443e+09</td>\n",
       "      <td>0.000000</td>\n",
       "      <td>0.000000</td>\n",
       "      <td>238.250000</td>\n",
       "      <td>8817.000000</td>\n",
       "    </tr>\n",
       "    <tr>\n",
       "      <th>max</th>\n",
       "      <td>12000.00000</td>\n",
       "      <td>1.402067e+09</td>\n",
       "      <td>1.000000</td>\n",
       "      <td>1.000000</td>\n",
       "      <td>416.000000</td>\n",
       "      <td>11999.000000</td>\n",
       "    </tr>\n",
       "  </tbody>\n",
       "</table>\n",
       "</div>"
      ],
      "text/plain": [
       "         object_id  last_session_creation_time  opted_in_to_mailing_list  \\\n",
       "count  12000.00000                8.823000e+03              12000.000000   \n",
       "mean    6000.50000                1.379279e+09                  0.249500   \n",
       "std     3464.24595                1.953116e+07                  0.432742   \n",
       "min        1.00000                1.338452e+09                  0.000000   \n",
       "25%     3000.75000                1.363195e+09                  0.000000   \n",
       "50%     6000.50000                1.382888e+09                  0.000000   \n",
       "75%     9000.25000                1.398443e+09                  0.000000   \n",
       "max    12000.00000                1.402067e+09                  1.000000   \n",
       "\n",
       "       enabled_for_marketing_drip        org_id  invited_by_user_id  \n",
       "count                12000.000000  12000.000000         6417.000000  \n",
       "mean                     0.149333    141.884583         5962.957145  \n",
       "std                      0.356432    124.056723         3383.761968  \n",
       "min                      0.000000      0.000000            3.000000  \n",
       "25%                      0.000000     29.000000         3058.000000  \n",
       "50%                      0.000000    108.000000         5954.000000  \n",
       "75%                      0.000000    238.250000         8817.000000  \n",
       "max                      1.000000    416.000000        11999.000000  "
      ]
     },
     "execution_count": 87,
     "metadata": {},
     "output_type": "execute_result"
    }
   ],
   "source": [
    "users_df.describe()"
   ]
  },
  {
   "cell_type": "markdown",
   "id": "representative-parts",
   "metadata": {},
   "source": [
    "# Feature Engineering"
   ]
  },
  {
   "cell_type": "markdown",
   "id": "intimate-motivation",
   "metadata": {},
   "source": [
    "## Manufacture of 'adopted' column"
   ]
  },
  {
   "cell_type": "markdown",
   "id": "weighted-conservation",
   "metadata": {},
   "source": [
    "Just counting how many visits each user has"
   ]
  },
  {
   "cell_type": "code",
   "execution_count": 88,
   "id": "egyptian-fellowship",
   "metadata": {
    "scrolled": false
   },
   "outputs": [
    {
     "data": {
      "text/html": [
       "<div>\n",
       "<style scoped>\n",
       "    .dataframe tbody tr th:only-of-type {\n",
       "        vertical-align: middle;\n",
       "    }\n",
       "\n",
       "    .dataframe tbody tr th {\n",
       "        vertical-align: top;\n",
       "    }\n",
       "\n",
       "    .dataframe thead th {\n",
       "        text-align: right;\n",
       "    }\n",
       "</style>\n",
       "<table border=\"1\" class=\"dataframe\">\n",
       "  <thead>\n",
       "    <tr style=\"text-align: right;\">\n",
       "      <th></th>\n",
       "      <th>time_stamp</th>\n",
       "      <th>visited</th>\n",
       "    </tr>\n",
       "    <tr>\n",
       "      <th>user_id</th>\n",
       "      <th></th>\n",
       "      <th></th>\n",
       "    </tr>\n",
       "  </thead>\n",
       "  <tbody>\n",
       "    <tr>\n",
       "      <th>3623</th>\n",
       "      <td>606</td>\n",
       "      <td>606</td>\n",
       "    </tr>\n",
       "    <tr>\n",
       "      <th>906</th>\n",
       "      <td>600</td>\n",
       "      <td>600</td>\n",
       "    </tr>\n",
       "    <tr>\n",
       "      <th>1811</th>\n",
       "      <td>593</td>\n",
       "      <td>593</td>\n",
       "    </tr>\n",
       "    <tr>\n",
       "      <th>7590</th>\n",
       "      <td>590</td>\n",
       "      <td>590</td>\n",
       "    </tr>\n",
       "    <tr>\n",
       "      <th>8068</th>\n",
       "      <td>585</td>\n",
       "      <td>585</td>\n",
       "    </tr>\n",
       "    <tr>\n",
       "      <th>...</th>\n",
       "      <td>...</td>\n",
       "      <td>...</td>\n",
       "    </tr>\n",
       "    <tr>\n",
       "      <th>4699</th>\n",
       "      <td>1</td>\n",
       "      <td>1</td>\n",
       "    </tr>\n",
       "    <tr>\n",
       "      <th>4698</th>\n",
       "      <td>1</td>\n",
       "      <td>1</td>\n",
       "    </tr>\n",
       "    <tr>\n",
       "      <th>4697</th>\n",
       "      <td>1</td>\n",
       "      <td>1</td>\n",
       "    </tr>\n",
       "    <tr>\n",
       "      <th>4696</th>\n",
       "      <td>1</td>\n",
       "      <td>1</td>\n",
       "    </tr>\n",
       "    <tr>\n",
       "      <th>12000</th>\n",
       "      <td>1</td>\n",
       "      <td>1</td>\n",
       "    </tr>\n",
       "  </tbody>\n",
       "</table>\n",
       "<p>8823 rows × 2 columns</p>\n",
       "</div>"
      ],
      "text/plain": [
       "         time_stamp  visited\n",
       "user_id                     \n",
       "3623            606      606\n",
       "906             600      600\n",
       "1811            593      593\n",
       "7590            590      590\n",
       "8068            585      585\n",
       "...             ...      ...\n",
       "4699              1        1\n",
       "4698              1        1\n",
       "4697              1        1\n",
       "4696              1        1\n",
       "12000             1        1\n",
       "\n",
       "[8823 rows x 2 columns]"
      ]
     },
     "execution_count": 88,
     "metadata": {},
     "output_type": "execute_result"
    }
   ],
   "source": [
    "In [36]: engagement_df.groupby([\"user_id\"]).count().sort_values([\"visited\"], ascending=False)"
   ]
  },
  {
   "cell_type": "code",
   "execution_count": 89,
   "id": "cross-ability",
   "metadata": {},
   "outputs": [],
   "source": [
    "user_visits = engagement_df.groupby([\"user_id\"]).count()"
   ]
  },
  {
   "cell_type": "code",
   "execution_count": 90,
   "id": "shaped-logic",
   "metadata": {
    "scrolled": true
   },
   "outputs": [
    {
     "data": {
      "text/html": [
       "<div>\n",
       "<style scoped>\n",
       "    .dataframe tbody tr th:only-of-type {\n",
       "        vertical-align: middle;\n",
       "    }\n",
       "\n",
       "    .dataframe tbody tr th {\n",
       "        vertical-align: top;\n",
       "    }\n",
       "\n",
       "    .dataframe thead th {\n",
       "        text-align: right;\n",
       "    }\n",
       "</style>\n",
       "<table border=\"1\" class=\"dataframe\">\n",
       "  <thead>\n",
       "    <tr style=\"text-align: right;\">\n",
       "      <th></th>\n",
       "      <th>time_stamp</th>\n",
       "      <th>visited</th>\n",
       "    </tr>\n",
       "    <tr>\n",
       "      <th>user_id</th>\n",
       "      <th></th>\n",
       "      <th></th>\n",
       "    </tr>\n",
       "  </thead>\n",
       "  <tbody>\n",
       "    <tr>\n",
       "      <th>1</th>\n",
       "      <td>1</td>\n",
       "      <td>1</td>\n",
       "    </tr>\n",
       "    <tr>\n",
       "      <th>2</th>\n",
       "      <td>14</td>\n",
       "      <td>14</td>\n",
       "    </tr>\n",
       "    <tr>\n",
       "      <th>3</th>\n",
       "      <td>1</td>\n",
       "      <td>1</td>\n",
       "    </tr>\n",
       "  </tbody>\n",
       "</table>\n",
       "</div>"
      ],
      "text/plain": [
       "         time_stamp  visited\n",
       "user_id                     \n",
       "1                 1        1\n",
       "2                14       14\n",
       "3                 1        1"
      ]
     },
     "execution_count": 90,
     "metadata": {},
     "output_type": "execute_result"
    }
   ],
   "source": [
    "user_visits.head(3)"
   ]
  },
  {
   "cell_type": "markdown",
   "id": "seven-farming",
   "metadata": {},
   "source": [
    "Messing with index values is less comfortable for me than interacting with columns, so i'm just gonna pull out the index on this dataframe"
   ]
  },
  {
   "cell_type": "code",
   "execution_count": 91,
   "id": "czech-velvet",
   "metadata": {},
   "outputs": [],
   "source": [
    "user_visits = user_visits.reset_index()"
   ]
  },
  {
   "cell_type": "markdown",
   "id": "sacred-listing",
   "metadata": {},
   "source": [
    "This column is completely useless in this new counting frame, so we're removing it."
   ]
  },
  {
   "cell_type": "code",
   "execution_count": 92,
   "id": "structured-country",
   "metadata": {},
   "outputs": [],
   "source": [
    "user_visits = user_visits.drop(columns=['time_stamp'])"
   ]
  },
  {
   "cell_type": "markdown",
   "id": "potential-ghost",
   "metadata": {},
   "source": [
    "Just checking that thigns look right. I know that user 2 had a bunch of visits, but the other first five had one. So this makes sense so far."
   ]
  },
  {
   "cell_type": "code",
   "execution_count": 93,
   "id": "streaming-shepherd",
   "metadata": {},
   "outputs": [
    {
     "data": {
      "text/html": [
       "<div>\n",
       "<style scoped>\n",
       "    .dataframe tbody tr th:only-of-type {\n",
       "        vertical-align: middle;\n",
       "    }\n",
       "\n",
       "    .dataframe tbody tr th {\n",
       "        vertical-align: top;\n",
       "    }\n",
       "\n",
       "    .dataframe thead th {\n",
       "        text-align: right;\n",
       "    }\n",
       "</style>\n",
       "<table border=\"1\" class=\"dataframe\">\n",
       "  <thead>\n",
       "    <tr style=\"text-align: right;\">\n",
       "      <th></th>\n",
       "      <th>user_id</th>\n",
       "      <th>visited</th>\n",
       "    </tr>\n",
       "  </thead>\n",
       "  <tbody>\n",
       "    <tr>\n",
       "      <th>0</th>\n",
       "      <td>1</td>\n",
       "      <td>1</td>\n",
       "    </tr>\n",
       "    <tr>\n",
       "      <th>1</th>\n",
       "      <td>2</td>\n",
       "      <td>14</td>\n",
       "    </tr>\n",
       "    <tr>\n",
       "      <th>2</th>\n",
       "      <td>3</td>\n",
       "      <td>1</td>\n",
       "    </tr>\n",
       "    <tr>\n",
       "      <th>3</th>\n",
       "      <td>4</td>\n",
       "      <td>1</td>\n",
       "    </tr>\n",
       "    <tr>\n",
       "      <th>4</th>\n",
       "      <td>5</td>\n",
       "      <td>1</td>\n",
       "    </tr>\n",
       "  </tbody>\n",
       "</table>\n",
       "</div>"
      ],
      "text/plain": [
       "   user_id  visited\n",
       "0        1        1\n",
       "1        2       14\n",
       "2        3        1\n",
       "3        4        1\n",
       "4        5        1"
      ]
     },
     "execution_count": 93,
     "metadata": {},
     "output_type": "execute_result"
    }
   ],
   "source": [
    "user_visits.head(5)"
   ]
  },
  {
   "cell_type": "markdown",
   "id": "tamil-spine",
   "metadata": {},
   "source": [
    "### Visit Counter Function"
   ]
  },
  {
   "cell_type": "markdown",
   "id": "cellular-script",
   "metadata": {},
   "source": [
    "Curious about the distribution of number of visits. Looks like over half of our users only visited once."
   ]
  },
  {
   "cell_type": "code",
   "execution_count": 94,
   "id": "wrapped-browse",
   "metadata": {
    "scrolled": false
   },
   "outputs": [
    {
     "data": {
      "text/plain": [
       "1     6235\n",
       "2      340\n",
       "3      241\n",
       "4      181\n",
       "5      110\n",
       "6       85\n",
       "7       68\n",
       "8       57\n",
       "9       48\n",
       "10      34\n",
       "14      30\n",
       "13      29\n",
       "12      29\n",
       "11      26\n",
       "22      23\n",
       "16      20\n",
       "25      19\n",
       "17      18\n",
       "23      18\n",
       "18      18\n",
       "20      16\n",
       "24      15\n",
       "26      15\n",
       "21      15\n",
       "27      13\n",
       "Name: visited, dtype: int64"
      ]
     },
     "execution_count": 94,
     "metadata": {},
     "output_type": "execute_result"
    }
   ],
   "source": [
    "user_visits.visited.value_counts().head(25)"
   ]
  },
  {
   "cell_type": "markdown",
   "id": "apart-factor",
   "metadata": {},
   "source": [
    "This was a naive attempt to answer the immediete question of who had three vistis. I hadn't yet realized they needed to be within a week of eachother."
   ]
  },
  {
   "cell_type": "code",
   "execution_count": 95,
   "id": "incorporate-coalition",
   "metadata": {},
   "outputs": [],
   "source": [
    "def count_adder(value):\n",
    "    visit_count = 0\n",
    "    try:\n",
    "        visit_count = int(user_visits.loc[user_visits['user_id'] == value].visited)\n",
    "    except TypeError:\n",
    "        return 0\n",
    "    if visit_count >= 3:\n",
    "        return 1\n",
    "    return 0\n",
    "    \n",
    "    \n",
    "    \n",
    "    "
   ]
  },
  {
   "cell_type": "code",
   "execution_count": 96,
   "id": "express-indication",
   "metadata": {},
   "outputs": [],
   "source": [
    "engagement_df['atemp_adopted_user'] = engagement_df.user_id.apply(count_adder)"
   ]
  },
  {
   "cell_type": "markdown",
   "id": "suspected-buying",
   "metadata": {},
   "source": [
    "This worked, but now we need to bring in the temporal constraint."
   ]
  },
  {
   "cell_type": "code",
   "execution_count": 97,
   "id": "stock-egypt",
   "metadata": {},
   "outputs": [],
   "source": [
    "adoptee_df = engagement_df[engagement_df.atemp_adopted_user > 0]"
   ]
  },
  {
   "cell_type": "code",
   "execution_count": 98,
   "id": "specified-aerospace",
   "metadata": {
    "scrolled": false
   },
   "outputs": [
    {
     "name": "stdout",
     "output_type": "stream",
     "text": [
      "(201002, 4)\n"
     ]
    },
    {
     "data": {
      "text/html": [
       "<div>\n",
       "<style scoped>\n",
       "    .dataframe tbody tr th:only-of-type {\n",
       "        vertical-align: middle;\n",
       "    }\n",
       "\n",
       "    .dataframe tbody tr th {\n",
       "        vertical-align: top;\n",
       "    }\n",
       "\n",
       "    .dataframe thead th {\n",
       "        text-align: right;\n",
       "    }\n",
       "</style>\n",
       "<table border=\"1\" class=\"dataframe\">\n",
       "  <thead>\n",
       "    <tr style=\"text-align: right;\">\n",
       "      <th></th>\n",
       "      <th>time_stamp</th>\n",
       "      <th>user_id</th>\n",
       "      <th>visited</th>\n",
       "      <th>atemp_adopted_user</th>\n",
       "    </tr>\n",
       "  </thead>\n",
       "  <tbody>\n",
       "    <tr>\n",
       "      <th>1</th>\n",
       "      <td>2013-11-15 03:45:04</td>\n",
       "      <td>2</td>\n",
       "      <td>1</td>\n",
       "      <td>1</td>\n",
       "    </tr>\n",
       "    <tr>\n",
       "      <th>2</th>\n",
       "      <td>2013-11-29 03:45:04</td>\n",
       "      <td>2</td>\n",
       "      <td>1</td>\n",
       "      <td>1</td>\n",
       "    </tr>\n",
       "    <tr>\n",
       "      <th>3</th>\n",
       "      <td>2013-12-09 03:45:04</td>\n",
       "      <td>2</td>\n",
       "      <td>1</td>\n",
       "      <td>1</td>\n",
       "    </tr>\n",
       "    <tr>\n",
       "      <th>4</th>\n",
       "      <td>2013-12-25 03:45:04</td>\n",
       "      <td>2</td>\n",
       "      <td>1</td>\n",
       "      <td>1</td>\n",
       "    </tr>\n",
       "    <tr>\n",
       "      <th>5</th>\n",
       "      <td>2013-12-31 03:45:04</td>\n",
       "      <td>2</td>\n",
       "      <td>1</td>\n",
       "      <td>1</td>\n",
       "    </tr>\n",
       "    <tr>\n",
       "      <th>6</th>\n",
       "      <td>2014-01-08 03:45:04</td>\n",
       "      <td>2</td>\n",
       "      <td>1</td>\n",
       "      <td>1</td>\n",
       "    </tr>\n",
       "    <tr>\n",
       "      <th>7</th>\n",
       "      <td>2014-02-03 03:45:04</td>\n",
       "      <td>2</td>\n",
       "      <td>1</td>\n",
       "      <td>1</td>\n",
       "    </tr>\n",
       "    <tr>\n",
       "      <th>8</th>\n",
       "      <td>2014-02-08 03:45:04</td>\n",
       "      <td>2</td>\n",
       "      <td>1</td>\n",
       "      <td>1</td>\n",
       "    </tr>\n",
       "    <tr>\n",
       "      <th>9</th>\n",
       "      <td>2014-02-09 03:45:04</td>\n",
       "      <td>2</td>\n",
       "      <td>1</td>\n",
       "      <td>1</td>\n",
       "    </tr>\n",
       "    <tr>\n",
       "      <th>10</th>\n",
       "      <td>2014-02-13 03:45:04</td>\n",
       "      <td>2</td>\n",
       "      <td>1</td>\n",
       "      <td>1</td>\n",
       "    </tr>\n",
       "  </tbody>\n",
       "</table>\n",
       "</div>"
      ],
      "text/plain": [
       "             time_stamp  user_id  visited  atemp_adopted_user\n",
       "1   2013-11-15 03:45:04        2        1                   1\n",
       "2   2013-11-29 03:45:04        2        1                   1\n",
       "3   2013-12-09 03:45:04        2        1                   1\n",
       "4   2013-12-25 03:45:04        2        1                   1\n",
       "5   2013-12-31 03:45:04        2        1                   1\n",
       "6   2014-01-08 03:45:04        2        1                   1\n",
       "7   2014-02-03 03:45:04        2        1                   1\n",
       "8   2014-02-08 03:45:04        2        1                   1\n",
       "9   2014-02-09 03:45:04        2        1                   1\n",
       "10  2014-02-13 03:45:04        2        1                   1"
      ]
     },
     "execution_count": 98,
     "metadata": {},
     "output_type": "execute_result"
    }
   ],
   "source": [
    "print(adoptee_df.shape)\n",
    "adoptee_df.head(10)"
   ]
  },
  {
   "cell_type": "code",
   "execution_count": 99,
   "id": "handed-sauce",
   "metadata": {},
   "outputs": [
    {
     "data": {
      "text/plain": [
       "2248"
      ]
     },
     "execution_count": 99,
     "metadata": {},
     "output_type": "execute_result"
    }
   ],
   "source": [
    "len(adoptee_df.user_id.unique())"
   ]
  },
  {
   "cell_type": "code",
   "execution_count": 100,
   "id": "sonic-lyric",
   "metadata": {},
   "outputs": [
    {
     "data": {
      "text/plain": [
       "8823"
      ]
     },
     "execution_count": 100,
     "metadata": {},
     "output_type": "execute_result"
    }
   ],
   "source": [
    "len(engagement_df.user_id.unique())"
   ]
  },
  {
   "cell_type": "markdown",
   "id": "cloudy-looking",
   "metadata": {},
   "source": [
    "### This is where we start exploring the timestamp tomfoolery to temporalize our adoption measure"
   ]
  },
  {
   "cell_type": "code",
   "execution_count": 101,
   "id": "lasting-deviation",
   "metadata": {},
   "outputs": [
    {
     "name": "stderr",
     "output_type": "stream",
     "text": [
      "<ipython-input-101-55e2eb7751f8>:1: SettingWithCopyWarning: \n",
      "A value is trying to be set on a copy of a slice from a DataFrame.\n",
      "Try using .loc[row_indexer,col_indexer] = value instead\n",
      "\n",
      "See the caveats in the documentation: https://pandas.pydata.org/pandas-docs/stable/user_guide/indexing.html#returning-a-view-versus-a-copy\n",
      "  adoptee_df['datetime'] = pd.to_datetime(adoptee_df['time_stamp'])\n"
     ]
    }
   ],
   "source": [
    "adoptee_df['datetime'] = pd.to_datetime(adoptee_df['time_stamp'])"
   ]
  },
  {
   "cell_type": "markdown",
   "id": "endangered-pathology",
   "metadata": {},
   "source": [
    "Making a dictionary of all the users with atemporal adoption"
   ]
  },
  {
   "cell_type": "code",
   "execution_count": 102,
   "id": "overhead-camel",
   "metadata": {},
   "outputs": [],
   "source": [
    "potential_dict = {}\n",
    "for each in adoptee_df.user_id.unique():\n",
    "    potential_dict[each] = []"
   ]
  },
  {
   "cell_type": "markdown",
   "id": "naughty-picnic",
   "metadata": {},
   "source": [
    "Adding in the visit times for the users above"
   ]
  },
  {
   "cell_type": "code",
   "execution_count": 103,
   "id": "indie-tumor",
   "metadata": {},
   "outputs": [],
   "source": [
    "for key in potential_dict.keys():\n",
    "    for each in adoptee_df.datetime[engagement_df.user_id == key]:\n",
    "        potential_dict[key].append(each)"
   ]
  },
  {
   "cell_type": "markdown",
   "id": "exceptional-profile",
   "metadata": {},
   "source": [
    "### Function to take the atemporal adoptors and narrow them down to adopters who passed the 3 visits within one consecutive week threshold"
   ]
  },
  {
   "cell_type": "code",
   "execution_count": 104,
   "id": "contained-invalid",
   "metadata": {},
   "outputs": [],
   "source": [
    "def adoption_checker(listo):\n",
    "    delta = datetime.timedelta(days=7)\n",
    "    zero_point = datetime.timedelta(days=0)\n",
    "    \n",
    "    for each in listo:\n",
    "        consecutive_list = []\n",
    "        consecutive_list.append(each)\n",
    "\n",
    "        for second_each in listo:\n",
    "            subtraction = second_each - consecutive_list[0]\n",
    "            \n",
    "            if subtraction < delta and subtraction > zero_point:\n",
    "                consecutive_list.append(second_each)\n",
    "                \n",
    "                if len(consecutive_list) >= 3:\n",
    "                    return 1\n",
    "                \n",
    "            elif second_each - consecutive_list[0] > delta: \n",
    "                break\n",
    "        \n",
    "                \n",
    "    return False\n",
    "            \n",
    "            \n",
    "    "
   ]
  },
  {
   "cell_type": "code",
   "execution_count": 105,
   "id": "discrete-shower",
   "metadata": {},
   "outputs": [],
   "source": [
    "actual_adoptees = {}\n",
    "for key, value in potential_dict.items():\n",
    "    actual_adoptees[key] =  adoption_checker(value)\n",
    "    "
   ]
  },
  {
   "cell_type": "markdown",
   "id": "metallic-screw",
   "metadata": {},
   "source": [
    "Converting the dictionary we just made into a dataframe"
   ]
  },
  {
   "cell_type": "code",
   "execution_count": 106,
   "id": "defined-marketplace",
   "metadata": {},
   "outputs": [],
   "source": [
    "adoption_df = pd.DataFrame([actual_adoptees]).transpose().reset_index()"
   ]
  },
  {
   "cell_type": "code",
   "execution_count": 107,
   "id": "after-claim",
   "metadata": {},
   "outputs": [],
   "source": [
    "adoption_df['user_id'] = adoption_df['index']\n",
    "adoption_df = adoption_df.drop(columns=['index'])"
   ]
  },
  {
   "cell_type": "code",
   "execution_count": 108,
   "id": "exterior-johnson",
   "metadata": {},
   "outputs": [],
   "source": [
    "adoption_df['object_id'] =adoption_df['user_id']\n",
    "adoption_df['adoption_status'] =adoption_df[0]"
   ]
  },
  {
   "cell_type": "code",
   "execution_count": 109,
   "id": "novel-movement",
   "metadata": {},
   "outputs": [],
   "source": [
    "adoption_df= adoption_df.drop(columns=[0, 'user_id'])"
   ]
  },
  {
   "cell_type": "code",
   "execution_count": 110,
   "id": "racial-constant",
   "metadata": {},
   "outputs": [
    {
     "data": {
      "text/html": [
       "<div>\n",
       "<style scoped>\n",
       "    .dataframe tbody tr th:only-of-type {\n",
       "        vertical-align: middle;\n",
       "    }\n",
       "\n",
       "    .dataframe tbody tr th {\n",
       "        vertical-align: top;\n",
       "    }\n",
       "\n",
       "    .dataframe thead th {\n",
       "        text-align: right;\n",
       "    }\n",
       "</style>\n",
       "<table border=\"1\" class=\"dataframe\">\n",
       "  <thead>\n",
       "    <tr style=\"text-align: right;\">\n",
       "      <th></th>\n",
       "      <th>object_id</th>\n",
       "      <th>adoption_status</th>\n",
       "    </tr>\n",
       "  </thead>\n",
       "  <tbody>\n",
       "    <tr>\n",
       "      <th>0</th>\n",
       "      <td>2</td>\n",
       "      <td>1</td>\n",
       "    </tr>\n",
       "    <tr>\n",
       "      <th>1</th>\n",
       "      <td>10</td>\n",
       "      <td>1</td>\n",
       "    </tr>\n",
       "    <tr>\n",
       "      <th>2</th>\n",
       "      <td>20</td>\n",
       "      <td>1</td>\n",
       "    </tr>\n",
       "    <tr>\n",
       "      <th>3</th>\n",
       "      <td>33</td>\n",
       "      <td>1</td>\n",
       "    </tr>\n",
       "    <tr>\n",
       "      <th>4</th>\n",
       "      <td>42</td>\n",
       "      <td>1</td>\n",
       "    </tr>\n",
       "    <tr>\n",
       "      <th>...</th>\n",
       "      <td>...</td>\n",
       "      <td>...</td>\n",
       "    </tr>\n",
       "    <tr>\n",
       "      <th>2243</th>\n",
       "      <td>11975</td>\n",
       "      <td>1</td>\n",
       "    </tr>\n",
       "    <tr>\n",
       "      <th>2244</th>\n",
       "      <td>11980</td>\n",
       "      <td>False</td>\n",
       "    </tr>\n",
       "    <tr>\n",
       "      <th>2245</th>\n",
       "      <td>11981</td>\n",
       "      <td>False</td>\n",
       "    </tr>\n",
       "    <tr>\n",
       "      <th>2246</th>\n",
       "      <td>11988</td>\n",
       "      <td>1</td>\n",
       "    </tr>\n",
       "    <tr>\n",
       "      <th>2247</th>\n",
       "      <td>11991</td>\n",
       "      <td>False</td>\n",
       "    </tr>\n",
       "  </tbody>\n",
       "</table>\n",
       "<p>2248 rows × 2 columns</p>\n",
       "</div>"
      ],
      "text/plain": [
       "      object_id adoption_status\n",
       "0             2               1\n",
       "1            10               1\n",
       "2            20               1\n",
       "3            33               1\n",
       "4            42               1\n",
       "...         ...             ...\n",
       "2243      11975               1\n",
       "2244      11980           False\n",
       "2245      11981           False\n",
       "2246      11988               1\n",
       "2247      11991           False\n",
       "\n",
       "[2248 rows x 2 columns]"
      ]
     },
     "execution_count": 110,
     "metadata": {},
     "output_type": "execute_result"
    }
   ],
   "source": [
    "adoption_df"
   ]
  },
  {
   "cell_type": "markdown",
   "id": "younger-junction",
   "metadata": {},
   "source": [
    "Looks like all our transformations paid off"
   ]
  },
  {
   "cell_type": "code",
   "execution_count": 111,
   "id": "serious-apartment",
   "metadata": {},
   "outputs": [],
   "source": [
    "users_df=users_df.merge(adoption_df, on='object_id', how='left') "
   ]
  },
  {
   "cell_type": "code",
   "execution_count": 112,
   "id": "banned-marshall",
   "metadata": {},
   "outputs": [],
   "source": [
    "users_df.adoption_status.fillna(value=0, inplace=True)"
   ]
  },
  {
   "cell_type": "markdown",
   "id": "incoming-standing",
   "metadata": {},
   "source": [
    "### Adding total number of visits as a feature"
   ]
  },
  {
   "cell_type": "code",
   "execution_count": 113,
   "id": "refined-daily",
   "metadata": {},
   "outputs": [],
   "source": [
    "#Changing the user column to be the same name as the one in the users_df \n",
    "user_visits['object_id'] = user_visits['user_id']\n",
    "user_visits = user_visits.drop(columns=['user_id'])"
   ]
  },
  {
   "cell_type": "code",
   "execution_count": 114,
   "id": "moderate-calendar",
   "metadata": {},
   "outputs": [],
   "source": [
    "#Add in the visit count for each user to the main dataframe\n",
    "users_df = users_df.merge(user_visits, on=['object_id'], how='left')\n",
    "#Changing the name of the column, and removing the old one\n",
    "users_df['visits'] = users_df.visited\n",
    "\n",
    "users_df.drop(columns='visited', inplace=True)\n",
    "#Replacing NaNs with 0, as 0 is in fact a number and that's how many visits they had.\n",
    "users_df.visits.fillna(value=0, inplace=True)"
   ]
  },
  {
   "cell_type": "markdown",
   "id": "voluntary-policy",
   "metadata": {},
   "source": [
    "# PreProcessing"
   ]
  },
  {
   "cell_type": "markdown",
   "id": "egyptian-nigeria",
   "metadata": {},
   "source": [
    "### Time Conversions"
   ]
  },
  {
   "cell_type": "markdown",
   "id": "useful-reverse",
   "metadata": {},
   "source": [
    "\n",
    "https://stackoverflow.com/questions/40217369/python-linear-regression-predict-by-date\n",
    "\n",
    "\n",
    "It is really important to differentiate the data types that you want to use for regression/classification.\n",
    "\n",
    "When you are using time series, that is another case but if you want to use time data as a numerical data type as your input, then you should transform your data type from datetime to float (if your data_df['conv_date] is a datetime object, if not then you should first transform it by using; data_df['conv_date'] = pd.to_datetime(data_df.date, format=\"%Y-%M-%D\") )\n",
    "\n",
    "I agree with Thomas Vetterli's answer. It is useful to be careful what kind of time data you are using.\n",
    "\n",
    "If you are only using year and month data then dt.datetime.toordinal would be enough to use;\n",
    "\n",
    ">import datetime\n",
    ">data_df['conv_date'] = pd.to_datetime(data_df.date, format=\"%Y-%M-%D\")\n",
    ">data_df['conv_date'] = data_df['conv_date'].map(datetime.datetime.toordinal)\n",
    "737577\n",
    "But if you want to use also the hour, minute and second information then time.mktime() suits better;\n",
    "\n",
    ">import time\n",
    ">data_df['conv_date'] = pd.to_datetime(data_df.date, format=\"%Y-%M-%D\")\n",
    ">data_df['conv_date'] = data_df['conv_date'].apply(lambda  var: time.mktime(var.timetuple()))\n",
    "1591016041.0 \n",
    "\n",
    "Also 1591016044.0 is another exemplary output from my data, it varies with changes in seconds."
   ]
  },
  {
   "cell_type": "code",
   "execution_count": 115,
   "id": "sitting-operator",
   "metadata": {},
   "outputs": [],
   "source": [
    "users_df.creation_time = pd.to_datetime(users_df.creation_time)\n"
   ]
  },
  {
   "cell_type": "code",
   "execution_count": 116,
   "id": "toxic-wound",
   "metadata": {},
   "outputs": [],
   "source": [
    "users_df['oridinal_creation_date'] = users_df['creation_time'].map(datetime.datetime.toordinal)"
   ]
  },
  {
   "cell_type": "markdown",
   "id": "designed-denver",
   "metadata": {},
   "source": [
    "### These four columns are all just going to be unique.\n",
    "\n",
    "    Though maybe some seasonality could be detected in the relationship between creationtime and the adoption status of the account, but given our constricted time I'm going to treat that as out of scope."
   ]
  },
  {
   "cell_type": "code",
   "execution_count": 117,
   "id": "weekly-favor",
   "metadata": {},
   "outputs": [],
   "source": [
    "users_df.drop(columns=['name', 'email', 'last_session_creation_time'], inplace=True)"
   ]
  },
  {
   "cell_type": "code",
   "execution_count": 118,
   "id": "renewable-trick",
   "metadata": {
    "scrolled": true
   },
   "outputs": [
    {
     "data": {
      "text/plain": [
       "5583"
      ]
     },
     "execution_count": 118,
     "metadata": {},
     "output_type": "execute_result"
    }
   ],
   "source": [
    "users_df.invited_by_user_id.isnull().sum()"
   ]
  },
  {
   "cell_type": "code",
   "execution_count": 119,
   "id": "roman-coaching",
   "metadata": {
    "scrolled": false
   },
   "outputs": [
    {
     "data": {
      "text/plain": [
       "0"
      ]
     },
     "execution_count": 119,
     "metadata": {},
     "output_type": "execute_result"
    }
   ],
   "source": [
    "users_df['invited_by_user_id'] = users_df['invited_by_user_id'].fillna(0)\n",
    "users_df.invited_by_user_id.isnull().sum()"
   ]
  },
  {
   "cell_type": "code",
   "execution_count": 120,
   "id": "polyphonic-grocery",
   "metadata": {},
   "outputs": [
    {
     "data": {
      "text/html": [
       "<div>\n",
       "<style scoped>\n",
       "    .dataframe tbody tr th:only-of-type {\n",
       "        vertical-align: middle;\n",
       "    }\n",
       "\n",
       "    .dataframe tbody tr th {\n",
       "        vertical-align: top;\n",
       "    }\n",
       "\n",
       "    .dataframe thead th {\n",
       "        text-align: right;\n",
       "    }\n",
       "</style>\n",
       "<table border=\"1\" class=\"dataframe\">\n",
       "  <thead>\n",
       "    <tr style=\"text-align: right;\">\n",
       "      <th></th>\n",
       "      <th>object_id</th>\n",
       "      <th>creation_source</th>\n",
       "      <th>opted_in_to_mailing_list</th>\n",
       "      <th>enabled_for_marketing_drip</th>\n",
       "      <th>org_id</th>\n",
       "      <th>invited_by_user_id</th>\n",
       "      <th>adoption_status</th>\n",
       "      <th>visits</th>\n",
       "      <th>oridinal_creation_date</th>\n",
       "    </tr>\n",
       "  </thead>\n",
       "  <tbody>\n",
       "    <tr>\n",
       "      <th>0</th>\n",
       "      <td>1</td>\n",
       "      <td>GUEST_INVITE</td>\n",
       "      <td>1</td>\n",
       "      <td>0</td>\n",
       "      <td>11</td>\n",
       "      <td>10803.0</td>\n",
       "      <td>0</td>\n",
       "      <td>1.0</td>\n",
       "      <td>735345</td>\n",
       "    </tr>\n",
       "    <tr>\n",
       "      <th>1</th>\n",
       "      <td>2</td>\n",
       "      <td>ORG_INVITE</td>\n",
       "      <td>0</td>\n",
       "      <td>0</td>\n",
       "      <td>1</td>\n",
       "      <td>316.0</td>\n",
       "      <td>1</td>\n",
       "      <td>14.0</td>\n",
       "      <td>735187</td>\n",
       "    </tr>\n",
       "    <tr>\n",
       "      <th>2</th>\n",
       "      <td>3</td>\n",
       "      <td>ORG_INVITE</td>\n",
       "      <td>0</td>\n",
       "      <td>0</td>\n",
       "      <td>94</td>\n",
       "      <td>1525.0</td>\n",
       "      <td>0</td>\n",
       "      <td>1.0</td>\n",
       "      <td>734946</td>\n",
       "    </tr>\n",
       "    <tr>\n",
       "      <th>3</th>\n",
       "      <td>4</td>\n",
       "      <td>GUEST_INVITE</td>\n",
       "      <td>0</td>\n",
       "      <td>0</td>\n",
       "      <td>1</td>\n",
       "      <td>5151.0</td>\n",
       "      <td>0</td>\n",
       "      <td>1.0</td>\n",
       "      <td>735009</td>\n",
       "    </tr>\n",
       "    <tr>\n",
       "      <th>4</th>\n",
       "      <td>5</td>\n",
       "      <td>GUEST_INVITE</td>\n",
       "      <td>0</td>\n",
       "      <td>0</td>\n",
       "      <td>193</td>\n",
       "      <td>5240.0</td>\n",
       "      <td>0</td>\n",
       "      <td>1.0</td>\n",
       "      <td>734885</td>\n",
       "    </tr>\n",
       "    <tr>\n",
       "      <th>...</th>\n",
       "      <td>...</td>\n",
       "      <td>...</td>\n",
       "      <td>...</td>\n",
       "      <td>...</td>\n",
       "      <td>...</td>\n",
       "      <td>...</td>\n",
       "      <td>...</td>\n",
       "      <td>...</td>\n",
       "      <td>...</td>\n",
       "    </tr>\n",
       "    <tr>\n",
       "      <th>11995</th>\n",
       "      <td>11996</td>\n",
       "      <td>ORG_INVITE</td>\n",
       "      <td>0</td>\n",
       "      <td>0</td>\n",
       "      <td>89</td>\n",
       "      <td>8263.0</td>\n",
       "      <td>0</td>\n",
       "      <td>1.0</td>\n",
       "      <td>735117</td>\n",
       "    </tr>\n",
       "    <tr>\n",
       "      <th>11996</th>\n",
       "      <td>11997</td>\n",
       "      <td>SIGNUP_GOOGLE_AUTH</td>\n",
       "      <td>0</td>\n",
       "      <td>0</td>\n",
       "      <td>200</td>\n",
       "      <td>0.0</td>\n",
       "      <td>0</td>\n",
       "      <td>1.0</td>\n",
       "      <td>734878</td>\n",
       "    </tr>\n",
       "    <tr>\n",
       "      <th>11997</th>\n",
       "      <td>11998</td>\n",
       "      <td>GUEST_INVITE</td>\n",
       "      <td>1</td>\n",
       "      <td>1</td>\n",
       "      <td>83</td>\n",
       "      <td>8074.0</td>\n",
       "      <td>0</td>\n",
       "      <td>1.0</td>\n",
       "      <td>735350</td>\n",
       "    </tr>\n",
       "    <tr>\n",
       "      <th>11998</th>\n",
       "      <td>11999</td>\n",
       "      <td>PERSONAL_PROJECTS</td>\n",
       "      <td>0</td>\n",
       "      <td>0</td>\n",
       "      <td>6</td>\n",
       "      <td>0.0</td>\n",
       "      <td>0</td>\n",
       "      <td>1.0</td>\n",
       "      <td>734654</td>\n",
       "    </tr>\n",
       "    <tr>\n",
       "      <th>11999</th>\n",
       "      <td>12000</td>\n",
       "      <td>SIGNUP</td>\n",
       "      <td>0</td>\n",
       "      <td>1</td>\n",
       "      <td>0</td>\n",
       "      <td>0.0</td>\n",
       "      <td>0</td>\n",
       "      <td>1.0</td>\n",
       "      <td>735259</td>\n",
       "    </tr>\n",
       "  </tbody>\n",
       "</table>\n",
       "<p>12000 rows × 9 columns</p>\n",
       "</div>"
      ],
      "text/plain": [
       "       object_id     creation_source  opted_in_to_mailing_list  \\\n",
       "0              1        GUEST_INVITE                         1   \n",
       "1              2          ORG_INVITE                         0   \n",
       "2              3          ORG_INVITE                         0   \n",
       "3              4        GUEST_INVITE                         0   \n",
       "4              5        GUEST_INVITE                         0   \n",
       "...          ...                 ...                       ...   \n",
       "11995      11996          ORG_INVITE                         0   \n",
       "11996      11997  SIGNUP_GOOGLE_AUTH                         0   \n",
       "11997      11998        GUEST_INVITE                         1   \n",
       "11998      11999   PERSONAL_PROJECTS                         0   \n",
       "11999      12000              SIGNUP                         0   \n",
       "\n",
       "       enabled_for_marketing_drip  org_id  invited_by_user_id adoption_status  \\\n",
       "0                               0      11             10803.0               0   \n",
       "1                               0       1               316.0               1   \n",
       "2                               0      94              1525.0               0   \n",
       "3                               0       1              5151.0               0   \n",
       "4                               0     193              5240.0               0   \n",
       "...                           ...     ...                 ...             ...   \n",
       "11995                           0      89              8263.0               0   \n",
       "11996                           0     200                 0.0               0   \n",
       "11997                           1      83              8074.0               0   \n",
       "11998                           0       6                 0.0               0   \n",
       "11999                           1       0                 0.0               0   \n",
       "\n",
       "       visits  oridinal_creation_date  \n",
       "0         1.0                  735345  \n",
       "1        14.0                  735187  \n",
       "2         1.0                  734946  \n",
       "3         1.0                  735009  \n",
       "4         1.0                  734885  \n",
       "...       ...                     ...  \n",
       "11995     1.0                  735117  \n",
       "11996     1.0                  734878  \n",
       "11997     1.0                  735350  \n",
       "11998     1.0                  734654  \n",
       "11999     1.0                  735259  \n",
       "\n",
       "[12000 rows x 9 columns]"
      ]
     },
     "execution_count": 120,
     "metadata": {},
     "output_type": "execute_result"
    }
   ],
   "source": [
    "users_df"
   ]
  },
  {
   "cell_type": "code",
   "execution_count": 121,
   "id": "accessible-clarity",
   "metadata": {},
   "outputs": [
    {
     "data": {
      "text/plain": [
       "2565"
      ]
     },
     "execution_count": 121,
     "metadata": {},
     "output_type": "execute_result"
    }
   ],
   "source": [
    "len(users_df.invited_by_user_id.unique())"
   ]
  },
  {
   "cell_type": "markdown",
   "id": "separate-partner",
   "metadata": {},
   "source": [
    "### One Hot encoding categorical columns"
   ]
  },
  {
   "cell_type": "code",
   "execution_count": 133,
   "id": "hispanic-waterproof",
   "metadata": {},
   "outputs": [],
   "source": [
    "to_dummy =users_df[['creation_source','org_id','invited_by_user_id']]"
   ]
  },
  {
   "cell_type": "code",
   "execution_count": 134,
   "id": "designing-naples",
   "metadata": {},
   "outputs": [
    {
     "data": {
      "text/html": [
       "<div>\n",
       "<style scoped>\n",
       "    .dataframe tbody tr th:only-of-type {\n",
       "        vertical-align: middle;\n",
       "    }\n",
       "\n",
       "    .dataframe tbody tr th {\n",
       "        vertical-align: top;\n",
       "    }\n",
       "\n",
       "    .dataframe thead th {\n",
       "        text-align: right;\n",
       "    }\n",
       "</style>\n",
       "<table border=\"1\" class=\"dataframe\">\n",
       "  <thead>\n",
       "    <tr style=\"text-align: right;\">\n",
       "      <th></th>\n",
       "      <th>creation_source</th>\n",
       "      <th>org_id</th>\n",
       "      <th>invited_by_user_id</th>\n",
       "    </tr>\n",
       "  </thead>\n",
       "  <tbody>\n",
       "    <tr>\n",
       "      <th>0</th>\n",
       "      <td>GUEST_INVITE</td>\n",
       "      <td>11</td>\n",
       "      <td>10803.0</td>\n",
       "    </tr>\n",
       "    <tr>\n",
       "      <th>1</th>\n",
       "      <td>ORG_INVITE</td>\n",
       "      <td>1</td>\n",
       "      <td>316.0</td>\n",
       "    </tr>\n",
       "    <tr>\n",
       "      <th>2</th>\n",
       "      <td>ORG_INVITE</td>\n",
       "      <td>94</td>\n",
       "      <td>1525.0</td>\n",
       "    </tr>\n",
       "    <tr>\n",
       "      <th>3</th>\n",
       "      <td>GUEST_INVITE</td>\n",
       "      <td>1</td>\n",
       "      <td>5151.0</td>\n",
       "    </tr>\n",
       "    <tr>\n",
       "      <th>4</th>\n",
       "      <td>GUEST_INVITE</td>\n",
       "      <td>193</td>\n",
       "      <td>5240.0</td>\n",
       "    </tr>\n",
       "    <tr>\n",
       "      <th>...</th>\n",
       "      <td>...</td>\n",
       "      <td>...</td>\n",
       "      <td>...</td>\n",
       "    </tr>\n",
       "    <tr>\n",
       "      <th>11995</th>\n",
       "      <td>ORG_INVITE</td>\n",
       "      <td>89</td>\n",
       "      <td>8263.0</td>\n",
       "    </tr>\n",
       "    <tr>\n",
       "      <th>11996</th>\n",
       "      <td>SIGNUP_GOOGLE_AUTH</td>\n",
       "      <td>200</td>\n",
       "      <td>0.0</td>\n",
       "    </tr>\n",
       "    <tr>\n",
       "      <th>11997</th>\n",
       "      <td>GUEST_INVITE</td>\n",
       "      <td>83</td>\n",
       "      <td>8074.0</td>\n",
       "    </tr>\n",
       "    <tr>\n",
       "      <th>11998</th>\n",
       "      <td>PERSONAL_PROJECTS</td>\n",
       "      <td>6</td>\n",
       "      <td>0.0</td>\n",
       "    </tr>\n",
       "    <tr>\n",
       "      <th>11999</th>\n",
       "      <td>SIGNUP</td>\n",
       "      <td>0</td>\n",
       "      <td>0.0</td>\n",
       "    </tr>\n",
       "  </tbody>\n",
       "</table>\n",
       "<p>12000 rows × 3 columns</p>\n",
       "</div>"
      ],
      "text/plain": [
       "          creation_source  org_id  invited_by_user_id\n",
       "0            GUEST_INVITE      11             10803.0\n",
       "1              ORG_INVITE       1               316.0\n",
       "2              ORG_INVITE      94              1525.0\n",
       "3            GUEST_INVITE       1              5151.0\n",
       "4            GUEST_INVITE     193              5240.0\n",
       "...                   ...     ...                 ...\n",
       "11995          ORG_INVITE      89              8263.0\n",
       "11996  SIGNUP_GOOGLE_AUTH     200                 0.0\n",
       "11997        GUEST_INVITE      83              8074.0\n",
       "11998   PERSONAL_PROJECTS       6                 0.0\n",
       "11999              SIGNUP       0                 0.0\n",
       "\n",
       "[12000 rows x 3 columns]"
      ]
     },
     "execution_count": 134,
     "metadata": {},
     "output_type": "execute_result"
    }
   ],
   "source": [
    "to_dummy"
   ]
  },
  {
   "cell_type": "code",
   "execution_count": 138,
   "id": "virtual-appliance",
   "metadata": {
    "scrolled": false
   },
   "outputs": [],
   "source": [
    "dummy = pd.get_dummies(to_dummy, columns=['creation_source','org_id','invited_by_user_id'],)\n"
   ]
  },
  {
   "cell_type": "code",
   "execution_count": 139,
   "id": "corrected-bleeding",
   "metadata": {},
   "outputs": [
    {
     "data": {
      "text/plain": [
       "Index(['creation_source_GUEST_INVITE', 'creation_source_ORG_INVITE',\n",
       "       'creation_source_PERSONAL_PROJECTS', 'creation_source_SIGNUP',\n",
       "       'creation_source_SIGNUP_GOOGLE_AUTH', 'org_id_0', 'org_id_1',\n",
       "       'org_id_2', 'org_id_3', 'org_id_4',\n",
       "       ...\n",
       "       'invited_by_user_id_11966.0', 'invited_by_user_id_11972.0',\n",
       "       'invited_by_user_id_11973.0', 'invited_by_user_id_11974.0',\n",
       "       'invited_by_user_id_11978.0', 'invited_by_user_id_11981.0',\n",
       "       'invited_by_user_id_11986.0', 'invited_by_user_id_11994.0',\n",
       "       'invited_by_user_id_11997.0', 'invited_by_user_id_11999.0'],\n",
       "      dtype='object', length=2987)"
      ]
     },
     "execution_count": 139,
     "metadata": {},
     "output_type": "execute_result"
    }
   ],
   "source": [
    "dummy.columns"
   ]
  },
  {
   "cell_type": "code",
   "execution_count": 140,
   "id": "romantic-nerve",
   "metadata": {},
   "outputs": [
    {
     "data": {
      "text/html": [
       "<div>\n",
       "<style scoped>\n",
       "    .dataframe tbody tr th:only-of-type {\n",
       "        vertical-align: middle;\n",
       "    }\n",
       "\n",
       "    .dataframe tbody tr th {\n",
       "        vertical-align: top;\n",
       "    }\n",
       "\n",
       "    .dataframe thead th {\n",
       "        text-align: right;\n",
       "    }\n",
       "</style>\n",
       "<table border=\"1\" class=\"dataframe\">\n",
       "  <thead>\n",
       "    <tr style=\"text-align: right;\">\n",
       "      <th></th>\n",
       "      <th>creation_source_GUEST_INVITE</th>\n",
       "      <th>creation_source_ORG_INVITE</th>\n",
       "      <th>creation_source_PERSONAL_PROJECTS</th>\n",
       "      <th>creation_source_SIGNUP</th>\n",
       "      <th>creation_source_SIGNUP_GOOGLE_AUTH</th>\n",
       "      <th>org_id_0</th>\n",
       "      <th>org_id_1</th>\n",
       "      <th>org_id_2</th>\n",
       "      <th>org_id_3</th>\n",
       "      <th>org_id_4</th>\n",
       "      <th>...</th>\n",
       "      <th>invited_by_user_id_11966.0</th>\n",
       "      <th>invited_by_user_id_11972.0</th>\n",
       "      <th>invited_by_user_id_11973.0</th>\n",
       "      <th>invited_by_user_id_11974.0</th>\n",
       "      <th>invited_by_user_id_11978.0</th>\n",
       "      <th>invited_by_user_id_11981.0</th>\n",
       "      <th>invited_by_user_id_11986.0</th>\n",
       "      <th>invited_by_user_id_11994.0</th>\n",
       "      <th>invited_by_user_id_11997.0</th>\n",
       "      <th>invited_by_user_id_11999.0</th>\n",
       "    </tr>\n",
       "  </thead>\n",
       "  <tbody>\n",
       "    <tr>\n",
       "      <th>0</th>\n",
       "      <td>1</td>\n",
       "      <td>0</td>\n",
       "      <td>0</td>\n",
       "      <td>0</td>\n",
       "      <td>0</td>\n",
       "      <td>0</td>\n",
       "      <td>0</td>\n",
       "      <td>0</td>\n",
       "      <td>0</td>\n",
       "      <td>0</td>\n",
       "      <td>...</td>\n",
       "      <td>0</td>\n",
       "      <td>0</td>\n",
       "      <td>0</td>\n",
       "      <td>0</td>\n",
       "      <td>0</td>\n",
       "      <td>0</td>\n",
       "      <td>0</td>\n",
       "      <td>0</td>\n",
       "      <td>0</td>\n",
       "      <td>0</td>\n",
       "    </tr>\n",
       "    <tr>\n",
       "      <th>1</th>\n",
       "      <td>0</td>\n",
       "      <td>1</td>\n",
       "      <td>0</td>\n",
       "      <td>0</td>\n",
       "      <td>0</td>\n",
       "      <td>0</td>\n",
       "      <td>1</td>\n",
       "      <td>0</td>\n",
       "      <td>0</td>\n",
       "      <td>0</td>\n",
       "      <td>...</td>\n",
       "      <td>0</td>\n",
       "      <td>0</td>\n",
       "      <td>0</td>\n",
       "      <td>0</td>\n",
       "      <td>0</td>\n",
       "      <td>0</td>\n",
       "      <td>0</td>\n",
       "      <td>0</td>\n",
       "      <td>0</td>\n",
       "      <td>0</td>\n",
       "    </tr>\n",
       "    <tr>\n",
       "      <th>2</th>\n",
       "      <td>0</td>\n",
       "      <td>1</td>\n",
       "      <td>0</td>\n",
       "      <td>0</td>\n",
       "      <td>0</td>\n",
       "      <td>0</td>\n",
       "      <td>0</td>\n",
       "      <td>0</td>\n",
       "      <td>0</td>\n",
       "      <td>0</td>\n",
       "      <td>...</td>\n",
       "      <td>0</td>\n",
       "      <td>0</td>\n",
       "      <td>0</td>\n",
       "      <td>0</td>\n",
       "      <td>0</td>\n",
       "      <td>0</td>\n",
       "      <td>0</td>\n",
       "      <td>0</td>\n",
       "      <td>0</td>\n",
       "      <td>0</td>\n",
       "    </tr>\n",
       "    <tr>\n",
       "      <th>3</th>\n",
       "      <td>1</td>\n",
       "      <td>0</td>\n",
       "      <td>0</td>\n",
       "      <td>0</td>\n",
       "      <td>0</td>\n",
       "      <td>0</td>\n",
       "      <td>1</td>\n",
       "      <td>0</td>\n",
       "      <td>0</td>\n",
       "      <td>0</td>\n",
       "      <td>...</td>\n",
       "      <td>0</td>\n",
       "      <td>0</td>\n",
       "      <td>0</td>\n",
       "      <td>0</td>\n",
       "      <td>0</td>\n",
       "      <td>0</td>\n",
       "      <td>0</td>\n",
       "      <td>0</td>\n",
       "      <td>0</td>\n",
       "      <td>0</td>\n",
       "    </tr>\n",
       "    <tr>\n",
       "      <th>4</th>\n",
       "      <td>1</td>\n",
       "      <td>0</td>\n",
       "      <td>0</td>\n",
       "      <td>0</td>\n",
       "      <td>0</td>\n",
       "      <td>0</td>\n",
       "      <td>0</td>\n",
       "      <td>0</td>\n",
       "      <td>0</td>\n",
       "      <td>0</td>\n",
       "      <td>...</td>\n",
       "      <td>0</td>\n",
       "      <td>0</td>\n",
       "      <td>0</td>\n",
       "      <td>0</td>\n",
       "      <td>0</td>\n",
       "      <td>0</td>\n",
       "      <td>0</td>\n",
       "      <td>0</td>\n",
       "      <td>0</td>\n",
       "      <td>0</td>\n",
       "    </tr>\n",
       "    <tr>\n",
       "      <th>...</th>\n",
       "      <td>...</td>\n",
       "      <td>...</td>\n",
       "      <td>...</td>\n",
       "      <td>...</td>\n",
       "      <td>...</td>\n",
       "      <td>...</td>\n",
       "      <td>...</td>\n",
       "      <td>...</td>\n",
       "      <td>...</td>\n",
       "      <td>...</td>\n",
       "      <td>...</td>\n",
       "      <td>...</td>\n",
       "      <td>...</td>\n",
       "      <td>...</td>\n",
       "      <td>...</td>\n",
       "      <td>...</td>\n",
       "      <td>...</td>\n",
       "      <td>...</td>\n",
       "      <td>...</td>\n",
       "      <td>...</td>\n",
       "      <td>...</td>\n",
       "    </tr>\n",
       "    <tr>\n",
       "      <th>11995</th>\n",
       "      <td>0</td>\n",
       "      <td>1</td>\n",
       "      <td>0</td>\n",
       "      <td>0</td>\n",
       "      <td>0</td>\n",
       "      <td>0</td>\n",
       "      <td>0</td>\n",
       "      <td>0</td>\n",
       "      <td>0</td>\n",
       "      <td>0</td>\n",
       "      <td>...</td>\n",
       "      <td>0</td>\n",
       "      <td>0</td>\n",
       "      <td>0</td>\n",
       "      <td>0</td>\n",
       "      <td>0</td>\n",
       "      <td>0</td>\n",
       "      <td>0</td>\n",
       "      <td>0</td>\n",
       "      <td>0</td>\n",
       "      <td>0</td>\n",
       "    </tr>\n",
       "    <tr>\n",
       "      <th>11996</th>\n",
       "      <td>0</td>\n",
       "      <td>0</td>\n",
       "      <td>0</td>\n",
       "      <td>0</td>\n",
       "      <td>1</td>\n",
       "      <td>0</td>\n",
       "      <td>0</td>\n",
       "      <td>0</td>\n",
       "      <td>0</td>\n",
       "      <td>0</td>\n",
       "      <td>...</td>\n",
       "      <td>0</td>\n",
       "      <td>0</td>\n",
       "      <td>0</td>\n",
       "      <td>0</td>\n",
       "      <td>0</td>\n",
       "      <td>0</td>\n",
       "      <td>0</td>\n",
       "      <td>0</td>\n",
       "      <td>0</td>\n",
       "      <td>0</td>\n",
       "    </tr>\n",
       "    <tr>\n",
       "      <th>11997</th>\n",
       "      <td>1</td>\n",
       "      <td>0</td>\n",
       "      <td>0</td>\n",
       "      <td>0</td>\n",
       "      <td>0</td>\n",
       "      <td>0</td>\n",
       "      <td>0</td>\n",
       "      <td>0</td>\n",
       "      <td>0</td>\n",
       "      <td>0</td>\n",
       "      <td>...</td>\n",
       "      <td>0</td>\n",
       "      <td>0</td>\n",
       "      <td>0</td>\n",
       "      <td>0</td>\n",
       "      <td>0</td>\n",
       "      <td>0</td>\n",
       "      <td>0</td>\n",
       "      <td>0</td>\n",
       "      <td>0</td>\n",
       "      <td>0</td>\n",
       "    </tr>\n",
       "    <tr>\n",
       "      <th>11998</th>\n",
       "      <td>0</td>\n",
       "      <td>0</td>\n",
       "      <td>1</td>\n",
       "      <td>0</td>\n",
       "      <td>0</td>\n",
       "      <td>0</td>\n",
       "      <td>0</td>\n",
       "      <td>0</td>\n",
       "      <td>0</td>\n",
       "      <td>0</td>\n",
       "      <td>...</td>\n",
       "      <td>0</td>\n",
       "      <td>0</td>\n",
       "      <td>0</td>\n",
       "      <td>0</td>\n",
       "      <td>0</td>\n",
       "      <td>0</td>\n",
       "      <td>0</td>\n",
       "      <td>0</td>\n",
       "      <td>0</td>\n",
       "      <td>0</td>\n",
       "    </tr>\n",
       "    <tr>\n",
       "      <th>11999</th>\n",
       "      <td>0</td>\n",
       "      <td>0</td>\n",
       "      <td>0</td>\n",
       "      <td>1</td>\n",
       "      <td>0</td>\n",
       "      <td>1</td>\n",
       "      <td>0</td>\n",
       "      <td>0</td>\n",
       "      <td>0</td>\n",
       "      <td>0</td>\n",
       "      <td>...</td>\n",
       "      <td>0</td>\n",
       "      <td>0</td>\n",
       "      <td>0</td>\n",
       "      <td>0</td>\n",
       "      <td>0</td>\n",
       "      <td>0</td>\n",
       "      <td>0</td>\n",
       "      <td>0</td>\n",
       "      <td>0</td>\n",
       "      <td>0</td>\n",
       "    </tr>\n",
       "  </tbody>\n",
       "</table>\n",
       "<p>12000 rows × 2987 columns</p>\n",
       "</div>"
      ],
      "text/plain": [
       "       creation_source_GUEST_INVITE  creation_source_ORG_INVITE  \\\n",
       "0                                 1                           0   \n",
       "1                                 0                           1   \n",
       "2                                 0                           1   \n",
       "3                                 1                           0   \n",
       "4                                 1                           0   \n",
       "...                             ...                         ...   \n",
       "11995                             0                           1   \n",
       "11996                             0                           0   \n",
       "11997                             1                           0   \n",
       "11998                             0                           0   \n",
       "11999                             0                           0   \n",
       "\n",
       "       creation_source_PERSONAL_PROJECTS  creation_source_SIGNUP  \\\n",
       "0                                      0                       0   \n",
       "1                                      0                       0   \n",
       "2                                      0                       0   \n",
       "3                                      0                       0   \n",
       "4                                      0                       0   \n",
       "...                                  ...                     ...   \n",
       "11995                                  0                       0   \n",
       "11996                                  0                       0   \n",
       "11997                                  0                       0   \n",
       "11998                                  1                       0   \n",
       "11999                                  0                       1   \n",
       "\n",
       "       creation_source_SIGNUP_GOOGLE_AUTH  org_id_0  org_id_1  org_id_2  \\\n",
       "0                                       0         0         0         0   \n",
       "1                                       0         0         1         0   \n",
       "2                                       0         0         0         0   \n",
       "3                                       0         0         1         0   \n",
       "4                                       0         0         0         0   \n",
       "...                                   ...       ...       ...       ...   \n",
       "11995                                   0         0         0         0   \n",
       "11996                                   1         0         0         0   \n",
       "11997                                   0         0         0         0   \n",
       "11998                                   0         0         0         0   \n",
       "11999                                   0         1         0         0   \n",
       "\n",
       "       org_id_3  org_id_4  ...  invited_by_user_id_11966.0  \\\n",
       "0             0         0  ...                           0   \n",
       "1             0         0  ...                           0   \n",
       "2             0         0  ...                           0   \n",
       "3             0         0  ...                           0   \n",
       "4             0         0  ...                           0   \n",
       "...         ...       ...  ...                         ...   \n",
       "11995         0         0  ...                           0   \n",
       "11996         0         0  ...                           0   \n",
       "11997         0         0  ...                           0   \n",
       "11998         0         0  ...                           0   \n",
       "11999         0         0  ...                           0   \n",
       "\n",
       "       invited_by_user_id_11972.0  invited_by_user_id_11973.0  \\\n",
       "0                               0                           0   \n",
       "1                               0                           0   \n",
       "2                               0                           0   \n",
       "3                               0                           0   \n",
       "4                               0                           0   \n",
       "...                           ...                         ...   \n",
       "11995                           0                           0   \n",
       "11996                           0                           0   \n",
       "11997                           0                           0   \n",
       "11998                           0                           0   \n",
       "11999                           0                           0   \n",
       "\n",
       "       invited_by_user_id_11974.0  invited_by_user_id_11978.0  \\\n",
       "0                               0                           0   \n",
       "1                               0                           0   \n",
       "2                               0                           0   \n",
       "3                               0                           0   \n",
       "4                               0                           0   \n",
       "...                           ...                         ...   \n",
       "11995                           0                           0   \n",
       "11996                           0                           0   \n",
       "11997                           0                           0   \n",
       "11998                           0                           0   \n",
       "11999                           0                           0   \n",
       "\n",
       "       invited_by_user_id_11981.0  invited_by_user_id_11986.0  \\\n",
       "0                               0                           0   \n",
       "1                               0                           0   \n",
       "2                               0                           0   \n",
       "3                               0                           0   \n",
       "4                               0                           0   \n",
       "...                           ...                         ...   \n",
       "11995                           0                           0   \n",
       "11996                           0                           0   \n",
       "11997                           0                           0   \n",
       "11998                           0                           0   \n",
       "11999                           0                           0   \n",
       "\n",
       "       invited_by_user_id_11994.0  invited_by_user_id_11997.0  \\\n",
       "0                               0                           0   \n",
       "1                               0                           0   \n",
       "2                               0                           0   \n",
       "3                               0                           0   \n",
       "4                               0                           0   \n",
       "...                           ...                         ...   \n",
       "11995                           0                           0   \n",
       "11996                           0                           0   \n",
       "11997                           0                           0   \n",
       "11998                           0                           0   \n",
       "11999                           0                           0   \n",
       "\n",
       "       invited_by_user_id_11999.0  \n",
       "0                               0  \n",
       "1                               0  \n",
       "2                               0  \n",
       "3                               0  \n",
       "4                               0  \n",
       "...                           ...  \n",
       "11995                           0  \n",
       "11996                           0  \n",
       "11997                           0  \n",
       "11998                           0  \n",
       "11999                           0  \n",
       "\n",
       "[12000 rows x 2987 columns]"
      ]
     },
     "execution_count": 140,
     "metadata": {},
     "output_type": "execute_result"
    }
   ],
   "source": [
    "dummy"
   ]
  },
  {
   "cell_type": "code",
   "execution_count": 141,
   "id": "bridal-ceiling",
   "metadata": {
    "scrolled": false
   },
   "outputs": [],
   "source": [
    "users_df.drop(columns=['creation_source','org_id','invited_by_user_id', 'object_id'], inplace=True)\n",
    "users_df = users_df.join(dummy, rsuffix='dummy_')\n",
    "\n"
   ]
  },
  {
   "cell_type": "code",
   "execution_count": 144,
   "id": "loose-allowance",
   "metadata": {},
   "outputs": [],
   "source": [
    "X = users_df.drop(['adoption_status'], axis=1)\n",
    "y = users_df['adoption_status']\n",
    "y=y.astype('int')"
   ]
  },
  {
   "cell_type": "code",
   "execution_count": 145,
   "id": "adjacent-computer",
   "metadata": {},
   "outputs": [],
   "source": [
    "X_train, X_test, y_train, y_test = train_test_split(X, y, test_size=.30)"
   ]
  },
  {
   "cell_type": "markdown",
   "id": "collectible-motivation",
   "metadata": {},
   "source": [
    "# Modeling"
   ]
  },
  {
   "cell_type": "code",
   "execution_count": 147,
   "id": "collected-expert",
   "metadata": {},
   "outputs": [],
   "source": [
    "lr = LogisticRegression()\n"
   ]
  },
  {
   "cell_type": "code",
   "execution_count": 148,
   "id": "alternate-arbitration",
   "metadata": {},
   "outputs": [
    {
     "data": {
      "text/plain": [
       "LogisticRegression()"
      ]
     },
     "execution_count": 148,
     "metadata": {},
     "output_type": "execute_result"
    }
   ],
   "source": [
    "lr.fit(X_train, y_train)"
   ]
  },
  {
   "cell_type": "markdown",
   "id": "corrected-optics",
   "metadata": {},
   "source": [
    "# Feature Importance Examination"
   ]
  },
  {
   "cell_type": "code",
   "execution_count": 149,
   "id": "studied-repeat",
   "metadata": {},
   "outputs": [],
   "source": [
    "coefficients = lr.coef_"
   ]
  },
  {
   "cell_type": "code",
   "execution_count": 150,
   "id": "veterinary-funeral",
   "metadata": {},
   "outputs": [
    {
     "data": {
      "text/plain": [
       "array([[ 8.44525585e-05,  9.89322325e-05,  7.75642373e-01, ...,\n",
       "        -2.59756147e-06, -8.65820046e-07, -4.33024750e-06]])"
      ]
     },
     "execution_count": 150,
     "metadata": {},
     "output_type": "execute_result"
    }
   ],
   "source": [
    "coefficients"
   ]
  },
  {
   "cell_type": "code",
   "execution_count": 151,
   "id": "military-cheat",
   "metadata": {},
   "outputs": [],
   "source": [
    "columns = X_train.columns"
   ]
  },
  {
   "cell_type": "code",
   "execution_count": 152,
   "id": "declared-standard",
   "metadata": {},
   "outputs": [],
   "source": [
    "coef_df = pd.DataFrame(zip(list(columns),list(coefficients[0])),columns=['feature','coefficient'])"
   ]
  },
  {
   "cell_type": "code",
   "execution_count": 153,
   "id": "manufactured-chart",
   "metadata": {},
   "outputs": [
    {
     "data": {
      "text/html": [
       "<div>\n",
       "<style scoped>\n",
       "    .dataframe tbody tr th:only-of-type {\n",
       "        vertical-align: middle;\n",
       "    }\n",
       "\n",
       "    .dataframe tbody tr th {\n",
       "        vertical-align: top;\n",
       "    }\n",
       "\n",
       "    .dataframe thead th {\n",
       "        text-align: right;\n",
       "    }\n",
       "</style>\n",
       "<table border=\"1\" class=\"dataframe\">\n",
       "  <thead>\n",
       "    <tr style=\"text-align: right;\">\n",
       "      <th></th>\n",
       "      <th>feature</th>\n",
       "      <th>coefficient</th>\n",
       "    </tr>\n",
       "  </thead>\n",
       "  <tbody>\n",
       "    <tr>\n",
       "      <th>2</th>\n",
       "      <td>visits</td>\n",
       "      <td>0.775642</td>\n",
       "    </tr>\n",
       "    <tr>\n",
       "      <th>4</th>\n",
       "      <td>creation_source_GUEST_INVITE</td>\n",
       "      <td>0.000331</td>\n",
       "    </tr>\n",
       "    <tr>\n",
       "      <th>8</th>\n",
       "      <td>creation_source_SIGNUP_GOOGLE_AUTH</td>\n",
       "      <td>0.000248</td>\n",
       "    </tr>\n",
       "    <tr>\n",
       "      <th>1</th>\n",
       "      <td>enabled_for_marketing_drip</td>\n",
       "      <td>0.000099</td>\n",
       "    </tr>\n",
       "    <tr>\n",
       "      <th>0</th>\n",
       "      <td>opted_in_to_mailing_list</td>\n",
       "      <td>0.000084</td>\n",
       "    </tr>\n",
       "    <tr>\n",
       "      <th>227</th>\n",
       "      <td>org_id_218</td>\n",
       "      <td>0.000030</td>\n",
       "    </tr>\n",
       "    <tr>\n",
       "      <th>244</th>\n",
       "      <td>org_id_235</td>\n",
       "      <td>0.000030</td>\n",
       "    </tr>\n",
       "    <tr>\n",
       "      <th>91</th>\n",
       "      <td>org_id_82</td>\n",
       "      <td>0.000028</td>\n",
       "    </tr>\n",
       "    <tr>\n",
       "      <th>53</th>\n",
       "      <td>org_id_44</td>\n",
       "      <td>0.000025</td>\n",
       "    </tr>\n",
       "    <tr>\n",
       "      <th>298</th>\n",
       "      <td>org_id_289</td>\n",
       "      <td>0.000025</td>\n",
       "    </tr>\n",
       "    <tr>\n",
       "      <th>71</th>\n",
       "      <td>org_id_62</td>\n",
       "      <td>0.000025</td>\n",
       "    </tr>\n",
       "    <tr>\n",
       "      <th>396</th>\n",
       "      <td>org_id_387</td>\n",
       "      <td>0.000025</td>\n",
       "    </tr>\n",
       "    <tr>\n",
       "      <th>408</th>\n",
       "      <td>org_id_399</td>\n",
       "      <td>0.000024</td>\n",
       "    </tr>\n",
       "    <tr>\n",
       "      <th>70</th>\n",
       "      <td>org_id_61</td>\n",
       "      <td>0.000022</td>\n",
       "    </tr>\n",
       "    <tr>\n",
       "      <th>424</th>\n",
       "      <td>org_id_415</td>\n",
       "      <td>0.000022</td>\n",
       "    </tr>\n",
       "    <tr>\n",
       "      <th>43</th>\n",
       "      <td>org_id_34</td>\n",
       "      <td>0.000022</td>\n",
       "    </tr>\n",
       "    <tr>\n",
       "      <th>305</th>\n",
       "      <td>org_id_296</td>\n",
       "      <td>0.000022</td>\n",
       "    </tr>\n",
       "    <tr>\n",
       "      <th>126</th>\n",
       "      <td>org_id_117</td>\n",
       "      <td>0.000021</td>\n",
       "    </tr>\n",
       "    <tr>\n",
       "      <th>315</th>\n",
       "      <td>org_id_306</td>\n",
       "      <td>0.000021</td>\n",
       "    </tr>\n",
       "    <tr>\n",
       "      <th>352</th>\n",
       "      <td>org_id_343</td>\n",
       "      <td>0.000021</td>\n",
       "    </tr>\n",
       "  </tbody>\n",
       "</table>\n",
       "</div>"
      ],
      "text/plain": [
       "                                feature  coefficient\n",
       "2                                visits     0.775642\n",
       "4          creation_source_GUEST_INVITE     0.000331\n",
       "8    creation_source_SIGNUP_GOOGLE_AUTH     0.000248\n",
       "1            enabled_for_marketing_drip     0.000099\n",
       "0              opted_in_to_mailing_list     0.000084\n",
       "227                          org_id_218     0.000030\n",
       "244                          org_id_235     0.000030\n",
       "91                            org_id_82     0.000028\n",
       "53                            org_id_44     0.000025\n",
       "298                          org_id_289     0.000025\n",
       "71                            org_id_62     0.000025\n",
       "396                          org_id_387     0.000025\n",
       "408                          org_id_399     0.000024\n",
       "70                            org_id_61     0.000022\n",
       "424                          org_id_415     0.000022\n",
       "43                            org_id_34     0.000022\n",
       "305                          org_id_296     0.000022\n",
       "126                          org_id_117     0.000021\n",
       "315                          org_id_306     0.000021\n",
       "352                          org_id_343     0.000021"
      ]
     },
     "execution_count": 153,
     "metadata": {},
     "output_type": "execute_result"
    }
   ],
   "source": [
    "coef_df.sort_values(by='coefficient', ascending=False).head(20)"
   ]
  },
  {
   "cell_type": "markdown",
   "id": "imposed-surveillance",
   "metadata": {},
   "source": [
    "This barplot is laughable. The only predictive feature in this set without further feature engineering is simply number of visits."
   ]
  },
  {
   "cell_type": "code",
   "execution_count": 177,
   "id": "august-heather",
   "metadata": {},
   "outputs": [
    {
     "data": {
      "image/png": "[encoded data removed]",
      "text/plain": [
       "<Figure size 1440x864 with 1 Axes>"
      ]
     },
     "metadata": {},
     "output_type": "display_data"
    }
   ],
   "source": [
    "plt.figure(figsize = (20,12))\n",
    "ax = sns.barplot(x='feature',y='coefficient', data=coef_df.head(20))\n",
    "ax.set_xticklabels(ax.get_xticklabels(),rotation = 45, ha='right')\n",
    "sns.set(font_scale = 2)\n",
    "plt.show()"
   ]
  },
  {
   "cell_type": "code",
   "execution_count": null,
   "id": "engaged-humanitarian",
   "metadata": {},
   "outputs": [],
   "source": []
  }
 ],
 "metadata": {
  "kernelspec": {
   "display_name": "Python 3",
   "language": "python",
   "name": "python3"
  },
  "language_info": {
   "codemirror_mode": {
    "name": "ipython",
    "version": 3
   },
   "file_extension": ".py",
   "mimetype": "text/x-python",
   "name": "python",
   "nbconvert_exporter": "python",
   "pygments_lexer": "ipython3",
   "version": "3.9.1"
  }
 },
 "nbformat": 4,
 "nbformat_minor": 5
}
